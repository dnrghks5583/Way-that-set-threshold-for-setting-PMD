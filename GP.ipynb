{
 "cells": [
  {
   "cell_type": "code",
   "execution_count": 2,
   "id": "949a5f57",
   "metadata": {},
   "outputs": [
    {
     "name": "stdout",
     "output_type": "stream",
     "text": [
      "INFO:tensorflow:Enabling eager execution\n",
      "INFO:tensorflow:Enabling v2 tensorshape\n",
      "INFO:tensorflow:Enabling resource variables\n",
      "INFO:tensorflow:Enabling tensor equality\n",
      "INFO:tensorflow:Enabling control flow v2\n"
     ]
    }
   ],
   "source": [
    "import numpy as np\n",
    "import keras\n",
    "from keras.models import Sequential\n",
    "from keras.layers import Dense, Activation, Conv2D, MaxPooling2D, Dropout, Flatten, BatchNormalization\n",
    "import os\n",
    "from keras.preprocessing import image\n",
    "from tensorflow.keras.utils import to_categorical\n",
    "from sklearn.model_selection import train_test_split\n",
    "img_size = 128"
   ]
  },
  {
   "cell_type": "code",
   "execution_count": 3,
   "id": "9bbd1bb8",
   "metadata": {},
   "outputs": [],
   "source": [
    "def getLabel(input_string):\n",
    "    try:\n",
    "        i=input_string.index('-101')\n",
    "        return input_string[4:i]\n",
    "    except ValueError:\n",
    "        return input_string[4:]"
   ]
  },
  {
   "cell_type": "code",
   "execution_count": 4,
   "id": "bcbec0b0",
   "metadata": {},
   "outputs": [],
   "source": [
    "path = 'C:\\\\Users\\\\pc\\\\Desktop\\\\GP\\\\256_ObjectCategories\\\\256_ObjectCategories\\\\'\n",
    "os.chdir(path)\n",
    "folders = os.listdir()\n",
    "folder_paths = []\n",
    "all_images = []\n",
    "all_classes = []\n",
    "\n",
    "for folder in range(len(folders)):\n",
    "    folder_paths = path+str(folders[folder])+str('\\\\')\n",
    "    os.chdir(folder_paths)\n",
    "    image_in_folder = os.listdir()\n",
    "    label = getLabel(folders[folder])\n",
    "    for i in range(len(image_in_folder)):\n",
    "        img_path = folder_paths+str(image_in_folder[i])\n",
    "        img = image.load_img(img_path, target_size = (64, 64))\n",
    "        img_tensor = image.img_to_array(img)\n",
    "        img_tensor = np.expand_dims(img_tensor, axis = 0)\n",
    "        all_images.extend(img_tensor/255)\n",
    "        all_classes.append(label)"
   ]
  },
  {
   "cell_type": "code",
   "execution_count": 5,
   "id": "c597210c",
   "metadata": {},
   "outputs": [
    {
     "name": "stdout",
     "output_type": "stream",
     "text": [
      "(24485, 64, 64, 3)\n",
      "(24485, 257)\n",
      "(6122, 64, 64, 3)\n",
      "(6122, 257)\n"
     ]
    }
   ],
   "source": [
    "from sklearn.preprocessing import OneHotEncoder\n",
    "onehotencoder = OneHotEncoder()\n",
    "\n",
    "All_images = np.array(all_images)\n",
    "All_classes = np.array(all_classes)\n",
    "X_train, X_test, y_train, y_test = train_test_split(All_images, All_classes, test_size=0.2)\n",
    "X_Train = np.array(X_train)\n",
    "X_Test = np.array(X_test)\n",
    "Y_Train = np.array(y_train)\n",
    "Y_Test = np.array(y_test)\n",
    "Y_Train = onehotencoder.fit_transform(Y_Train.reshape(-1, 1)).toarray()\n",
    "Y_Test = onehotencoder.fit_transform(Y_Test.reshape(-1, 1)).toarray()\n",
    "print(X_Train.shape)\n",
    "print(Y_Train.shape)\n",
    "print(X_Test.shape)\n",
    "print(Y_Test.shape)"
   ]
  },
  {
   "cell_type": "code",
   "execution_count": 6,
   "id": "b672fc1e",
   "metadata": {},
   "outputs": [
    {
     "data": {
      "text/plain": [
       "1188001"
      ]
     },
     "execution_count": 6,
     "metadata": {},
     "output_type": "execute_result"
    }
   ],
   "source": [
    "input_shape = (64, 64, 3)\n",
    "num_classes = 257\n",
    "\n",
    "model = Sequential([\n",
    "    Conv2D(16, (5, 5), strides=(2, 2), padding='same', kernel_initializer='he_uniform', use_bias=False, \n",
    "        input_shape=input_shape), \n",
    "    BatchNormalization(scale=False),\n",
    "    Activation('relu'),\n",
    "    \n",
    "    Conv2D(32, (3, 3), padding='same', kernel_initializer='he_uniform', use_bias=False),   \n",
    "    BatchNormalization(scale=False),\n",
    "    Activation('relu'),\n",
    "    \n",
    "    MaxPooling2D(pool_size=(2, 2), strides=(2, 2), padding='same'),  \n",
    "    Dropout(0.2),\n",
    "\n",
    "    Conv2D(32, (1, 1), padding='same', kernel_initializer='he_uniform', use_bias=False), \n",
    "    BatchNormalization(scale=False),\n",
    "    Activation('relu'),\n",
    "    \n",
    "    MaxPooling2D(pool_size=(2, 2), strides=(2, 2), padding='same'), \n",
    "    Dropout(0.2),\n",
    "    \n",
    "    Flatten(), \n",
    "    Dense(512, kernel_initializer='he_uniform'), \n",
    "    Activation('relu'), \n",
    "    Dropout(0.2),\n",
    "    Dense(num_classes, kernel_initializer='he_uniform'), \n",
    "    Activation('softmax')\n",
    "])\n",
    "\n",
    "model.compile(\n",
    "    loss='categorical_crossentropy',\n",
    "    optimizer=keras.optimizers.Adam(learning_rate=0.001),\n",
    "    metrics=['accuracy']\n",
    ")\n",
    "\n",
    "model.count_params()"
   ]
  },
  {
   "cell_type": "code",
   "execution_count": 7,
   "id": "dc4baf88",
   "metadata": {
    "scrolled": false
   },
   "outputs": [
    {
     "name": "stdout",
     "output_type": "stream",
     "text": [
      "Epoch 1/50\n",
      "192/192 [==============================] - 56s 220ms/step - loss: 5.5326 - accuracy: 0.0538\n",
      "Epoch 2/50\n",
      "192/192 [==============================] - 42s 217ms/step - loss: 4.8146 - accuracy: 0.1080\n",
      "Epoch 3/50\n",
      "192/192 [==============================] - 42s 218ms/step - loss: 4.4982 - accuracy: 0.1376\n",
      "Epoch 4/50\n",
      "192/192 [==============================] - 41s 215ms/step - loss: 4.2987 - accuracy: 0.1600\n",
      "Epoch 5/50\n",
      "192/192 [==============================] - 42s 220ms/step - loss: 4.1479 - accuracy: 0.1776\n",
      "Epoch 6/50\n",
      "192/192 [==============================] - 42s 216ms/step - loss: 4.0498 - accuracy: 0.1859\n",
      "Epoch 7/50\n",
      "192/192 [==============================] - 44s 227ms/step - loss: 3.9411 - accuracy: 0.1987\n",
      "Epoch 8/50\n",
      "192/192 [==============================] - 44s 228ms/step - loss: 3.8625 - accuracy: 0.2046\n",
      "Epoch 9/50\n",
      "192/192 [==============================] - 42s 221ms/step - loss: 3.7981 - accuracy: 0.2162\n",
      "Epoch 10/50\n",
      "192/192 [==============================] - 44s 227ms/step - loss: 3.7587 - accuracy: 0.2166\n",
      "Epoch 11/50\n",
      "192/192 [==============================] - 43s 223ms/step - loss: 3.7205 - accuracy: 0.2288\n",
      "Epoch 12/50\n",
      "192/192 [==============================] - 43s 221ms/step - loss: 3.6580 - accuracy: 0.2377\n",
      "Epoch 13/50\n",
      "192/192 [==============================] - 41s 216ms/step - loss: 3.6215 - accuracy: 0.2382\n",
      "Epoch 14/50\n",
      "192/192 [==============================] - 42s 221ms/step - loss: 3.5612 - accuracy: 0.2468\n",
      "Epoch 15/50\n",
      "192/192 [==============================] - 43s 224ms/step - loss: 3.5259 - accuracy: 0.2575\n",
      "Epoch 16/50\n",
      "192/192 [==============================] - 43s 222ms/step - loss: 3.4739 - accuracy: 0.2627s - los\n",
      "Epoch 17/50\n",
      "192/192 [==============================] - 42s 219ms/step - loss: 3.4384 - accuracy: 0.2616\n",
      "Epoch 18/50\n",
      "192/192 [==============================] - 42s 217ms/step - loss: 3.4509 - accuracy: 0.2586\n",
      "Epoch 19/50\n",
      "192/192 [==============================] - 42s 217ms/step - loss: 3.3824 - accuracy: 0.2769\n",
      "Epoch 20/50\n",
      "192/192 [==============================] - 42s 217ms/step - loss: 3.3770 - accuracy: 0.2721\n",
      "Epoch 21/50\n",
      "192/192 [==============================] - 41s 213ms/step - loss: 3.3263 - accuracy: 0.2807\n",
      "Epoch 22/50\n",
      "192/192 [==============================] - 42s 217ms/step - loss: 3.3083 - accuracy: 0.2808\n",
      "Epoch 23/50\n",
      "192/192 [==============================] - 41s 215ms/step - loss: 3.2606 - accuracy: 0.2895\n",
      "Epoch 24/50\n",
      "192/192 [==============================] - 42s 217ms/step - loss: 3.2497 - accuracy: 0.2890\n",
      "Epoch 25/50\n",
      "192/192 [==============================] - 41s 215ms/step - loss: 3.2025 - accuracy: 0.2991\n",
      "Epoch 26/50\n",
      "192/192 [==============================] - 41s 215ms/step - loss: 3.1473 - accuracy: 0.3106\n",
      "Epoch 27/50\n",
      "192/192 [==============================] - 42s 217ms/step - loss: 3.1805 - accuracy: 0.3025\n",
      "Epoch 28/50\n",
      "192/192 [==============================] - 42s 220ms/step - loss: 3.1245 - accuracy: 0.3124\n",
      "Epoch 29/50\n",
      "192/192 [==============================] - 42s 219ms/step - loss: 3.0902 - accuracy: 0.3165\n",
      "Epoch 30/50\n",
      "192/192 [==============================] - 41s 215ms/step - loss: 3.0738 - accuracy: 0.3175\n",
      "Epoch 31/50\n",
      "192/192 [==============================] - 42s 216ms/step - loss: 3.0605 - accuracy: 0.3195\n",
      "Epoch 32/50\n",
      "192/192 [==============================] - 42s 219ms/step - loss: 3.0224 - accuracy: 0.3224\n",
      "Epoch 33/50\n",
      "192/192 [==============================] - 42s 220ms/step - loss: 2.9833 - accuracy: 0.3306\n",
      "Epoch 34/50\n",
      "192/192 [==============================] - 44s 231ms/step - loss: 2.9582 - accuracy: 0.3378\n",
      "Epoch 35/50\n",
      "192/192 [==============================] - 48s 248ms/step - loss: 2.9060 - accuracy: 0.3391\n",
      "Epoch 36/50\n",
      "192/192 [==============================] - 45s 233ms/step - loss: 2.8678 - accuracy: 0.3506\n",
      "Epoch 37/50\n",
      "192/192 [==============================] - 43s 223ms/step - loss: 2.8672 - accuracy: 0.3499\n",
      "Epoch 38/50\n",
      "192/192 [==============================] - 43s 223ms/step - loss: 2.8219 - accuracy: 0.3537\n",
      "Epoch 39/50\n",
      "192/192 [==============================] - 42s 220ms/step - loss: 2.7962 - accuracy: 0.3676\n",
      "Epoch 40/50\n",
      "192/192 [==============================] - 43s 223ms/step - loss: 2.7517 - accuracy: 0.3675\n",
      "Epoch 41/50\n",
      "192/192 [==============================] - 42s 220ms/step - loss: 2.7247 - accuracy: 0.3700\n",
      "Epoch 42/50\n",
      "192/192 [==============================] - 44s 229ms/step - loss: 2.7005 - accuracy: 0.3789\n",
      "Epoch 43/50\n",
      "192/192 [==============================] - 43s 223ms/step - loss: 2.6650 - accuracy: 0.3844\n",
      "Epoch 44/50\n",
      "192/192 [==============================] - 44s 227ms/step - loss: 2.6407 - accuracy: 0.3878\n",
      "Epoch 45/50\n",
      "192/192 [==============================] - 42s 220ms/step - loss: 2.6022 - accuracy: 0.3921\n",
      "Epoch 46/50\n",
      "192/192 [==============================] - 42s 218ms/step - loss: 2.5969 - accuracy: 0.3957\n",
      "Epoch 47/50\n",
      "192/192 [==============================] - 42s 220ms/step - loss: 2.5675 - accuracy: 0.4000\n",
      "Epoch 48/50\n",
      "192/192 [==============================] - 43s 223ms/step - loss: 2.5169 - accuracy: 0.4102\n",
      "Epoch 49/50\n",
      "192/192 [==============================] - 42s 217ms/step - loss: 2.4935 - accuracy: 0.4123\n",
      "Epoch 50/50\n",
      "192/192 [==============================] - 42s 218ms/step - loss: 2.4707 - accuracy: 0.4154\n"
     ]
    },
    {
     "data": {
      "text/plain": [
       "<keras.callbacks.History at 0x1cf6746b040>"
      ]
     },
     "execution_count": 7,
     "metadata": {},
     "output_type": "execute_result"
    }
   ],
   "source": [
    "model.fit(X_Train, Y_Train, batch_size = 128, epochs = 50)"
   ]
  },
  {
   "cell_type": "code",
   "execution_count": 8,
   "id": "da09025b",
   "metadata": {},
   "outputs": [
    {
     "name": "stdout",
     "output_type": "stream",
     "text": [
      "192/192 [==============================] - 3s 10ms/step - loss: 3.7115 - accuracy: 0.2814\n",
      "3.711475133895874\n",
      "0.2814439833164215\n"
     ]
    }
   ],
   "source": [
    "test_loss, test_acc = model.evaluate(X_Test, Y_Test)\n",
    "print(test_loss)\n",
    "print(test_acc)"
   ]
  },
  {
   "cell_type": "code",
   "execution_count": null,
   "id": "c18614bb",
   "metadata": {},
   "outputs": [],
   "source": []
  }
 ],
 "metadata": {
  "kernelspec": {
   "display_name": "Python 3",
   "language": "python",
   "name": "python3"
  },
  "language_info": {
   "codemirror_mode": {
    "name": "ipython",
    "version": 3
   },
   "file_extension": ".py",
   "mimetype": "text/x-python",
   "name": "python",
   "nbconvert_exporter": "python",
   "pygments_lexer": "ipython3",
   "version": "3.9.4"
  }
 },
 "nbformat": 4,
 "nbformat_minor": 5
}
