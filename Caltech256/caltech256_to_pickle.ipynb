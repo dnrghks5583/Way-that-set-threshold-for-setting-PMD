{
 "cells": [
  {
   "cell_type": "code",
   "execution_count": 1,
   "id": "6c57b76a",
   "metadata": {},
   "outputs": [],
   "source": [
    "import os\n",
    "import pathlib\n",
    "import numpy as np\n",
    "from tensorflow.keras import *\n",
    "from tensorflow.keras.models import Model, Sequential\n",
    "from tensorflow.keras.layers import Dense, Activation, Conv2D, MaxPooling2D, Dropout, Flatten, BatchNormalization, Input, Add, ReLU, AveragePooling2D, GlobalAveragePooling2D, ZeroPadding2D\n",
    "from tensorflow.keras.applications.resnet50 import ResNet50\n",
    "from keras.preprocessing import image\n",
    "\n",
    "path = 'C:\\\\Users\\\\USER\\\\Desktop\\\\GP\\\\256_ObjectCategories\\\\256_ObjectCategories\\\\'\n",
    "image_size = (128, 128)"
   ]
  },
  {
   "cell_type": "code",
   "execution_count": 2,
   "id": "a56dc9a6",
   "metadata": {},
   "outputs": [
    {
     "name": "stdout",
     "output_type": "stream",
     "text": [
      "30607\n"
     ]
    }
   ],
   "source": [
    "os.chdir(path)\n",
    "folders = os.listdir()\n",
    "folder_paths = []\n",
    "X = []\n",
    "Y = []\n",
    "\n",
    "for folder in range(len(folders)):\n",
    "    folder_paths = path+str(folders[folder]) + str('\\\\')\n",
    "    os.chdir(folder_paths)\n",
    "    image_in_folder = os.listdir()\n",
    "    \n",
    "    for i in range(len(image_in_folder)):\n",
    "        img = image.load_img(str(image_in_folder[i]), target_size = image_size)\n",
    "        img = image.img_to_array(img)\n",
    "        #all_images.append(img.flatten()/255.0)\n",
    "        X.append(img)\n",
    "        Y.append(folder)\n",
    "\n",
    "print(len(X))"
   ]
  },
  {
   "cell_type": "code",
   "execution_count": 3,
   "id": "f222d138",
   "metadata": {},
   "outputs": [
    {
     "name": "stdout",
     "output_type": "stream",
     "text": [
      "(30607, 128, 128, 3)\n",
      "(30607,)\n"
     ]
    }
   ],
   "source": [
    "from sklearn.model_selection import train_test_split\n",
    "\n",
    "X = np.array(X)\n",
    "Y = np.array(Y)\n",
    "\n",
    "print(X.shape)\n",
    "print(Y.shape)\n",
    "\n",
    "x_train, x_test, y_train, y_test = train_test_split(X,\n",
    "                                                    Y,\n",
    "                                                    test_size = 0.2,\n",
    "                                                    shuffle = True)"
   ]
  },
  {
   "cell_type": "code",
   "execution_count": 4,
   "id": "5fcc889f",
   "metadata": {},
   "outputs": [
    {
     "name": "stdout",
     "output_type": "stream",
     "text": [
      "(24485, 257)\n"
     ]
    }
   ],
   "source": [
    "from keras.utils import np_utils\n",
    "# one-hot encoding\n",
    "\n",
    "y_train = np_utils.to_categorical(y_train)\n",
    "y_test  = np_utils.to_categorical(y_test )\n",
    "print(y_train.shape)"
   ]
  },
  {
   "cell_type": "code",
   "execution_count": 5,
   "id": "311993ea",
   "metadata": {},
   "outputs": [
    {
     "name": "stdout",
     "output_type": "stream",
     "text": [
      "start\n",
      "done\n",
      "done\n",
      "done\n",
      "done\n"
     ]
    }
   ],
   "source": [
    "import gzip\n",
    "import pickle\n",
    "##save\n",
    "os.chdir('C:\\\\Users\\\\USER\\\\Desktop\\\\GP\\\\pickle_256')\n",
    "print(\"start\")\n",
    "\n",
    "with gzip.open('caltech256_y_trainData.pickle', 'wb') as f:\n",
    "    pickle.dump(y_train, f)\n",
    "print(\"done\")    \n",
    "with gzip.open('caltech256_y_testData.pickle', 'wb') as f:\n",
    "    pickle.dump(y_test,f)\n",
    "print(\"done\")\n",
    "with gzip.open('caltech256_x_trainData.pickle', 'wb') as f:\n",
    "    pickle.dump(x_train, f)\n",
    "print(\"done\")    \n",
    "with gzip.open('caltech256_x_testData.pickle', 'wb') as f:\n",
    "    pickle.dump(x_test,f)    \n",
    "print(\"done\")    "
   ]
  },
  {
   "cell_type": "code",
   "execution_count": null,
   "id": "f8074640",
   "metadata": {},
   "outputs": [],
   "source": []
  }
 ],
 "metadata": {
  "kernelspec": {
   "display_name": "Python 3",
   "language": "python",
   "name": "python3"
  },
  "language_info": {
   "codemirror_mode": {
    "name": "ipython",
    "version": 3
   },
   "file_extension": ".py",
   "mimetype": "text/x-python",
   "name": "python",
   "nbconvert_exporter": "python",
   "pygments_lexer": "ipython3",
   "version": "3.8.8"
  }
 },
 "nbformat": 4,
 "nbformat_minor": 5
}
