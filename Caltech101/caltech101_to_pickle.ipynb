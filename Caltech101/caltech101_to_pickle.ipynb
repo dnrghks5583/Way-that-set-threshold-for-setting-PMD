{
 "cells": [
  {
   "cell_type": "code",
   "execution_count": 9,
   "id": "9560f72b",
   "metadata": {},
   "outputs": [],
   "source": [
    "import os\n",
    "import pathlib\n",
    "import numpy as np\n",
    "from tensorflow.keras import *\n",
    "from tensorflow.keras.models import Model, Sequential\n",
    "from tensorflow.keras.layers import Dense, Activation, Conv2D, MaxPooling2D, Dropout, Flatten, BatchNormalization, Input, Add, ReLU, AveragePooling2D, GlobalAveragePooling2D, ZeroPadding2D\n",
    "from tensorflow.keras.applications.resnet50 import ResNet50\n",
    "from keras.preprocessing import image\n",
    "\n",
    "path = 'C:\\\\Users\\\\pc\\\\Desktop\\\\GP\\\\101_ObjectCategories\\\\101_ObjectCategories\\\\'\n",
    "image_size = (128, 128)\n",
    "input_shape = (128, 128, 3)\n",
    "num_classes = 102"
   ]
  },
  {
   "cell_type": "code",
   "execution_count": 10,
   "id": "219ee4a5",
   "metadata": {},
   "outputs": [
    {
     "name": "stdout",
     "output_type": "stream",
     "text": [
      "9145\n",
      "9145\n"
     ]
    }
   ],
   "source": [
    "os.chdir(path)\n",
    "folders = os.listdir()\n",
    "folder_paths = []\n",
    "X = []\n",
    "Y = []\n",
    "\n",
    "for folder in range(len(folders)):\n",
    "    folder_paths = path+str(folders[folder]) + str('\\\\')\n",
    "    os.chdir(folder_paths)\n",
    "    image_in_folder = os.listdir()\n",
    "    \n",
    "    for i in range(len(image_in_folder)):\n",
    "        img = image.load_img(str(image_in_folder[i]), target_size = image_size)\n",
    "        img = image.img_to_array(img)\n",
    "        #all_images.append(img.flatten()/255.0)\n",
    "        X.append(img)\n",
    "        Y.append(folder)\n",
    "\n",
    "print(len(X))\n",
    "print(len(Y))"
   ]
  },
  {
   "cell_type": "code",
   "execution_count": 11,
   "id": "dcc9bce1",
   "metadata": {},
   "outputs": [
    {
     "name": "stdout",
     "output_type": "stream",
     "text": [
      "(9145, 128, 128, 3)\n",
      "(9145,)\n"
     ]
    }
   ],
   "source": [
    "from sklearn.model_selection import train_test_split\n",
    "\n",
    "X = np.array(X)\n",
    "Y = np.array(Y)\n",
    "\n",
    "print(X.shape)\n",
    "print(Y.shape)\n",
    "\n",
    "x_train, x_test, y_train, y_test = train_test_split(X,\n",
    "                                                    Y,\n",
    "                                                    test_size = 0.2,\n",
    "                                                    shuffle = True)"
   ]
  },
  {
   "cell_type": "code",
   "execution_count": 12,
   "id": "dd23a880",
   "metadata": {
    "scrolled": true
   },
   "outputs": [
    {
     "name": "stdout",
     "output_type": "stream",
     "text": [
      "7316\n",
      "1829\n"
     ]
    }
   ],
   "source": [
    "print(len(x_train))\n",
    "print(len(x_test ))"
   ]
  },
  {
   "cell_type": "code",
   "execution_count": 13,
   "id": "89c3c4e0",
   "metadata": {},
   "outputs": [
    {
     "name": "stdout",
     "output_type": "stream",
     "text": [
      "(7316, 102)\n"
     ]
    }
   ],
   "source": [
    "from keras.utils import np_utils\n",
    "# one-hot encoding\n",
    "\n",
    "y_train = np_utils.to_categorical(y_train)\n",
    "y_test  = np_utils.to_categorical(y_test )\n",
    "print(y_train.shape)"
   ]
  },
  {
   "cell_type": "code",
   "execution_count": 14,
   "id": "53d8a457",
   "metadata": {},
   "outputs": [
    {
     "name": "stdout",
     "output_type": "stream",
     "text": [
      "start\n",
      "done\n",
      "done\n",
      "done\n",
      "done\n"
     ]
    }
   ],
   "source": [
    "import gzip\n",
    "import pickle\n",
    "##save\n",
    "os.chdir('C:\\\\Users\\\\pc\\\\Desktop\\\\GP\\\\caltech101-pickle')\n",
    "print(\"start\")\n",
    "\n",
    "with gzip.open('caltech101_y_trainData.pickle', 'wb') as f:\n",
    "    pickle.dump(y_train, f)\n",
    "print(\"done\")    \n",
    "with gzip.open('caltech101_y_testData.pickle', 'wb') as f:\n",
    "    pickle.dump(y_test,f)\n",
    "print(\"done\")\n",
    "with gzip.open('caltech101_x_trainData.pickle', 'wb') as f:\n",
    "    pickle.dump(x_train, f)\n",
    "print(\"done\")    \n",
    "with gzip.open('caltech101_x_testData.pickle', 'wb') as f:\n",
    "    pickle.dump(x_test,f)    \n",
    "print(\"done\")    "
   ]
  },
  {
   "cell_type": "code",
   "execution_count": null,
   "id": "051f2bbc",
   "metadata": {},
   "outputs": [],
   "source": []
  }
 ],
 "metadata": {
  "kernelspec": {
   "display_name": "Python 3",
   "language": "python",
   "name": "python3"
  },
  "language_info": {
   "codemirror_mode": {
    "name": "ipython",
    "version": 3
   },
   "file_extension": ".py",
   "mimetype": "text/x-python",
   "name": "python",
   "nbconvert_exporter": "python",
   "pygments_lexer": "ipython3",
   "version": "3.9.4"
  }
 },
 "nbformat": 4,
 "nbformat_minor": 5
}
