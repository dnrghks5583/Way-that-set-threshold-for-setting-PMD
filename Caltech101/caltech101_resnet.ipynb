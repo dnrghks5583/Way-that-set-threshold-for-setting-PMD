{
  "nbformat": 4,
  "nbformat_minor": 0,
  "metadata": {
    "colab": {
      "name": "caltech101-resnet.ipynb",
      "provenance": [],
      "collapsed_sections": [],
      "authorship_tag": "ABX9TyM7RlrRDgDVpi1njCHiS6er",
      "include_colab_link": true
    },
    "kernelspec": {
      "name": "python3",
      "display_name": "Python 3"
    },
    "language_info": {
      "name": "python"
    },
    "accelerator": "GPU"
  },
  "cells": [
    {
      "cell_type": "markdown",
      "metadata": {
        "id": "view-in-github",
        "colab_type": "text"
      },
      "source": [
        "<a href=\"https://colab.research.google.com/github/dnrghks5583/Way-that-set-threshold-for-setting-PMD/blob/main/caltech101_resnet.ipynb\" target=\"_parent\"><img src=\"https://colab.research.google.com/assets/colab-badge.svg\" alt=\"Open In Colab\"/></a>"
      ]
    },
    {
      "cell_type": "code",
      "metadata": {
        "colab": {
          "base_uri": "https://localhost:8080/"
        },
        "id": "1jWi9uCNk_xe",
        "outputId": "0e31f1c7-0881-449b-a929-3c68bcbfd90e"
      },
      "source": [
        "from google.colab import drive\n",
        "drive.mount('/content/gdrive')"
      ],
      "execution_count": null,
      "outputs": [
        {
          "output_type": "stream",
          "text": [
            "Mounted at /content/gdrive\n"
          ],
          "name": "stdout"
        }
      ]
    },
    {
      "cell_type": "code",
      "metadata": {
        "id": "S6WogO7UlBgr"
      },
      "source": [
        "from __future__ import absolute_import\n",
        "from __future__ import division\n",
        "from __future__ import print_function\n",
        "\n",
        "from tensorflow.keras.layers import Dense, Conv2D\n",
        "from tensorflow.keras.layers import BatchNormalization, Activation\n",
        "from tensorflow.keras.layers import AveragePooling2D, Input\n",
        "from tensorflow.keras.layers import Flatten, add\n",
        "from tensorflow.keras.optimizers import Adam\n",
        "from tensorflow.keras.callbacks import ModelCheckpoint, LearningRateScheduler\n",
        "from tensorflow.keras.callbacks import ReduceLROnPlateau\n",
        "from tensorflow.keras.preprocessing.image import ImageDataGenerator\n",
        "from tensorflow.keras.regularizers import l2\n",
        "from tensorflow.keras.models import Model\n",
        "from tensorflow.keras.utils import plot_model\n",
        "from tensorflow.keras.utils import to_categorical\n",
        "import numpy as np\n",
        "import os\n",
        "import math\n",
        "\n",
        "# training parameters\n",
        "batch_size = 32 # orig paper trained all networks with batch_size=128\n",
        "epochs = 100\n",
        "num_classes = 102\n",
        "data_augmentation = True\n",
        "\n",
        "# subtracting pixel mean improves accuracy\n",
        "subtract_pixel_mean = True\n",
        "\n",
        "# Model parameter\n",
        "# ----------------------------------------------------------------------------\n",
        "#           |      | 200-epoch | Orig Paper| 200-epoch | Orig Paper| sec/epoch\n",
        "# Model     |  n   | ResNet v1 | ResNet v1 | ResNet v2 | ResNet v2 | GTX1080Ti\n",
        "#           |v1(v2)| %Accuracy | %Accuracy | %Accuracy | %Accuracy | v1 (v2)\n",
        "# ----------------------------------------------------------------------------\n",
        "# ResNet20  | 3 (2)| 92.16     | 91.25     | -----     | -----     | 35 (---)\n",
        "# ResNet32  | 5(NA)| 92.46     | 92.49     | NA        | NA        | 50 ( NA)\n",
        "# ResNet44  | 7(NA)| 92.50     | 92.83     | NA        | NA        | 70 ( NA)\n",
        "# ResNet56  | 9 (6)| 92.71     | 93.03     | 93.01     | NA        | 90 (100)\n",
        "# ResNet110 |18(12)| 92.65     | 93.39+-.16| 93.15     | 93.63     | 165(180)\n",
        "# ResNet164 |27(18)| -----     | 94.07     | -----     | 94.54     | ---(---)\n",
        "# ResNet1001| (111)| -----     | 92.39     | -----     | 95.08+-.14| ---(---)\n",
        "# ---------------------------------------------------------------------------\n",
        "n = 9\n",
        "\n",
        "# model version\n",
        "# orig paper: version = 1 (ResNet v1), \n",
        "# improved ResNet: version = 2 (ResNet v2)\n",
        "version = 1\n",
        "path = '/content/gdrive/My Drive/caltech101_pickle'\n",
        "image_size = (128, 128)\n",
        "input_shape = (128, 128, 3)\n",
        "num_classes = 102"
      ],
      "execution_count": null,
      "outputs": []
    },
    {
      "cell_type": "code",
      "metadata": {
        "id": "ieUuRL6NlHra"
      },
      "source": [
        "import gzip\n",
        "import pickle\n",
        "\n",
        "os.chdir(path)\n",
        "\n",
        "with gzip.open('caltech101_x_trainData_128.pickle', 'rb') as f:\n",
        "    x_train = pickle.load(f)\n",
        "    \n",
        "with gzip.open('caltech101_x_testData_128.pickle', 'rb') as f:\n",
        "    x_test = pickle.load(f)\n",
        "    \n",
        "with gzip.open('caltech101_y_trainData_128.pickle', 'rb') as f:\n",
        "    y_train = pickle.load(f)\n",
        "    \n",
        "with gzip.open('caltech101_y_testData_128.pickle', 'rb') as f:\n",
        "    y_test = pickle.load(f)"
      ],
      "execution_count": null,
      "outputs": []
    },
    {
      "cell_type": "code",
      "metadata": {
        "colab": {
          "base_uri": "https://localhost:8080/"
        },
        "id": "y_7mb0Y4lKAc",
        "outputId": "3f0ea7f8-06de-45fc-ff09-06cbdc7da1ad"
      },
      "source": [
        "if version == 1:\n",
        "    depth = n * 6 + 2\n",
        "elif version == 2:\n",
        "    depth = n * 9 + 2\n",
        "\n",
        "# model name, depth and version\n",
        "model_type = 'ResNet%dv%d' % (depth, version)\n",
        "\n",
        "# input image dimensions.\n",
        "input_shape = x_train.shape[1:]\n",
        "\n",
        "# normalize data.\n",
        "x_train = x_train.astype('float32') / 255\n",
        "x_test = x_test.astype('float32') / 255\n",
        "\n",
        "# if subtract pixel mean is enabled\n",
        "if subtract_pixel_mean:\n",
        "    x_train_mean = np.mean(x_train, axis=0)\n",
        "    x_train -= x_train_mean\n",
        "    x_test -= x_train_mean\n",
        "\n",
        "print('Model_Type : ' , model_type)\n",
        "print('x_train shape:', x_train.shape)\n",
        "print(x_train.shape[0], 'train samples')\n",
        "print(x_test.shape[0], 'test samples')\n",
        "print('y_train shape:', y_train.shape)\n",
        "# convert class vectors to binary class matrices.\n",
        "#y_train = to_categorical(y_train, num_classes)\n",
        "#y_test = to_categorical(y_test, num_classes)"
      ],
      "execution_count": null,
      "outputs": [
        {
          "output_type": "stream",
          "text": [
            "Model_Type :  ResNet56v1\n",
            "x_train shape: (7316, 128, 128, 3)\n",
            "7316 train samples\n",
            "1829 test samples\n",
            "y_train shape: (7316, 102)\n"
          ],
          "name": "stdout"
        }
      ]
    },
    {
      "cell_type": "code",
      "metadata": {
        "id": "PIRE70K9VGjD"
      },
      "source": [
        "def lr_schedule(epoch):\n",
        "    \"\"\"Learning Rate Schedule\n",
        "    Learning rate is scheduled to be reduced after 80, 120, 160, 180 epochs.\n",
        "    Called automatically every epoch as part of callbacks during training.\n",
        "    # Arguments\n",
        "        epoch (int): The number of epochs\n",
        "    # Returns\n",
        "        lr (float32): learning rate\n",
        "    \"\"\"\n",
        "    lr = 1e-3\n",
        "    if epoch > 180:\n",
        "        lr *= 0.5e-3\n",
        "    elif epoch > 160:\n",
        "        lr *= 1e-3\n",
        "    elif epoch > 120:\n",
        "        lr *= 1e-2\n",
        "    elif epoch > 80:\n",
        "        lr *= 1e-1\n",
        "    print('Learning rate: ', lr)\n",
        "    return lr\n",
        "\n",
        "\n",
        "def resnet_layer(inputs,\n",
        "                 num_filters=16,\n",
        "                 kernel_size=3,\n",
        "                 strides=1,\n",
        "                 activation='relu',\n",
        "                 batch_normalization=True,\n",
        "                 conv_first=True):\n",
        "    \"\"\"2D Convolution-Batch Normalization-Activation stack builder\n",
        "    Arguments:\n",
        "        inputs (tensor): input tensor from input image or previous layer\n",
        "        num_filters (int): Conv2D number of filters\n",
        "        kernel_size (int): Conv2D square kernel dimensions\n",
        "        strides (int): Conv2D square stride dimensions\n",
        "        activation (string): activation name\n",
        "        batch_normalization (bool): whether to include batch normalization\n",
        "        conv_first (bool): conv-bn-activation (True) or\n",
        "            bn-activation-conv (False)\n",
        "    Returns:\n",
        "        x (tensor): tensor as input to the next layer\n",
        "    \"\"\"\n",
        "    conv = Conv2D(num_filters,\n",
        "                  kernel_size=kernel_size,\n",
        "                  strides=strides,\n",
        "                  padding='same',\n",
        "                  kernel_initializer='he_normal',\n",
        "                  kernel_regularizer=l2(1e-4))\n",
        "\n",
        "    x = inputs\n",
        "    if conv_first:\n",
        "        x = conv(x)\n",
        "        if batch_normalization:\n",
        "            x = BatchNormalization()(x)\n",
        "        if activation is not None:\n",
        "            x = Activation(activation)(x)\n",
        "    else:\n",
        "        if batch_normalization:\n",
        "            x = BatchNormalization()(x)\n",
        "        if activation is not None:\n",
        "            x = Activation(activation)(x)\n",
        "        x = conv(x)\n",
        "    return x\n",
        "\n",
        "\n",
        "def resnet_v1(input_shape, depth, num_classes=num_classes):\n",
        "    \"\"\"ResNet Version 1 Model builder [a]\n",
        "    Stacks of 2 x (3 x 3) Conv2D-BN-ReLU\n",
        "    Last ReLU is after the shortcut connection.\n",
        "    At the beginning of each stage, the feature map size is halved\n",
        "    (downsampled) by a convolutional layer with strides=2, while \n",
        "    the number of filters is doubled. Within each stage, \n",
        "    the layers have the same number filters and the\n",
        "    same number of filters.\n",
        "    Features maps sizes:\n",
        "    stage 0: 32x32, 16\n",
        "    stage 1: 16x16, 32\n",
        "    stage 2:  8x8,  64\n",
        "    The Number of parameters is approx the same as Table 6 of [a]:\n",
        "    ResNet20 0.27M\n",
        "    ResNet32 0.46M\n",
        "    ResNet44 0.66M\n",
        "    ResNet56 0.85M\n",
        "    ResNet110 1.7M\n",
        "    Arguments:\n",
        "        input_shape (tensor): shape of input image tensor\n",
        "        depth (int): number of core convolutional layers\n",
        "        num_classes (int): number of classes (CIFAR10 has 10)\n",
        "    Returns:\n",
        "        model (Model): Keras model instance\n",
        "    \"\"\"\n",
        "    if (depth - 2) % 6 != 0:\n",
        "        raise ValueError('depth should be 6n+2 (eg 20, 32, in [a])')\n",
        "    # start model definition.\n",
        "    num_filters = 16\n",
        "    num_res_blocks = int((depth - 2) / 6)\n",
        "\n",
        "    inputs = Input(shape=input_shape)\n",
        "    x = resnet_layer(inputs=inputs)\n",
        "    # instantiate the stack of residual units\n",
        "    for stack in range(3):\n",
        "        for res_block in range(num_res_blocks):\n",
        "            strides = 1\n",
        "            # first layer but not first stack\n",
        "            if stack > 0 and res_block == 0:  \n",
        "                strides = 2  # downsample\n",
        "            y = resnet_layer(inputs=x,\n",
        "                             num_filters=num_filters,\n",
        "                             strides=strides)\n",
        "            y = resnet_layer(inputs=y,\n",
        "                             num_filters=num_filters,\n",
        "                             activation=None)\n",
        "            # first layer but not first stack\n",
        "            if stack > 0 and res_block == 0:\n",
        "                # linear projection residual shortcut\n",
        "                # connection to match changed dims\n",
        "                x = resnet_layer(inputs=x,\n",
        "                                 num_filters=num_filters,\n",
        "                                 kernel_size=1,\n",
        "                                 strides=strides,\n",
        "                                 activation=None,\n",
        "                                 batch_normalization=False)\n",
        "            x = add([x, y])\n",
        "            x = Activation('relu')(x)\n",
        "        num_filters *= 2\n",
        "\n",
        "    # add classifier on top.\n",
        "    # v1 does not use BN after last shortcut connection-ReLU\n",
        "    x = AveragePooling2D(pool_size=8)(x)\n",
        "    y = Flatten()(x)\n",
        "    outputs = Dense(num_classes,\n",
        "                    activation='softmax',\n",
        "                    kernel_initializer='he_normal')(y)\n",
        "\n",
        "    # instantiate model.\n",
        "    model = Model(inputs=inputs, outputs=outputs)\n",
        "    return model\n",
        "\n",
        "\n",
        "def resnet_v2(input_shape, depth, num_classes=num_classes):\n",
        "    \"\"\"ResNet Version 2 Model builder [b]\n",
        "    Stacks of (1 x 1)-(3 x 3)-(1 x 1) BN-ReLU-Conv2D or \n",
        "    also known as bottleneck layer.\n",
        "    First shortcut connection per layer is 1 x 1 Conv2D.\n",
        "    Second and onwards shortcut connection is identity.\n",
        "    At the beginning of each stage, \n",
        "    the feature map size is halved (downsampled)\n",
        "    by a convolutional layer with strides=2, \n",
        "    while the number of filter maps is\n",
        "    doubled. Within each stage, the layers have \n",
        "    the same number filters and the same filter map sizes.\n",
        "    Features maps sizes:\n",
        "    conv1  : 32x32,  16\n",
        "    stage 0: 32x32,  64\n",
        "    stage 1: 16x16, 128\n",
        "    stage 2:  8x8,  256\n",
        "    Arguments:\n",
        "        input_shape (tensor): shape of input image tensor\n",
        "        depth (int): number of core convolutional layers\n",
        "        num_classes (int): number of classes (CIFAR10 has 10)\n",
        "    Returns:\n",
        "        model (Model): Keras model instance\n",
        "    \"\"\"\n",
        "    if (depth - 2) % 9 != 0:\n",
        "        raise ValueError('depth should be 9n+2 (eg 110 in [b])')\n",
        "    # start model definition.\n",
        "    num_filters_in = 16\n",
        "    num_res_blocks = int((depth - 2) / 9)\n",
        "\n",
        "    inputs = Input(shape=input_shape)\n",
        "    # v2 performs Conv2D with BN-ReLU\n",
        "    # on input before splitting into 2 paths\n",
        "    x = resnet_layer(inputs=inputs,\n",
        "                     num_filters=num_filters_in,\n",
        "                     conv_first=True)\n",
        "\n",
        "    # instantiate the stack of residual units\n",
        "    for stage in range(3):\n",
        "        for res_block in range(num_res_blocks):\n",
        "            activation = 'relu'\n",
        "            batch_normalization = True\n",
        "            strides = 1\n",
        "            if stage == 0:\n",
        "                num_filters_out = num_filters_in * 4\n",
        "                # first layer and first stage\n",
        "                if res_block == 0:  \n",
        "                    activation = None\n",
        "                    batch_normalization = False\n",
        "            else:\n",
        "                num_filters_out = num_filters_in * 2\n",
        "                # first layer but not first stage\n",
        "                if res_block == 0:\n",
        "                    # downsample\n",
        "                    strides = 2 \n",
        "\n",
        "            # bottleneck residual unit\n",
        "            y = resnet_layer(inputs=x,\n",
        "                             num_filters=num_filters_in,\n",
        "                             kernel_size=1,\n",
        "                             strides=strides,\n",
        "                             activation=activation,\n",
        "                             batch_normalization=batch_normalization,\n",
        "                             conv_first=False)\n",
        "            y = resnet_layer(inputs=y,\n",
        "                             num_filters=num_filters_in,\n",
        "                             conv_first=False)\n",
        "            y = resnet_layer(inputs=y,\n",
        "                             num_filters=num_filters_out,\n",
        "                             kernel_size=1,\n",
        "                             conv_first=False)\n",
        "            if res_block == 0:\n",
        "                # linear projection residual shortcut connection\n",
        "                # to match changed dims\n",
        "                x = resnet_layer(inputs=x,\n",
        "                                 num_filters=num_filters_out,\n",
        "                                 kernel_size=1,\n",
        "                                 strides=strides,\n",
        "                                 activation=None,\n",
        "                                 batch_normalization=False)\n",
        "            x = add([x, y])\n",
        "\n",
        "        num_filters_in = num_filters_out\n",
        "\n",
        "    # add classifier on top.\n",
        "    # v2 has BN-ReLU before Pooling\n",
        "    x = BatchNormalization()(x)\n",
        "    x = Activation('relu')(x)\n",
        "    x = AveragePooling2D(pool_size=8)(x)\n",
        "    y = Flatten()(x)\n",
        "    outputs = Dense(num_classes,\n",
        "                    activation='softmax',\n",
        "                    kernel_initializer='he_normal')(y)\n",
        "\n",
        "    # instantiate model.\n",
        "    model = Model(inputs=inputs, outputs=outputs)\n",
        "    return model"
      ],
      "execution_count": null,
      "outputs": []
    },
    {
      "cell_type": "code",
      "metadata": {
        "colab": {
          "base_uri": "https://localhost:8080/"
        },
        "id": "qA6jeqZvVJll",
        "outputId": "731ea515-d596-4e91-e2df-dbdda2becb84"
      },
      "source": [
        "if version == 2:\n",
        "    model = resnet_v2(input_shape=input_shape, depth=depth)\n",
        "else:\n",
        "    model = resnet_v1(input_shape=input_shape, depth=depth)\n",
        "\n",
        "model.compile(loss='categorical_crossentropy',\n",
        "              optimizer=Adam(learning_rate=lr_schedule(0)),\n",
        "              metrics=['acc'])\n",
        "model.summary()\n",
        "\n",
        "# enable this if pydot can be installed\n",
        "# pip install pydot\n",
        "#plot_model(model, to_file=\"%s.png\" % model_type, show_shapes=True)\n",
        "print(model_type)"
      ],
      "execution_count": null,
      "outputs": [
        {
          "output_type": "stream",
          "text": [
            "Learning rate:  0.001\n",
            "Model: \"model_1\"\n",
            "__________________________________________________________________________________________________\n",
            "Layer (type)                    Output Shape         Param #     Connected to                     \n",
            "==================================================================================================\n",
            "input_2 (InputLayer)            [(None, 128, 128, 3) 0                                            \n",
            "__________________________________________________________________________________________________\n",
            "conv2d_57 (Conv2D)              (None, 128, 128, 16) 448         input_2[0][0]                    \n",
            "__________________________________________________________________________________________________\n",
            "batch_normalization_55 (BatchNo (None, 128, 128, 16) 64          conv2d_57[0][0]                  \n",
            "__________________________________________________________________________________________________\n",
            "activation_55 (Activation)      (None, 128, 128, 16) 0           batch_normalization_55[0][0]     \n",
            "__________________________________________________________________________________________________\n",
            "conv2d_58 (Conv2D)              (None, 128, 128, 16) 2320        activation_55[0][0]              \n",
            "__________________________________________________________________________________________________\n",
            "batch_normalization_56 (BatchNo (None, 128, 128, 16) 64          conv2d_58[0][0]                  \n",
            "__________________________________________________________________________________________________\n",
            "activation_56 (Activation)      (None, 128, 128, 16) 0           batch_normalization_56[0][0]     \n",
            "__________________________________________________________________________________________________\n",
            "conv2d_59 (Conv2D)              (None, 128, 128, 16) 2320        activation_56[0][0]              \n",
            "__________________________________________________________________________________________________\n",
            "batch_normalization_57 (BatchNo (None, 128, 128, 16) 64          conv2d_59[0][0]                  \n",
            "__________________________________________________________________________________________________\n",
            "add_27 (Add)                    (None, 128, 128, 16) 0           activation_55[0][0]              \n",
            "                                                                 batch_normalization_57[0][0]     \n",
            "__________________________________________________________________________________________________\n",
            "activation_57 (Activation)      (None, 128, 128, 16) 0           add_27[0][0]                     \n",
            "__________________________________________________________________________________________________\n",
            "conv2d_60 (Conv2D)              (None, 128, 128, 16) 2320        activation_57[0][0]              \n",
            "__________________________________________________________________________________________________\n",
            "batch_normalization_58 (BatchNo (None, 128, 128, 16) 64          conv2d_60[0][0]                  \n",
            "__________________________________________________________________________________________________\n",
            "activation_58 (Activation)      (None, 128, 128, 16) 0           batch_normalization_58[0][0]     \n",
            "__________________________________________________________________________________________________\n",
            "conv2d_61 (Conv2D)              (None, 128, 128, 16) 2320        activation_58[0][0]              \n",
            "__________________________________________________________________________________________________\n",
            "batch_normalization_59 (BatchNo (None, 128, 128, 16) 64          conv2d_61[0][0]                  \n",
            "__________________________________________________________________________________________________\n",
            "add_28 (Add)                    (None, 128, 128, 16) 0           activation_57[0][0]              \n",
            "                                                                 batch_normalization_59[0][0]     \n",
            "__________________________________________________________________________________________________\n",
            "activation_59 (Activation)      (None, 128, 128, 16) 0           add_28[0][0]                     \n",
            "__________________________________________________________________________________________________\n",
            "conv2d_62 (Conv2D)              (None, 128, 128, 16) 2320        activation_59[0][0]              \n",
            "__________________________________________________________________________________________________\n",
            "batch_normalization_60 (BatchNo (None, 128, 128, 16) 64          conv2d_62[0][0]                  \n",
            "__________________________________________________________________________________________________\n",
            "activation_60 (Activation)      (None, 128, 128, 16) 0           batch_normalization_60[0][0]     \n",
            "__________________________________________________________________________________________________\n",
            "conv2d_63 (Conv2D)              (None, 128, 128, 16) 2320        activation_60[0][0]              \n",
            "__________________________________________________________________________________________________\n",
            "batch_normalization_61 (BatchNo (None, 128, 128, 16) 64          conv2d_63[0][0]                  \n",
            "__________________________________________________________________________________________________\n",
            "add_29 (Add)                    (None, 128, 128, 16) 0           activation_59[0][0]              \n",
            "                                                                 batch_normalization_61[0][0]     \n",
            "__________________________________________________________________________________________________\n",
            "activation_61 (Activation)      (None, 128, 128, 16) 0           add_29[0][0]                     \n",
            "__________________________________________________________________________________________________\n",
            "conv2d_64 (Conv2D)              (None, 128, 128, 16) 2320        activation_61[0][0]              \n",
            "__________________________________________________________________________________________________\n",
            "batch_normalization_62 (BatchNo (None, 128, 128, 16) 64          conv2d_64[0][0]                  \n",
            "__________________________________________________________________________________________________\n",
            "activation_62 (Activation)      (None, 128, 128, 16) 0           batch_normalization_62[0][0]     \n",
            "__________________________________________________________________________________________________\n",
            "conv2d_65 (Conv2D)              (None, 128, 128, 16) 2320        activation_62[0][0]              \n",
            "__________________________________________________________________________________________________\n",
            "batch_normalization_63 (BatchNo (None, 128, 128, 16) 64          conv2d_65[0][0]                  \n",
            "__________________________________________________________________________________________________\n",
            "add_30 (Add)                    (None, 128, 128, 16) 0           activation_61[0][0]              \n",
            "                                                                 batch_normalization_63[0][0]     \n",
            "__________________________________________________________________________________________________\n",
            "activation_63 (Activation)      (None, 128, 128, 16) 0           add_30[0][0]                     \n",
            "__________________________________________________________________________________________________\n",
            "conv2d_66 (Conv2D)              (None, 128, 128, 16) 2320        activation_63[0][0]              \n",
            "__________________________________________________________________________________________________\n",
            "batch_normalization_64 (BatchNo (None, 128, 128, 16) 64          conv2d_66[0][0]                  \n",
            "__________________________________________________________________________________________________\n",
            "activation_64 (Activation)      (None, 128, 128, 16) 0           batch_normalization_64[0][0]     \n",
            "__________________________________________________________________________________________________\n",
            "conv2d_67 (Conv2D)              (None, 128, 128, 16) 2320        activation_64[0][0]              \n",
            "__________________________________________________________________________________________________\n",
            "batch_normalization_65 (BatchNo (None, 128, 128, 16) 64          conv2d_67[0][0]                  \n",
            "__________________________________________________________________________________________________\n",
            "add_31 (Add)                    (None, 128, 128, 16) 0           activation_63[0][0]              \n",
            "                                                                 batch_normalization_65[0][0]     \n",
            "__________________________________________________________________________________________________\n",
            "activation_65 (Activation)      (None, 128, 128, 16) 0           add_31[0][0]                     \n",
            "__________________________________________________________________________________________________\n",
            "conv2d_68 (Conv2D)              (None, 128, 128, 16) 2320        activation_65[0][0]              \n",
            "__________________________________________________________________________________________________\n",
            "batch_normalization_66 (BatchNo (None, 128, 128, 16) 64          conv2d_68[0][0]                  \n",
            "__________________________________________________________________________________________________\n",
            "activation_66 (Activation)      (None, 128, 128, 16) 0           batch_normalization_66[0][0]     \n",
            "__________________________________________________________________________________________________\n",
            "conv2d_69 (Conv2D)              (None, 128, 128, 16) 2320        activation_66[0][0]              \n",
            "__________________________________________________________________________________________________\n",
            "batch_normalization_67 (BatchNo (None, 128, 128, 16) 64          conv2d_69[0][0]                  \n",
            "__________________________________________________________________________________________________\n",
            "add_32 (Add)                    (None, 128, 128, 16) 0           activation_65[0][0]              \n",
            "                                                                 batch_normalization_67[0][0]     \n",
            "__________________________________________________________________________________________________\n",
            "activation_67 (Activation)      (None, 128, 128, 16) 0           add_32[0][0]                     \n",
            "__________________________________________________________________________________________________\n",
            "conv2d_70 (Conv2D)              (None, 128, 128, 16) 2320        activation_67[0][0]              \n",
            "__________________________________________________________________________________________________\n",
            "batch_normalization_68 (BatchNo (None, 128, 128, 16) 64          conv2d_70[0][0]                  \n",
            "__________________________________________________________________________________________________\n",
            "activation_68 (Activation)      (None, 128, 128, 16) 0           batch_normalization_68[0][0]     \n",
            "__________________________________________________________________________________________________\n",
            "conv2d_71 (Conv2D)              (None, 128, 128, 16) 2320        activation_68[0][0]              \n",
            "__________________________________________________________________________________________________\n",
            "batch_normalization_69 (BatchNo (None, 128, 128, 16) 64          conv2d_71[0][0]                  \n",
            "__________________________________________________________________________________________________\n",
            "add_33 (Add)                    (None, 128, 128, 16) 0           activation_67[0][0]              \n",
            "                                                                 batch_normalization_69[0][0]     \n",
            "__________________________________________________________________________________________________\n",
            "activation_69 (Activation)      (None, 128, 128, 16) 0           add_33[0][0]                     \n",
            "__________________________________________________________________________________________________\n",
            "conv2d_72 (Conv2D)              (None, 128, 128, 16) 2320        activation_69[0][0]              \n",
            "__________________________________________________________________________________________________\n",
            "batch_normalization_70 (BatchNo (None, 128, 128, 16) 64          conv2d_72[0][0]                  \n",
            "__________________________________________________________________________________________________\n",
            "activation_70 (Activation)      (None, 128, 128, 16) 0           batch_normalization_70[0][0]     \n",
            "__________________________________________________________________________________________________\n",
            "conv2d_73 (Conv2D)              (None, 128, 128, 16) 2320        activation_70[0][0]              \n",
            "__________________________________________________________________________________________________\n",
            "batch_normalization_71 (BatchNo (None, 128, 128, 16) 64          conv2d_73[0][0]                  \n",
            "__________________________________________________________________________________________________\n",
            "add_34 (Add)                    (None, 128, 128, 16) 0           activation_69[0][0]              \n",
            "                                                                 batch_normalization_71[0][0]     \n",
            "__________________________________________________________________________________________________\n",
            "activation_71 (Activation)      (None, 128, 128, 16) 0           add_34[0][0]                     \n",
            "__________________________________________________________________________________________________\n",
            "conv2d_74 (Conv2D)              (None, 128, 128, 16) 2320        activation_71[0][0]              \n",
            "__________________________________________________________________________________________________\n",
            "batch_normalization_72 (BatchNo (None, 128, 128, 16) 64          conv2d_74[0][0]                  \n",
            "__________________________________________________________________________________________________\n",
            "activation_72 (Activation)      (None, 128, 128, 16) 0           batch_normalization_72[0][0]     \n",
            "__________________________________________________________________________________________________\n",
            "conv2d_75 (Conv2D)              (None, 128, 128, 16) 2320        activation_72[0][0]              \n",
            "__________________________________________________________________________________________________\n",
            "batch_normalization_73 (BatchNo (None, 128, 128, 16) 64          conv2d_75[0][0]                  \n",
            "__________________________________________________________________________________________________\n",
            "add_35 (Add)                    (None, 128, 128, 16) 0           activation_71[0][0]              \n",
            "                                                                 batch_normalization_73[0][0]     \n",
            "__________________________________________________________________________________________________\n",
            "activation_73 (Activation)      (None, 128, 128, 16) 0           add_35[0][0]                     \n",
            "__________________________________________________________________________________________________\n",
            "conv2d_76 (Conv2D)              (None, 64, 64, 32)   4640        activation_73[0][0]              \n",
            "__________________________________________________________________________________________________\n",
            "batch_normalization_74 (BatchNo (None, 64, 64, 32)   128         conv2d_76[0][0]                  \n",
            "__________________________________________________________________________________________________\n",
            "activation_74 (Activation)      (None, 64, 64, 32)   0           batch_normalization_74[0][0]     \n",
            "__________________________________________________________________________________________________\n",
            "conv2d_77 (Conv2D)              (None, 64, 64, 32)   9248        activation_74[0][0]              \n",
            "__________________________________________________________________________________________________\n",
            "conv2d_78 (Conv2D)              (None, 64, 64, 32)   544         activation_73[0][0]              \n",
            "__________________________________________________________________________________________________\n",
            "batch_normalization_75 (BatchNo (None, 64, 64, 32)   128         conv2d_77[0][0]                  \n",
            "__________________________________________________________________________________________________\n",
            "add_36 (Add)                    (None, 64, 64, 32)   0           conv2d_78[0][0]                  \n",
            "                                                                 batch_normalization_75[0][0]     \n",
            "__________________________________________________________________________________________________\n",
            "activation_75 (Activation)      (None, 64, 64, 32)   0           add_36[0][0]                     \n",
            "__________________________________________________________________________________________________\n",
            "conv2d_79 (Conv2D)              (None, 64, 64, 32)   9248        activation_75[0][0]              \n",
            "__________________________________________________________________________________________________\n",
            "batch_normalization_76 (BatchNo (None, 64, 64, 32)   128         conv2d_79[0][0]                  \n",
            "__________________________________________________________________________________________________\n",
            "activation_76 (Activation)      (None, 64, 64, 32)   0           batch_normalization_76[0][0]     \n",
            "__________________________________________________________________________________________________\n",
            "conv2d_80 (Conv2D)              (None, 64, 64, 32)   9248        activation_76[0][0]              \n",
            "__________________________________________________________________________________________________\n",
            "batch_normalization_77 (BatchNo (None, 64, 64, 32)   128         conv2d_80[0][0]                  \n",
            "__________________________________________________________________________________________________\n",
            "add_37 (Add)                    (None, 64, 64, 32)   0           activation_75[0][0]              \n",
            "                                                                 batch_normalization_77[0][0]     \n",
            "__________________________________________________________________________________________________\n",
            "activation_77 (Activation)      (None, 64, 64, 32)   0           add_37[0][0]                     \n",
            "__________________________________________________________________________________________________\n",
            "conv2d_81 (Conv2D)              (None, 64, 64, 32)   9248        activation_77[0][0]              \n",
            "__________________________________________________________________________________________________\n",
            "batch_normalization_78 (BatchNo (None, 64, 64, 32)   128         conv2d_81[0][0]                  \n",
            "__________________________________________________________________________________________________\n",
            "activation_78 (Activation)      (None, 64, 64, 32)   0           batch_normalization_78[0][0]     \n",
            "__________________________________________________________________________________________________\n",
            "conv2d_82 (Conv2D)              (None, 64, 64, 32)   9248        activation_78[0][0]              \n",
            "__________________________________________________________________________________________________\n",
            "batch_normalization_79 (BatchNo (None, 64, 64, 32)   128         conv2d_82[0][0]                  \n",
            "__________________________________________________________________________________________________\n",
            "add_38 (Add)                    (None, 64, 64, 32)   0           activation_77[0][0]              \n",
            "                                                                 batch_normalization_79[0][0]     \n",
            "__________________________________________________________________________________________________\n",
            "activation_79 (Activation)      (None, 64, 64, 32)   0           add_38[0][0]                     \n",
            "__________________________________________________________________________________________________\n",
            "conv2d_83 (Conv2D)              (None, 64, 64, 32)   9248        activation_79[0][0]              \n",
            "__________________________________________________________________________________________________\n",
            "batch_normalization_80 (BatchNo (None, 64, 64, 32)   128         conv2d_83[0][0]                  \n",
            "__________________________________________________________________________________________________\n",
            "activation_80 (Activation)      (None, 64, 64, 32)   0           batch_normalization_80[0][0]     \n",
            "__________________________________________________________________________________________________\n",
            "conv2d_84 (Conv2D)              (None, 64, 64, 32)   9248        activation_80[0][0]              \n",
            "__________________________________________________________________________________________________\n",
            "batch_normalization_81 (BatchNo (None, 64, 64, 32)   128         conv2d_84[0][0]                  \n",
            "__________________________________________________________________________________________________\n",
            "add_39 (Add)                    (None, 64, 64, 32)   0           activation_79[0][0]              \n",
            "                                                                 batch_normalization_81[0][0]     \n",
            "__________________________________________________________________________________________________\n",
            "activation_81 (Activation)      (None, 64, 64, 32)   0           add_39[0][0]                     \n",
            "__________________________________________________________________________________________________\n",
            "conv2d_85 (Conv2D)              (None, 64, 64, 32)   9248        activation_81[0][0]              \n",
            "__________________________________________________________________________________________________\n",
            "batch_normalization_82 (BatchNo (None, 64, 64, 32)   128         conv2d_85[0][0]                  \n",
            "__________________________________________________________________________________________________\n",
            "activation_82 (Activation)      (None, 64, 64, 32)   0           batch_normalization_82[0][0]     \n",
            "__________________________________________________________________________________________________\n",
            "conv2d_86 (Conv2D)              (None, 64, 64, 32)   9248        activation_82[0][0]              \n",
            "__________________________________________________________________________________________________\n",
            "batch_normalization_83 (BatchNo (None, 64, 64, 32)   128         conv2d_86[0][0]                  \n",
            "__________________________________________________________________________________________________\n",
            "add_40 (Add)                    (None, 64, 64, 32)   0           activation_81[0][0]              \n",
            "                                                                 batch_normalization_83[0][0]     \n",
            "__________________________________________________________________________________________________\n",
            "activation_83 (Activation)      (None, 64, 64, 32)   0           add_40[0][0]                     \n",
            "__________________________________________________________________________________________________\n",
            "conv2d_87 (Conv2D)              (None, 64, 64, 32)   9248        activation_83[0][0]              \n",
            "__________________________________________________________________________________________________\n",
            "batch_normalization_84 (BatchNo (None, 64, 64, 32)   128         conv2d_87[0][0]                  \n",
            "__________________________________________________________________________________________________\n",
            "activation_84 (Activation)      (None, 64, 64, 32)   0           batch_normalization_84[0][0]     \n",
            "__________________________________________________________________________________________________\n",
            "conv2d_88 (Conv2D)              (None, 64, 64, 32)   9248        activation_84[0][0]              \n",
            "__________________________________________________________________________________________________\n",
            "batch_normalization_85 (BatchNo (None, 64, 64, 32)   128         conv2d_88[0][0]                  \n",
            "__________________________________________________________________________________________________\n",
            "add_41 (Add)                    (None, 64, 64, 32)   0           activation_83[0][0]              \n",
            "                                                                 batch_normalization_85[0][0]     \n",
            "__________________________________________________________________________________________________\n",
            "activation_85 (Activation)      (None, 64, 64, 32)   0           add_41[0][0]                     \n",
            "__________________________________________________________________________________________________\n",
            "conv2d_89 (Conv2D)              (None, 64, 64, 32)   9248        activation_85[0][0]              \n",
            "__________________________________________________________________________________________________\n",
            "batch_normalization_86 (BatchNo (None, 64, 64, 32)   128         conv2d_89[0][0]                  \n",
            "__________________________________________________________________________________________________\n",
            "activation_86 (Activation)      (None, 64, 64, 32)   0           batch_normalization_86[0][0]     \n",
            "__________________________________________________________________________________________________\n",
            "conv2d_90 (Conv2D)              (None, 64, 64, 32)   9248        activation_86[0][0]              \n",
            "__________________________________________________________________________________________________\n",
            "batch_normalization_87 (BatchNo (None, 64, 64, 32)   128         conv2d_90[0][0]                  \n",
            "__________________________________________________________________________________________________\n",
            "add_42 (Add)                    (None, 64, 64, 32)   0           activation_85[0][0]              \n",
            "                                                                 batch_normalization_87[0][0]     \n",
            "__________________________________________________________________________________________________\n",
            "activation_87 (Activation)      (None, 64, 64, 32)   0           add_42[0][0]                     \n",
            "__________________________________________________________________________________________________\n",
            "conv2d_91 (Conv2D)              (None, 64, 64, 32)   9248        activation_87[0][0]              \n",
            "__________________________________________________________________________________________________\n",
            "batch_normalization_88 (BatchNo (None, 64, 64, 32)   128         conv2d_91[0][0]                  \n",
            "__________________________________________________________________________________________________\n",
            "activation_88 (Activation)      (None, 64, 64, 32)   0           batch_normalization_88[0][0]     \n",
            "__________________________________________________________________________________________________\n",
            "conv2d_92 (Conv2D)              (None, 64, 64, 32)   9248        activation_88[0][0]              \n",
            "__________________________________________________________________________________________________\n",
            "batch_normalization_89 (BatchNo (None, 64, 64, 32)   128         conv2d_92[0][0]                  \n",
            "__________________________________________________________________________________________________\n",
            "add_43 (Add)                    (None, 64, 64, 32)   0           activation_87[0][0]              \n",
            "                                                                 batch_normalization_89[0][0]     \n",
            "__________________________________________________________________________________________________\n",
            "activation_89 (Activation)      (None, 64, 64, 32)   0           add_43[0][0]                     \n",
            "__________________________________________________________________________________________________\n",
            "conv2d_93 (Conv2D)              (None, 64, 64, 32)   9248        activation_89[0][0]              \n",
            "__________________________________________________________________________________________________\n",
            "batch_normalization_90 (BatchNo (None, 64, 64, 32)   128         conv2d_93[0][0]                  \n",
            "__________________________________________________________________________________________________\n",
            "activation_90 (Activation)      (None, 64, 64, 32)   0           batch_normalization_90[0][0]     \n",
            "__________________________________________________________________________________________________\n",
            "conv2d_94 (Conv2D)              (None, 64, 64, 32)   9248        activation_90[0][0]              \n",
            "__________________________________________________________________________________________________\n",
            "batch_normalization_91 (BatchNo (None, 64, 64, 32)   128         conv2d_94[0][0]                  \n",
            "__________________________________________________________________________________________________\n",
            "add_44 (Add)                    (None, 64, 64, 32)   0           activation_89[0][0]              \n",
            "                                                                 batch_normalization_91[0][0]     \n",
            "__________________________________________________________________________________________________\n",
            "activation_91 (Activation)      (None, 64, 64, 32)   0           add_44[0][0]                     \n",
            "__________________________________________________________________________________________________\n",
            "conv2d_95 (Conv2D)              (None, 32, 32, 64)   18496       activation_91[0][0]              \n",
            "__________________________________________________________________________________________________\n",
            "batch_normalization_92 (BatchNo (None, 32, 32, 64)   256         conv2d_95[0][0]                  \n",
            "__________________________________________________________________________________________________\n",
            "activation_92 (Activation)      (None, 32, 32, 64)   0           batch_normalization_92[0][0]     \n",
            "__________________________________________________________________________________________________\n",
            "conv2d_96 (Conv2D)              (None, 32, 32, 64)   36928       activation_92[0][0]              \n",
            "__________________________________________________________________________________________________\n",
            "conv2d_97 (Conv2D)              (None, 32, 32, 64)   2112        activation_91[0][0]              \n",
            "__________________________________________________________________________________________________\n",
            "batch_normalization_93 (BatchNo (None, 32, 32, 64)   256         conv2d_96[0][0]                  \n",
            "__________________________________________________________________________________________________\n",
            "add_45 (Add)                    (None, 32, 32, 64)   0           conv2d_97[0][0]                  \n",
            "                                                                 batch_normalization_93[0][0]     \n",
            "__________________________________________________________________________________________________\n",
            "activation_93 (Activation)      (None, 32, 32, 64)   0           add_45[0][0]                     \n",
            "__________________________________________________________________________________________________\n",
            "conv2d_98 (Conv2D)              (None, 32, 32, 64)   36928       activation_93[0][0]              \n",
            "__________________________________________________________________________________________________\n",
            "batch_normalization_94 (BatchNo (None, 32, 32, 64)   256         conv2d_98[0][0]                  \n",
            "__________________________________________________________________________________________________\n",
            "activation_94 (Activation)      (None, 32, 32, 64)   0           batch_normalization_94[0][0]     \n",
            "__________________________________________________________________________________________________\n",
            "conv2d_99 (Conv2D)              (None, 32, 32, 64)   36928       activation_94[0][0]              \n",
            "__________________________________________________________________________________________________\n",
            "batch_normalization_95 (BatchNo (None, 32, 32, 64)   256         conv2d_99[0][0]                  \n",
            "__________________________________________________________________________________________________\n",
            "add_46 (Add)                    (None, 32, 32, 64)   0           activation_93[0][0]              \n",
            "                                                                 batch_normalization_95[0][0]     \n",
            "__________________________________________________________________________________________________\n",
            "activation_95 (Activation)      (None, 32, 32, 64)   0           add_46[0][0]                     \n",
            "__________________________________________________________________________________________________\n",
            "conv2d_100 (Conv2D)             (None, 32, 32, 64)   36928       activation_95[0][0]              \n",
            "__________________________________________________________________________________________________\n",
            "batch_normalization_96 (BatchNo (None, 32, 32, 64)   256         conv2d_100[0][0]                 \n",
            "__________________________________________________________________________________________________\n",
            "activation_96 (Activation)      (None, 32, 32, 64)   0           batch_normalization_96[0][0]     \n",
            "__________________________________________________________________________________________________\n",
            "conv2d_101 (Conv2D)             (None, 32, 32, 64)   36928       activation_96[0][0]              \n",
            "__________________________________________________________________________________________________\n",
            "batch_normalization_97 (BatchNo (None, 32, 32, 64)   256         conv2d_101[0][0]                 \n",
            "__________________________________________________________________________________________________\n",
            "add_47 (Add)                    (None, 32, 32, 64)   0           activation_95[0][0]              \n",
            "                                                                 batch_normalization_97[0][0]     \n",
            "__________________________________________________________________________________________________\n",
            "activation_97 (Activation)      (None, 32, 32, 64)   0           add_47[0][0]                     \n",
            "__________________________________________________________________________________________________\n",
            "conv2d_102 (Conv2D)             (None, 32, 32, 64)   36928       activation_97[0][0]              \n",
            "__________________________________________________________________________________________________\n",
            "batch_normalization_98 (BatchNo (None, 32, 32, 64)   256         conv2d_102[0][0]                 \n",
            "__________________________________________________________________________________________________\n",
            "activation_98 (Activation)      (None, 32, 32, 64)   0           batch_normalization_98[0][0]     \n",
            "__________________________________________________________________________________________________\n",
            "conv2d_103 (Conv2D)             (None, 32, 32, 64)   36928       activation_98[0][0]              \n",
            "__________________________________________________________________________________________________\n",
            "batch_normalization_99 (BatchNo (None, 32, 32, 64)   256         conv2d_103[0][0]                 \n",
            "__________________________________________________________________________________________________\n",
            "add_48 (Add)                    (None, 32, 32, 64)   0           activation_97[0][0]              \n",
            "                                                                 batch_normalization_99[0][0]     \n",
            "__________________________________________________________________________________________________\n",
            "activation_99 (Activation)      (None, 32, 32, 64)   0           add_48[0][0]                     \n",
            "__________________________________________________________________________________________________\n",
            "conv2d_104 (Conv2D)             (None, 32, 32, 64)   36928       activation_99[0][0]              \n",
            "__________________________________________________________________________________________________\n",
            "batch_normalization_100 (BatchN (None, 32, 32, 64)   256         conv2d_104[0][0]                 \n",
            "__________________________________________________________________________________________________\n",
            "activation_100 (Activation)     (None, 32, 32, 64)   0           batch_normalization_100[0][0]    \n",
            "__________________________________________________________________________________________________\n",
            "conv2d_105 (Conv2D)             (None, 32, 32, 64)   36928       activation_100[0][0]             \n",
            "__________________________________________________________________________________________________\n",
            "batch_normalization_101 (BatchN (None, 32, 32, 64)   256         conv2d_105[0][0]                 \n",
            "__________________________________________________________________________________________________\n",
            "add_49 (Add)                    (None, 32, 32, 64)   0           activation_99[0][0]              \n",
            "                                                                 batch_normalization_101[0][0]    \n",
            "__________________________________________________________________________________________________\n",
            "activation_101 (Activation)     (None, 32, 32, 64)   0           add_49[0][0]                     \n",
            "__________________________________________________________________________________________________\n",
            "conv2d_106 (Conv2D)             (None, 32, 32, 64)   36928       activation_101[0][0]             \n",
            "__________________________________________________________________________________________________\n",
            "batch_normalization_102 (BatchN (None, 32, 32, 64)   256         conv2d_106[0][0]                 \n",
            "__________________________________________________________________________________________________\n",
            "activation_102 (Activation)     (None, 32, 32, 64)   0           batch_normalization_102[0][0]    \n",
            "__________________________________________________________________________________________________\n",
            "conv2d_107 (Conv2D)             (None, 32, 32, 64)   36928       activation_102[0][0]             \n",
            "__________________________________________________________________________________________________\n",
            "batch_normalization_103 (BatchN (None, 32, 32, 64)   256         conv2d_107[0][0]                 \n",
            "__________________________________________________________________________________________________\n",
            "add_50 (Add)                    (None, 32, 32, 64)   0           activation_101[0][0]             \n",
            "                                                                 batch_normalization_103[0][0]    \n",
            "__________________________________________________________________________________________________\n",
            "activation_103 (Activation)     (None, 32, 32, 64)   0           add_50[0][0]                     \n",
            "__________________________________________________________________________________________________\n",
            "conv2d_108 (Conv2D)             (None, 32, 32, 64)   36928       activation_103[0][0]             \n",
            "__________________________________________________________________________________________________\n",
            "batch_normalization_104 (BatchN (None, 32, 32, 64)   256         conv2d_108[0][0]                 \n",
            "__________________________________________________________________________________________________\n",
            "activation_104 (Activation)     (None, 32, 32, 64)   0           batch_normalization_104[0][0]    \n",
            "__________________________________________________________________________________________________\n",
            "conv2d_109 (Conv2D)             (None, 32, 32, 64)   36928       activation_104[0][0]             \n",
            "__________________________________________________________________________________________________\n",
            "batch_normalization_105 (BatchN (None, 32, 32, 64)   256         conv2d_109[0][0]                 \n",
            "__________________________________________________________________________________________________\n",
            "add_51 (Add)                    (None, 32, 32, 64)   0           activation_103[0][0]             \n",
            "                                                                 batch_normalization_105[0][0]    \n",
            "__________________________________________________________________________________________________\n",
            "activation_105 (Activation)     (None, 32, 32, 64)   0           add_51[0][0]                     \n",
            "__________________________________________________________________________________________________\n",
            "conv2d_110 (Conv2D)             (None, 32, 32, 64)   36928       activation_105[0][0]             \n",
            "__________________________________________________________________________________________________\n",
            "batch_normalization_106 (BatchN (None, 32, 32, 64)   256         conv2d_110[0][0]                 \n",
            "__________________________________________________________________________________________________\n",
            "activation_106 (Activation)     (None, 32, 32, 64)   0           batch_normalization_106[0][0]    \n",
            "__________________________________________________________________________________________________\n",
            "conv2d_111 (Conv2D)             (None, 32, 32, 64)   36928       activation_106[0][0]             \n",
            "__________________________________________________________________________________________________\n",
            "batch_normalization_107 (BatchN (None, 32, 32, 64)   256         conv2d_111[0][0]                 \n",
            "__________________________________________________________________________________________________\n",
            "add_52 (Add)                    (None, 32, 32, 64)   0           activation_105[0][0]             \n",
            "                                                                 batch_normalization_107[0][0]    \n",
            "__________________________________________________________________________________________________\n",
            "activation_107 (Activation)     (None, 32, 32, 64)   0           add_52[0][0]                     \n",
            "__________________________________________________________________________________________________\n",
            "conv2d_112 (Conv2D)             (None, 32, 32, 64)   36928       activation_107[0][0]             \n",
            "__________________________________________________________________________________________________\n",
            "batch_normalization_108 (BatchN (None, 32, 32, 64)   256         conv2d_112[0][0]                 \n",
            "__________________________________________________________________________________________________\n",
            "activation_108 (Activation)     (None, 32, 32, 64)   0           batch_normalization_108[0][0]    \n",
            "__________________________________________________________________________________________________\n",
            "conv2d_113 (Conv2D)             (None, 32, 32, 64)   36928       activation_108[0][0]             \n",
            "__________________________________________________________________________________________________\n",
            "batch_normalization_109 (BatchN (None, 32, 32, 64)   256         conv2d_113[0][0]                 \n",
            "__________________________________________________________________________________________________\n",
            "add_53 (Add)                    (None, 32, 32, 64)   0           activation_107[0][0]             \n",
            "                                                                 batch_normalization_109[0][0]    \n",
            "__________________________________________________________________________________________________\n",
            "activation_109 (Activation)     (None, 32, 32, 64)   0           add_53[0][0]                     \n",
            "__________________________________________________________________________________________________\n",
            "average_pooling2d_1 (AveragePoo (None, 4, 4, 64)     0           activation_109[0][0]             \n",
            "__________________________________________________________________________________________________\n",
            "flatten_1 (Flatten)             (None, 1024)         0           average_pooling2d_1[0][0]        \n",
            "__________________________________________________________________________________________________\n",
            "dense_1 (Dense)                 (None, 102)          104550      flatten_1[0][0]                  \n",
            "==================================================================================================\n",
            "Total params: 965,670\n",
            "Trainable params: 961,606\n",
            "Non-trainable params: 4,064\n",
            "__________________________________________________________________________________________________\n",
            "ResNet56v1\n"
          ],
          "name": "stdout"
        }
      ]
    },
    {
      "cell_type": "code",
      "metadata": {
        "colab": {
          "base_uri": "https://localhost:8080/"
        },
        "id": "2bay8BsPVfcr",
        "outputId": "4b566383-d4d8-4d09-b15f-69815ba327a2"
      },
      "source": [
        "lr_scheduler = LearningRateScheduler(lr_schedule)\n",
        "\n",
        "lr_reducer = ReduceLROnPlateau(factor=np.sqrt(0.1),\n",
        "                               cooldown=0,\n",
        "                               patience=5,\n",
        "                               min_lr=0.5e-6)\n",
        "\n",
        "callbacks = [lr_reducer, lr_scheduler]\n",
        "#callbacks = [checkpoint, lr_reducer, lr_scheduler]\n",
        "\n",
        "# run training, with or without data augmentation.\n",
        "if not data_augmentation:\n",
        "    print('Not using data augmentation.')\n",
        "    model.fit(x_train, y_train,\n",
        "              batch_size=batch_size,\n",
        "              epochs=epochs,\n",
        "              validation_data=(x_test, y_test),\n",
        "              shuffle=True,\n",
        "              callbacks=callbacks)\n",
        "else:\n",
        "    print('Using real-time data augmentation.')\n",
        "    # this will do preprocessing and realtime data augmentation:\n",
        "    datagen = ImageDataGenerator(\n",
        "        # set input mean to 0 over the dataset\n",
        "        featurewise_center=False,\n",
        "        # set each sample mean to 0\n",
        "        samplewise_center=False,\n",
        "        # divide inputs by std of dataset\n",
        "        featurewise_std_normalization=False,\n",
        "        # divide each input by its std\n",
        "        samplewise_std_normalization=False,\n",
        "        # apply ZCA whitening\n",
        "        zca_whitening=False,\n",
        "        # randomly rotate images in the range (deg 0 to 180)\n",
        "        rotation_range=0,\n",
        "        # randomly shift images horizontally\n",
        "        width_shift_range=0.1,\n",
        "        # randomly shift images vertically\n",
        "        height_shift_range=0.1,\n",
        "        # randomly flip images\n",
        "        horizontal_flip=True,\n",
        "        # randomly flip images\n",
        "        vertical_flip=False)"
      ],
      "execution_count": null,
      "outputs": [
        {
          "output_type": "stream",
          "text": [
            "Using real-time data augmentation.\n"
          ],
          "name": "stdout"
        }
      ]
    },
    {
      "cell_type": "code",
      "metadata": {
        "colab": {
          "base_uri": "https://localhost:8080/"
        },
        "id": "D7AvdECbVgZA",
        "outputId": "2b2e1d5f-a58f-44fa-94b4-414fb30b9d1b"
      },
      "source": [
        "# compute quantities required for featurewise normalization\n",
        "# (std, mean, and principal components if ZCA whitening is applied).\n",
        "datagen.fit(x_train)\n",
        "\n",
        "steps_per_epoch =  math.ceil(len(x_train) / batch_size)\n",
        "    # fit the model on the batches generated by datagen.flow().\n",
        "model.fit(x=datagen.flow(x_train, y_train, batch_size=batch_size),\n",
        "              verbose=1,\n",
        "              epochs=epochs,\n",
        "              validation_data=(x_test, y_test),\n",
        "              steps_per_epoch=steps_per_epoch,\n",
        "              callbacks=callbacks)\n",
        "\n",
        "\n",
        "# score trained model\n",
        "scores = model.evaluate(x_test,\n",
        "                        y_test,\n",
        "                        batch_size=batch_size,\n",
        "                        verbose=0)\n",
        "print('Test loss:', scores[0])\n",
        "print('Test accuracy:', scores[1])"
      ],
      "execution_count": null,
      "outputs": [
        {
          "output_type": "stream",
          "text": [
            "Epoch 1/100\n",
            "Learning rate:  0.001\n",
            "229/229 [==============================] - 81s 314ms/step - loss: 4.6386 - acc: 0.2295 - val_loss: 4.1557 - val_acc: 0.2061\n",
            "Epoch 2/100\n",
            "Learning rate:  0.001\n",
            "229/229 [==============================] - 72s 314ms/step - loss: 3.4529 - acc: 0.3403 - val_loss: 3.1888 - val_acc: 0.3953\n",
            "Epoch 3/100\n",
            "Learning rate:  0.001\n",
            "229/229 [==============================] - 72s 315ms/step - loss: 2.9957 - acc: 0.4076 - val_loss: 3.0022 - val_acc: 0.4204\n",
            "Epoch 4/100\n",
            "Learning rate:  0.001\n",
            "229/229 [==============================] - 72s 315ms/step - loss: 2.6473 - acc: 0.4691 - val_loss: 6.3543 - val_acc: 0.3341\n",
            "Epoch 5/100\n",
            "Learning rate:  0.001\n",
            "229/229 [==============================] - 72s 315ms/step - loss: 2.3753 - acc: 0.5198 - val_loss: 2.3350 - val_acc: 0.5451\n",
            "Epoch 6/100\n",
            "Learning rate:  0.001\n",
            "229/229 [==============================] - 72s 315ms/step - loss: 2.2002 - acc: 0.5500 - val_loss: 2.1537 - val_acc: 0.5692\n",
            "Epoch 7/100\n",
            "Learning rate:  0.001\n",
            "229/229 [==============================] - 72s 315ms/step - loss: 2.0168 - acc: 0.5842 - val_loss: 2.1383 - val_acc: 0.5730\n",
            "Epoch 8/100\n",
            "Learning rate:  0.001\n",
            "229/229 [==============================] - 73s 320ms/step - loss: 1.8952 - acc: 0.6054 - val_loss: 2.5035 - val_acc: 0.5714\n",
            "Epoch 9/100\n",
            "Learning rate:  0.001\n",
            "229/229 [==============================] - 72s 315ms/step - loss: 1.7618 - acc: 0.6296 - val_loss: 2.1525 - val_acc: 0.5604\n",
            "Epoch 10/100\n",
            "Learning rate:  0.001\n",
            "229/229 [==============================] - 73s 319ms/step - loss: 1.6574 - acc: 0.6493 - val_loss: 2.1054 - val_acc: 0.5845\n",
            "Epoch 11/100\n",
            "Learning rate:  0.001\n",
            "229/229 [==============================] - 73s 319ms/step - loss: 1.5761 - acc: 0.6681 - val_loss: 1.9091 - val_acc: 0.6211\n",
            "Epoch 12/100\n",
            "Learning rate:  0.001\n",
            "229/229 [==============================] - 72s 314ms/step - loss: 1.4986 - acc: 0.6856 - val_loss: 1.9585 - val_acc: 0.6293\n",
            "Epoch 13/100\n",
            "Learning rate:  0.001\n",
            "229/229 [==============================] - 72s 315ms/step - loss: 1.4162 - acc: 0.6978 - val_loss: 1.8144 - val_acc: 0.6337\n",
            "Epoch 14/100\n",
            "Learning rate:  0.001\n",
            "229/229 [==============================] - 73s 319ms/step - loss: 1.3673 - acc: 0.7038 - val_loss: 2.0599 - val_acc: 0.6217\n",
            "Epoch 15/100\n",
            "Learning rate:  0.001\n",
            "229/229 [==============================] - 72s 315ms/step - loss: 1.3034 - acc: 0.7176 - val_loss: 3.1934 - val_acc: 0.5834\n",
            "Epoch 16/100\n",
            "Learning rate:  0.001\n",
            "229/229 [==============================] - 72s 316ms/step - loss: 1.2475 - acc: 0.7344 - val_loss: 1.6333 - val_acc: 0.6780\n",
            "Epoch 17/100\n",
            "Learning rate:  0.001\n",
            "229/229 [==============================] - 72s 315ms/step - loss: 1.2015 - acc: 0.7452 - val_loss: 1.6751 - val_acc: 0.6468\n",
            "Epoch 18/100\n",
            "Learning rate:  0.001\n",
            "229/229 [==============================] - 73s 320ms/step - loss: 1.1567 - acc: 0.7519 - val_loss: 1.7826 - val_acc: 0.6331\n",
            "Epoch 19/100\n",
            "Learning rate:  0.001\n",
            "229/229 [==============================] - 72s 315ms/step - loss: 1.1006 - acc: 0.7661 - val_loss: 1.7064 - val_acc: 0.6659\n",
            "Epoch 20/100\n",
            "Learning rate:  0.001\n",
            "229/229 [==============================] - 72s 315ms/step - loss: 1.0525 - acc: 0.7793 - val_loss: 1.6901 - val_acc: 0.6687\n",
            "Epoch 21/100\n",
            "Learning rate:  0.001\n",
            "229/229 [==============================] - 72s 315ms/step - loss: 1.0250 - acc: 0.7783 - val_loss: 6.2427 - val_acc: 0.4636\n",
            "Epoch 22/100\n",
            "Learning rate:  0.001\n",
            "229/229 [==============================] - 72s 315ms/step - loss: 1.0040 - acc: 0.7859 - val_loss: 1.9981 - val_acc: 0.6424\n",
            "Epoch 23/100\n",
            "Learning rate:  0.001\n",
            "229/229 [==============================] - 73s 319ms/step - loss: 0.9551 - acc: 0.7963 - val_loss: 1.5695 - val_acc: 0.7009\n",
            "Epoch 24/100\n",
            "Learning rate:  0.001\n",
            "229/229 [==============================] - 72s 315ms/step - loss: 0.9310 - acc: 0.8004 - val_loss: 1.6401 - val_acc: 0.6796\n",
            "Epoch 25/100\n",
            "Learning rate:  0.001\n",
            "229/229 [==============================] - 72s 315ms/step - loss: 0.9094 - acc: 0.8092 - val_loss: 2.3561 - val_acc: 0.6627\n",
            "Epoch 26/100\n",
            "Learning rate:  0.001\n",
            "229/229 [==============================] - 73s 319ms/step - loss: 0.8919 - acc: 0.8071 - val_loss: 1.6677 - val_acc: 0.6823\n",
            "Epoch 27/100\n",
            "Learning rate:  0.001\n",
            "229/229 [==============================] - 72s 315ms/step - loss: 0.8581 - acc: 0.8196 - val_loss: 1.6206 - val_acc: 0.6884\n",
            "Epoch 28/100\n",
            "Learning rate:  0.001\n",
            "229/229 [==============================] - 72s 315ms/step - loss: 0.8325 - acc: 0.8227 - val_loss: 1.5370 - val_acc: 0.7086\n",
            "Epoch 29/100\n",
            "Learning rate:  0.001\n",
            "229/229 [==============================] - 73s 318ms/step - loss: 0.8171 - acc: 0.8293 - val_loss: 1.5116 - val_acc: 0.7031\n",
            "Epoch 30/100\n",
            "Learning rate:  0.001\n",
            "229/229 [==============================] - 73s 319ms/step - loss: 0.7865 - acc: 0.8357 - val_loss: 1.5808 - val_acc: 0.6993\n",
            "Epoch 31/100\n",
            "Learning rate:  0.001\n",
            "229/229 [==============================] - 72s 315ms/step - loss: 0.7650 - acc: 0.8408 - val_loss: 1.7782 - val_acc: 0.6993\n",
            "Epoch 32/100\n",
            "Learning rate:  0.001\n",
            "229/229 [==============================] - 72s 315ms/step - loss: 0.7705 - acc: 0.8364 - val_loss: 1.6188 - val_acc: 0.6851\n",
            "Epoch 33/100\n",
            "Learning rate:  0.001\n",
            "229/229 [==============================] - 73s 318ms/step - loss: 0.7449 - acc: 0.8472 - val_loss: 1.7275 - val_acc: 0.6894\n",
            "Epoch 34/100\n",
            "Learning rate:  0.001\n",
            "229/229 [==============================] - 72s 315ms/step - loss: 0.7073 - acc: 0.8555 - val_loss: 1.5962 - val_acc: 0.6867\n",
            "Epoch 35/100\n",
            "Learning rate:  0.001\n",
            "229/229 [==============================] - 73s 319ms/step - loss: 0.6915 - acc: 0.8584 - val_loss: 1.7633 - val_acc: 0.7075\n",
            "Epoch 36/100\n",
            "Learning rate:  0.001\n",
            "229/229 [==============================] - 72s 314ms/step - loss: 0.6488 - acc: 0.8721 - val_loss: 1.5690 - val_acc: 0.7059\n",
            "Epoch 37/100\n",
            "Learning rate:  0.001\n",
            "229/229 [==============================] - 73s 319ms/step - loss: 0.6863 - acc: 0.8552 - val_loss: 1.8969 - val_acc: 0.6911\n",
            "Epoch 38/100\n",
            "Learning rate:  0.001\n",
            "229/229 [==============================] - 72s 314ms/step - loss: 0.6427 - acc: 0.8729 - val_loss: 1.6821 - val_acc: 0.6993\n",
            "Epoch 39/100\n",
            "Learning rate:  0.001\n",
            "229/229 [==============================] - 72s 315ms/step - loss: 0.6891 - acc: 0.8533 - val_loss: 3.4908 - val_acc: 0.5648\n",
            "Epoch 40/100\n",
            "Learning rate:  0.001\n",
            "229/229 [==============================] - 72s 314ms/step - loss: 0.6633 - acc: 0.8658 - val_loss: 1.6197 - val_acc: 0.7086\n",
            "Epoch 41/100\n",
            "Learning rate:  0.001\n",
            "229/229 [==============================] - 73s 319ms/step - loss: 0.6149 - acc: 0.8807 - val_loss: 3.6900 - val_acc: 0.5435\n",
            "Epoch 42/100\n",
            "Learning rate:  0.001\n",
            "229/229 [==============================] - 72s 315ms/step - loss: 0.6019 - acc: 0.8826 - val_loss: 2.5225 - val_acc: 0.7119\n",
            "Epoch 43/100\n",
            "Learning rate:  0.001\n",
            "229/229 [==============================] - 73s 318ms/step - loss: 0.6207 - acc: 0.8790 - val_loss: 3.0297 - val_acc: 0.7141\n",
            "Epoch 44/100\n",
            "Learning rate:  0.001\n",
            "229/229 [==============================] - 72s 314ms/step - loss: 0.5749 - acc: 0.8886 - val_loss: 1.7440 - val_acc: 0.7031\n",
            "Epoch 45/100\n",
            "Learning rate:  0.001\n",
            "229/229 [==============================] - 72s 314ms/step - loss: 0.5690 - acc: 0.8901 - val_loss: 1.9347 - val_acc: 0.6676\n",
            "Epoch 46/100\n",
            "Learning rate:  0.001\n",
            "229/229 [==============================] - 73s 318ms/step - loss: 0.5675 - acc: 0.8893 - val_loss: 1.8468 - val_acc: 0.6807\n",
            "Epoch 47/100\n",
            "Learning rate:  0.001\n",
            "229/229 [==============================] - 73s 318ms/step - loss: 0.5314 - acc: 0.9013 - val_loss: 2.2859 - val_acc: 0.6566\n",
            "Epoch 48/100\n",
            "Learning rate:  0.001\n",
            "229/229 [==============================] - 72s 315ms/step - loss: 0.5241 - acc: 0.9020 - val_loss: 1.5520 - val_acc: 0.7244\n",
            "Epoch 49/100\n",
            "Learning rate:  0.001\n",
            "229/229 [==============================] - 72s 314ms/step - loss: 0.5483 - acc: 0.8969 - val_loss: 2.8306 - val_acc: 0.6408\n",
            "Epoch 50/100\n",
            "Learning rate:  0.001\n",
            "229/229 [==============================] - 73s 318ms/step - loss: 0.5407 - acc: 0.8963 - val_loss: 2.2775 - val_acc: 0.6714\n",
            "Epoch 51/100\n",
            "Learning rate:  0.001\n",
            "229/229 [==============================] - 72s 314ms/step - loss: 0.5340 - acc: 0.9002 - val_loss: 1.6344 - val_acc: 0.7020\n",
            "Epoch 52/100\n",
            "Learning rate:  0.001\n",
            "229/229 [==============================] - 72s 313ms/step - loss: 0.4907 - acc: 0.9117 - val_loss: 1.6497 - val_acc: 0.7037\n",
            "Epoch 53/100\n",
            "Learning rate:  0.001\n",
            "229/229 [==============================] - 73s 318ms/step - loss: 0.5045 - acc: 0.9028 - val_loss: 1.7032 - val_acc: 0.7151\n",
            "Epoch 54/100\n",
            "Learning rate:  0.001\n",
            "229/229 [==============================] - 73s 318ms/step - loss: 0.5239 - acc: 0.8950 - val_loss: 3.7820 - val_acc: 0.6736\n",
            "Epoch 55/100\n",
            "Learning rate:  0.001\n",
            "229/229 [==============================] - 72s 314ms/step - loss: 0.4837 - acc: 0.9122 - val_loss: 1.6385 - val_acc: 0.7212\n",
            "Epoch 56/100\n",
            "Learning rate:  0.001\n",
            "229/229 [==============================] - 72s 314ms/step - loss: 0.4695 - acc: 0.9173 - val_loss: 1.5296 - val_acc: 0.7272\n",
            "Epoch 57/100\n",
            "Learning rate:  0.001\n",
            "229/229 [==============================] - 73s 318ms/step - loss: 0.4557 - acc: 0.9200 - val_loss: 75.2397 - val_acc: 0.5506\n",
            "Epoch 58/100\n",
            "Learning rate:  0.001\n",
            "229/229 [==============================] - 73s 318ms/step - loss: 0.4608 - acc: 0.9191 - val_loss: 1.5799 - val_acc: 0.7310\n",
            "Epoch 59/100\n",
            "Learning rate:  0.001\n",
            "229/229 [==============================] - 73s 318ms/step - loss: 0.4586 - acc: 0.9159 - val_loss: 1.7799 - val_acc: 0.7179\n",
            "Epoch 60/100\n",
            "Learning rate:  0.001\n",
            "229/229 [==============================] - 72s 314ms/step - loss: 0.4515 - acc: 0.9206 - val_loss: 2.0133 - val_acc: 0.6916\n",
            "Epoch 61/100\n",
            "Learning rate:  0.001\n",
            "229/229 [==============================] - 72s 313ms/step - loss: 0.4538 - acc: 0.9184 - val_loss: 1.7201 - val_acc: 0.7042\n",
            "Epoch 62/100\n",
            "Learning rate:  0.001\n",
            "229/229 [==============================] - 72s 313ms/step - loss: 0.4253 - acc: 0.9255 - val_loss: 2.0889 - val_acc: 0.6867\n",
            "Epoch 63/100\n",
            "Learning rate:  0.001\n",
            "229/229 [==============================] - 72s 314ms/step - loss: 0.4308 - acc: 0.9241 - val_loss: 1.8732 - val_acc: 0.7037\n",
            "Epoch 64/100\n",
            "Learning rate:  0.001\n",
            "229/229 [==============================] - 72s 314ms/step - loss: 0.4331 - acc: 0.9233 - val_loss: 1.5809 - val_acc: 0.7217\n",
            "Epoch 65/100\n",
            "Learning rate:  0.001\n",
            "229/229 [==============================] - 72s 314ms/step - loss: 0.4329 - acc: 0.9204 - val_loss: 1.6234 - val_acc: 0.7288\n",
            "Epoch 66/100\n",
            "Learning rate:  0.001\n",
            "229/229 [==============================] - 72s 314ms/step - loss: 0.4268 - acc: 0.9235 - val_loss: 2.3835 - val_acc: 0.6534\n",
            "Epoch 67/100\n",
            "Learning rate:  0.001\n",
            "229/229 [==============================] - 72s 313ms/step - loss: 0.4103 - acc: 0.9286 - val_loss: 1.7811 - val_acc: 0.7190\n",
            "Epoch 68/100\n",
            "Learning rate:  0.001\n",
            "229/229 [==============================] - 72s 314ms/step - loss: 0.4226 - acc: 0.9289 - val_loss: 1.5720 - val_acc: 0.7359\n",
            "Epoch 69/100\n",
            "Learning rate:  0.001\n",
            "229/229 [==============================] - 72s 314ms/step - loss: 0.4119 - acc: 0.9265 - val_loss: 1.7260 - val_acc: 0.7102\n",
            "Epoch 70/100\n",
            "Learning rate:  0.001\n",
            "229/229 [==============================] - 73s 318ms/step - loss: 0.4253 - acc: 0.9232 - val_loss: 1.6473 - val_acc: 0.7272\n",
            "Epoch 71/100\n",
            "Learning rate:  0.001\n",
            "229/229 [==============================] - 72s 314ms/step - loss: 0.3817 - acc: 0.9348 - val_loss: 2.1422 - val_acc: 0.6840\n",
            "Epoch 72/100\n",
            "Learning rate:  0.001\n",
            "229/229 [==============================] - 72s 314ms/step - loss: 0.3960 - acc: 0.9322 - val_loss: 1.7566 - val_acc: 0.7141\n",
            "Epoch 73/100\n",
            "Learning rate:  0.001\n",
            "229/229 [==============================] - 73s 318ms/step - loss: 0.3953 - acc: 0.9317 - val_loss: 5.6520 - val_acc: 0.6621\n",
            "Epoch 74/100\n",
            "Learning rate:  0.001\n",
            "229/229 [==============================] - 72s 314ms/step - loss: 0.4065 - acc: 0.9293 - val_loss: 1.8430 - val_acc: 0.7113\n",
            "Epoch 75/100\n",
            "Learning rate:  0.001\n",
            "229/229 [==============================] - 72s 313ms/step - loss: 0.4012 - acc: 0.9293 - val_loss: 8.9327 - val_acc: 0.6288\n",
            "Epoch 76/100\n",
            "Learning rate:  0.001\n",
            "229/229 [==============================] - 72s 314ms/step - loss: 0.3757 - acc: 0.9381 - val_loss: 1.7154 - val_acc: 0.7135\n",
            "Epoch 77/100\n",
            "Learning rate:  0.001\n",
            "229/229 [==============================] - 73s 317ms/step - loss: 0.3584 - acc: 0.9412 - val_loss: 1.6930 - val_acc: 0.7321\n",
            "Epoch 78/100\n",
            "Learning rate:  0.001\n",
            "229/229 [==============================] - 72s 313ms/step - loss: 0.3778 - acc: 0.9363 - val_loss: 1.8937 - val_acc: 0.7004\n",
            "Epoch 79/100\n",
            "Learning rate:  0.001\n",
            "229/229 [==============================] - 72s 313ms/step - loss: 0.3708 - acc: 0.9404 - val_loss: 1.7648 - val_acc: 0.7053\n",
            "Epoch 80/100\n",
            "Learning rate:  0.001\n",
            "229/229 [==============================] - 72s 313ms/step - loss: 0.3991 - acc: 0.9276 - val_loss: 1.6846 - val_acc: 0.7255\n",
            "Epoch 81/100\n",
            "Learning rate:  0.001\n",
            "229/229 [==============================] - 72s 313ms/step - loss: 0.3678 - acc: 0.9429 - val_loss: 1.7603 - val_acc: 0.7124\n",
            "Epoch 82/100\n",
            "Learning rate:  0.0001\n",
            "229/229 [==============================] - 72s 313ms/step - loss: 0.2923 - acc: 0.9632 - val_loss: 1.4763 - val_acc: 0.7540\n",
            "Epoch 83/100\n",
            "Learning rate:  0.0001\n",
            "229/229 [==============================] - 72s 314ms/step - loss: 0.2580 - acc: 0.9762 - val_loss: 1.4700 - val_acc: 0.7622\n",
            "Epoch 84/100\n",
            "Learning rate:  0.0001\n",
            "229/229 [==============================] - 72s 314ms/step - loss: 0.2516 - acc: 0.9788 - val_loss: 1.4645 - val_acc: 0.7654\n",
            "Epoch 85/100\n",
            "Learning rate:  0.0001\n",
            "229/229 [==============================] - 73s 318ms/step - loss: 0.2404 - acc: 0.9814 - val_loss: 1.4606 - val_acc: 0.7627\n",
            "Epoch 86/100\n",
            "Learning rate:  0.0001\n",
            "229/229 [==============================] - 72s 315ms/step - loss: 0.2367 - acc: 0.9810 - val_loss: 1.4791 - val_acc: 0.7622\n",
            "Epoch 87/100\n",
            "Learning rate:  0.0001\n",
            "229/229 [==============================] - 72s 315ms/step - loss: 0.2291 - acc: 0.9840 - val_loss: 1.4660 - val_acc: 0.7627\n",
            "Epoch 88/100\n",
            "Learning rate:  0.0001\n",
            "229/229 [==============================] - 72s 314ms/step - loss: 0.2242 - acc: 0.9841 - val_loss: 1.5075 - val_acc: 0.7572\n",
            "Epoch 89/100\n",
            "Learning rate:  0.0001\n",
            "229/229 [==============================] - 72s 314ms/step - loss: 0.2299 - acc: 0.9820 - val_loss: 1.4839 - val_acc: 0.7638\n",
            "Epoch 90/100\n",
            "Learning rate:  0.0001\n",
            "229/229 [==============================] - 73s 318ms/step - loss: 0.2184 - acc: 0.9855 - val_loss: 1.5016 - val_acc: 0.7649\n",
            "Epoch 91/100\n",
            "Learning rate:  0.0001\n",
            "229/229 [==============================] - 72s 314ms/step - loss: 0.2171 - acc: 0.9854 - val_loss: 1.4516 - val_acc: 0.7665\n",
            "Epoch 92/100\n",
            "Learning rate:  0.0001\n",
            "229/229 [==============================] - 73s 319ms/step - loss: 0.2184 - acc: 0.9835 - val_loss: 1.4830 - val_acc: 0.7633\n",
            "Epoch 93/100\n",
            "Learning rate:  0.0001\n",
            "229/229 [==============================] - 72s 314ms/step - loss: 0.2102 - acc: 0.9874 - val_loss: 1.4673 - val_acc: 0.7594\n",
            "Epoch 94/100\n",
            "Learning rate:  0.0001\n",
            "229/229 [==============================] - 73s 319ms/step - loss: 0.2042 - acc: 0.9881 - val_loss: 1.4984 - val_acc: 0.7611\n",
            "Epoch 95/100\n",
            "Learning rate:  0.0001\n",
            "229/229 [==============================] - 72s 314ms/step - loss: 0.2069 - acc: 0.9866 - val_loss: 1.5210 - val_acc: 0.7654\n",
            "Epoch 96/100\n",
            "Learning rate:  0.0001\n",
            "229/229 [==============================] - 73s 319ms/step - loss: 0.2033 - acc: 0.9874 - val_loss: 1.4946 - val_acc: 0.7671\n",
            "Epoch 97/100\n",
            "Learning rate:  0.0001\n",
            "229/229 [==============================] - 72s 314ms/step - loss: 0.1996 - acc: 0.9892 - val_loss: 1.4933 - val_acc: 0.7715\n",
            "Epoch 98/100\n",
            "Learning rate:  0.0001\n",
            "229/229 [==============================] - 73s 319ms/step - loss: 0.1966 - acc: 0.9877 - val_loss: 1.4886 - val_acc: 0.7638\n",
            "Epoch 99/100\n",
            "Learning rate:  0.0001\n",
            "229/229 [==============================] - 73s 318ms/step - loss: 0.1954 - acc: 0.9895 - val_loss: 1.5040 - val_acc: 0.7676\n",
            "Epoch 100/100\n",
            "Learning rate:  0.0001\n",
            "229/229 [==============================] - 72s 314ms/step - loss: 0.1954 - acc: 0.9877 - val_loss: 1.5088 - val_acc: 0.7654\n",
            "Test loss: 1.5088434219360352\n",
            "Test accuracy: 0.7654455900192261\n"
          ],
          "name": "stdout"
        }
      ]
    },
    {
      "cell_type": "code",
      "metadata": {
        "colab": {
          "base_uri": "https://localhost:8080/"
        },
        "id": "uD5fammJlQn5",
        "outputId": "6413744d-ed29-4be2-cd91-c102d17a0f2c"
      },
      "source": [
        "y_pred = model.predict(x_test)\n",
        "model.evaluate(x_test, y_test)"
      ],
      "execution_count": null,
      "outputs": [
        {
          "output_type": "stream",
          "text": [
            "58/58 [==============================] - 4s 76ms/step - loss: 1.5088 - acc: 0.7654\n"
          ],
          "name": "stdout"
        },
        {
          "output_type": "execute_result",
          "data": {
            "text/plain": [
              "[1.5088434219360352, 0.7654455900192261]"
            ]
          },
          "metadata": {
            "tags": []
          },
          "execution_count": 97
        }
      ]
    },
    {
      "cell_type": "code",
      "metadata": {
        "id": "FL5ZVMO2LU1a",
        "colab": {
          "base_uri": "https://localhost:8080/"
        },
        "outputId": "cb3340e4-e9af-4e56-8d7e-2d87d513fb4e"
      },
      "source": [
        "import tensorflow\n",
        "\n",
        "cce = tensorflow.keras.losses.categorical_crossentropy(\n",
        "    y_test,\n",
        "    y_pred,\n",
        "    from_logits = False,\n",
        "    label_smoothing = 0)\n",
        "cce = cce.numpy()\n",
        "print(cce)"
      ],
      "execution_count": null,
      "outputs": [
        {
          "output_type": "stream",
          "text": [
            "[6.4230405e-02 1.1920930e-07 1.1920930e-07 ... 4.3747479e-01 1.1424823e-01\n",
            " 6.4567733e-01]\n"
          ],
          "name": "stdout"
        }
      ]
    },
    {
      "cell_type": "code",
      "metadata": {
        "id": "xegYf1h2GJ5D"
      },
      "source": [
        "def classification_Cce(cce, y_test, y_pred) :\n",
        "  c = []\n",
        "  m = []\n",
        "  c_i = []\n",
        "\n",
        "  for i in range(len(y_test)) :\n",
        "    if np.argmax(y_test[i]) == np.argmax(y_pred[i]) :\n",
        "      c.append(cce[i])\n",
        "      c_i.append(i)\n",
        "    else :\n",
        "      m.append(cce[i])\n",
        "\n",
        "  return c, m, c_i"
      ],
      "execution_count": null,
      "outputs": []
    },
    {
      "cell_type": "code",
      "metadata": {
        "colab": {
          "base_uri": "https://localhost:8080/"
        },
        "id": "DFxioRCHHV4z",
        "outputId": "447e3f13-d5d3-4b41-cdc4-1d26f5fe0ba7"
      },
      "source": [
        "collect_Cce, missclassification_Cce, collect_Idx = classification_Cce(cce, y_test, y_pred)\n",
        "print(len(collect_Cce))\n",
        "print(len(missclassification_Cce))"
      ],
      "execution_count": null,
      "outputs": [
        {
          "output_type": "stream",
          "text": [
            "1400\n",
            "429\n"
          ],
          "name": "stdout"
        }
      ]
    },
    {
      "cell_type": "code",
      "metadata": {
        "id": "mJc72ue5906W"
      },
      "source": [
        "import matplotlib.pyplot as plt\n",
        "import matplotlib.ticker as ticker"
      ],
      "execution_count": null,
      "outputs": []
    },
    {
      "cell_type": "code",
      "metadata": {
        "id": "a-TuUqxGNmFK",
        "colab": {
          "base_uri": "https://localhost:8080/",
          "height": 295
        },
        "outputId": "1587631a-bea9-43cf-97df-eca391432ff1"
      },
      "source": [
        "x_value = []\n",
        "for i in range(len(collect_Cce)) :\n",
        "  x_value.append(i)\n",
        "\n",
        "plt.scatter(x_value, collect_Cce)\n",
        "plt.title('Collected data cross entropy')\n",
        "plt.xlabel('index')\n",
        "plt.ylabel('cross entropy')\n",
        "plt.show()"
      ],
      "execution_count": null,
      "outputs": [
        {
          "output_type": "display_data",
          "data": {
            "image/png": "[encoded data removed]",
            "text/plain": [
              "<Figure size 432x288 with 1 Axes>"
            ]
          },
          "metadata": {
            "tags": [],
            "needs_background": "light"
          }
        }
      ]
    },
    {
      "cell_type": "code",
      "metadata": {
        "id": "vGUHUdl8OHaK",
        "colab": {
          "base_uri": "https://localhost:8080/",
          "height": 295
        },
        "outputId": "ec24f745-8817-43c9-8267-dd4e64eefa26"
      },
      "source": [
        "X_value = []\n",
        "for i in range(len(missclassification_Cce)) :\n",
        "  X_value.append(i)\n",
        "\n",
        "plt.scatter(X_value, missclassification_Cce)\n",
        "plt.title('Missclassification data cross entropy')\n",
        "plt.xlabel('index')\n",
        "plt.ylabel('cross entropy')\n",
        "plt.show()"
      ],
      "execution_count": null,
      "outputs": [
        {
          "output_type": "display_data",
          "data": {
            "image/png": "[encoded data removed]",
            "text/plain": [
              "<Figure size 432x288 with 1 Axes>"
            ]
          },
          "metadata": {
            "tags": [],
            "needs_background": "light"
          }
        }
      ]
    },
    {
      "cell_type": "code",
      "metadata": {
        "colab": {
          "base_uri": "https://localhost:8080/",
          "height": 295
        },
        "id": "tbtbh25Y-Zy4",
        "outputId": "ef7225c1-ca9c-4ab3-b4c2-fc298a8a965a"
      },
      "source": [
        "Y = []\n",
        "for i in range(len(collect_Cce)) :\n",
        "  Y.append(1)\n",
        "y = []\n",
        "for i in range(len(missclassification_Cce)) :\n",
        "  y.append(0)\n",
        "\n",
        "values = [0, 1, 2, 3, 4, 5, 6, 7, 8 ,9, 10, 11, 12 ,13, 14, 15, 16]\n",
        "\n",
        "plt.plot(collect_Cce, Y, 'b^', missclassification_Cce, y, 'r^')\n",
        "plt.title('Cross entropy')\n",
        "plt.xlabel('index')\n",
        "plt.ylabel('cross entropy')\n",
        "plt.legend(['Collect', 'Miss'])\n",
        "plt.yticks([1,0])\n",
        "plt.xticks(values)\n",
        "\n",
        "plt.show()"
      ],
      "execution_count": null,
      "outputs": [
        {
          "output_type": "display_data",
          "data": {
            "image/png": "[encoded data removed]",
            "text/plain": [
              "<Figure size 432x288 with 1 Axes>"
            ]
          },
          "metadata": {
            "tags": [],
            "needs_background": "light"
          }
        }
      ]
    },
    {
      "cell_type": "code",
      "metadata": {
        "colab": {
          "base_uri": "https://localhost:8080/"
        },
        "id": "0yOIVHOpYL_Z",
        "outputId": "954619cf-620e-47d4-80ad-552ac6de76cf"
      },
      "source": [
        "print(max(collect_Cce))\n",
        "print(min(missclassification_Cce))"
      ],
      "execution_count": null,
      "outputs": [
        {
          "output_type": "stream",
          "text": [
            "1.2613289\n",
            "0.74587244\n"
          ],
          "name": "stdout"
        }
      ]
    },
    {
      "cell_type": "code",
      "metadata": {
        "id": "2urcrdC3bn3J"
      },
      "source": [
        "def static_Threshold() :\n",
        "  threshold = []\n",
        "  for i in range(1, 10):\n",
        "    threshold.append(round(i * 0.1, 1))\n",
        "  return threshold"
      ],
      "execution_count": null,
      "outputs": []
    },
    {
      "cell_type": "code",
      "metadata": {
        "colab": {
          "base_uri": "https://localhost:8080/"
        },
        "id": "bUdZfL9CcsW9",
        "outputId": "e76642cd-0237-4ae1-c547-3159cfaaed36"
      },
      "source": [
        "staticThreshold = static_Threshold()\n",
        "print(staticThreshold)"
      ],
      "execution_count": null,
      "outputs": [
        {
          "output_type": "stream",
          "text": [
            "[0.1, 0.2, 0.3, 0.4, 0.5, 0.6, 0.7, 0.8, 0.9]\n"
          ],
          "name": "stdout"
        }
      ]
    },
    {
      "cell_type": "code",
      "metadata": {
        "id": "6GuX1afKcWzk"
      },
      "source": [
        "def dynamic_Threshold(missclassification_Cce) :\n",
        "  #Z = [1.96, 2.17, 2.576] # 95%, 97%, 99% two-tails\n",
        "  Z = [1.645, 1.96, 2.326] # 95%, 97.5%, 99% one-tails\n",
        "  threshold = [min(missclassification_Cce)]\n",
        "  x_ = np.mean(missclassification_Cce)\n",
        "  o = np.std(missclassification_Cce)\n",
        "  n_ = (len(missclassification_Cce))**0.5\n",
        "\n",
        "  for z in Z :\n",
        "    threshold.append(x_- (z * o)/n_)\n",
        "  \n",
        "  return threshold"
      ],
      "execution_count": null,
      "outputs": []
    },
    {
      "cell_type": "code",
      "metadata": {
        "id": "K9dMgr3ehAMy",
        "colab": {
          "base_uri": "https://localhost:8080/"
        },
        "outputId": "db558663-8bf9-4762-830f-9d19ce29b2f8"
      },
      "source": [
        "dynamicThreshold = dynamic_Threshold(missclassification_Cce)\n",
        "print(dynamicThreshold)"
      ],
      "execution_count": null,
      "outputs": [
        {
          "output_type": "stream",
          "text": [
            "[0.74587244, 5.185324421156891, 5.125026945426301, 5.054967021244092]\n"
          ],
          "name": "stdout"
        }
      ]
    },
    {
      "cell_type": "code",
      "metadata": {
        "id": "q6HhUB1vhVK_"
      },
      "source": [
        "def detection(threshold, cce, collect) : \n",
        "  PMD = []\n",
        "  for i in collect :\n",
        "    if cce[i] > threshold :\n",
        "        PMD.append(i)\n",
        "  return PMD"
      ],
      "execution_count": null,
      "outputs": []
    },
    {
      "cell_type": "code",
      "metadata": {
        "id": "G9uUzEC1h4na"
      },
      "source": [
        "def detection_PMD(list_of_threshold, cce, collect):\n",
        "  PMD_by_threshold = []\n",
        "\n",
        "  for th in list_of_threshold :\n",
        "    PMD_by_threshold.append(detection(th, cce, collect))\n",
        "  return PMD_by_threshold"
      ],
      "execution_count": null,
      "outputs": []
    },
    {
      "cell_type": "code",
      "metadata": {
        "id": "YsVPum8jkUL_"
      },
      "source": [
        "PMD_By_Static_Threshold  = detection_PMD(staticThreshold, cce, collect_Idx)\n",
        "PMD_By_Dynamic_Threshold = detection_PMD(dynamicThreshold, cce, collect_Idx)"
      ],
      "execution_count": null,
      "outputs": []
    },
    {
      "cell_type": "code",
      "metadata": {
        "colab": {
          "base_uri": "https://localhost:8080/"
        },
        "id": "Y36FANL0kxIC",
        "outputId": "aa6d620d-0a39-4753-acd4-d61fe005af6d"
      },
      "source": [
        "print(len(PMD_By_Static_Threshold))\n",
        "print(PMD_By_Static_Threshold)\n",
        "print(len(PMD_By_Dynamic_Threshold))\n",
        "print(PMD_By_Dynamic_Threshold)"
      ],
      "execution_count": null,
      "outputs": [
        {
          "output_type": "stream",
          "text": [
            "9\n",
            "[[6, 12, 13, 26, 28, 31, 32, 41, 64, 94, 96, 111, 112, 118, 120, 131, 137, 146, 149, 182, 184, 198, 239, 241, 242, 256, 267, 270, 274, 276, 308, 316, 330, 345, 352, 376, 377, 403, 404, 409, 422, 445, 458, 461, 465, 471, 501, 504, 513, 527, 559, 580, 581, 583, 585, 590, 612, 615, 629, 631, 662, 665, 671, 687, 700, 706, 723, 730, 758, 763, 778, 792, 805, 810, 812, 814, 823, 826, 829, 840, 844, 850, 851, 860, 871, 891, 892, 903, 918, 927, 929, 940, 951, 955, 988, 992, 998, 1032, 1062, 1071, 1097, 1117, 1121, 1131, 1147, 1155, 1164, 1172, 1209, 1210, 1212, 1220, 1221, 1224, 1227, 1228, 1237, 1238, 1242, 1253, 1269, 1272, 1291, 1326, 1332, 1369, 1370, 1371, 1375, 1384, 1400, 1430, 1436, 1437, 1442, 1472, 1481, 1513, 1528, 1590, 1609, 1619, 1625, 1627, 1632, 1659, 1664, 1690, 1713, 1714, 1730, 1739, 1747, 1762, 1772, 1816, 1824, 1826, 1827, 1828], [6, 12, 26, 28, 31, 41, 64, 94, 111, 120, 131, 137, 146, 149, 182, 184, 198, 241, 256, 267, 274, 308, 316, 330, 376, 377, 403, 409, 422, 458, 504, 513, 580, 581, 585, 590, 612, 615, 631, 662, 665, 671, 687, 700, 706, 723, 730, 758, 778, 792, 810, 812, 814, 826, 840, 844, 851, 860, 871, 891, 892, 903, 918, 927, 929, 940, 955, 988, 992, 998, 1062, 1071, 1117, 1121, 1155, 1209, 1210, 1212, 1220, 1227, 1228, 1238, 1242, 1272, 1326, 1332, 1369, 1370, 1430, 1436, 1437, 1442, 1472, 1481, 1513, 1528, 1590, 1609, 1625, 1632, 1659, 1664, 1690, 1714, 1730, 1772, 1816, 1824, 1826, 1828], [12, 26, 28, 31, 41, 64, 94, 111, 120, 131, 137, 146, 149, 182, 184, 256, 267, 274, 316, 330, 376, 377, 403, 422, 458, 504, 513, 580, 581, 585, 612, 615, 631, 662, 665, 671, 706, 723, 730, 778, 792, 810, 812, 814, 826, 840, 844, 860, 891, 892, 903, 918, 927, 929, 940, 955, 992, 998, 1071, 1117, 1121, 1155, 1209, 1212, 1220, 1228, 1238, 1242, 1272, 1332, 1369, 1430, 1436, 1437, 1442, 1481, 1528, 1590, 1609, 1625, 1632, 1664, 1690, 1714, 1772, 1816, 1824, 1826, 1828], [12, 26, 28, 31, 41, 64, 94, 111, 120, 131, 137, 149, 182, 184, 256, 267, 316, 376, 377, 403, 422, 458, 504, 513, 580, 581, 585, 612, 615, 665, 706, 723, 730, 778, 792, 812, 840, 860, 892, 903, 918, 927, 929, 955, 992, 998, 1117, 1121, 1212, 1228, 1238, 1242, 1272, 1332, 1442, 1528, 1590, 1609, 1625, 1632, 1664, 1690, 1714, 1772, 1816, 1824, 1826, 1828], [12, 26, 28, 31, 41, 64, 94, 111, 120, 131, 149, 182, 184, 267, 376, 377, 403, 422, 458, 504, 513, 580, 612, 615, 665, 723, 730, 778, 792, 812, 840, 860, 903, 927, 929, 955, 992, 998, 1117, 1121, 1228, 1242, 1272, 1332, 1442, 1590, 1609, 1625, 1664, 1690, 1772, 1816, 1824, 1828], [12, 26, 31, 64, 94, 120, 149, 184, 376, 403, 458, 504, 612, 615, 665, 723, 730, 778, 792, 840, 860, 903, 929, 955, 992, 998, 1117, 1228, 1242, 1272, 1332, 1442, 1590, 1609, 1625, 1664, 1824, 1828], [31, 64, 94, 120, 149, 376, 458, 504, 612, 615, 665, 778, 792, 903, 929, 1117, 1228, 1332, 1442, 1625, 1664], [64, 94, 120, 376, 458, 504, 615, 665, 778, 903, 1332, 1625], [64, 94, 120, 376, 615]]\n",
            "4\n",
            "[[31, 64, 94, 120, 376, 458, 504, 615, 665, 778, 792, 903, 1117, 1332, 1625, 1664], [], [], []]\n"
          ],
          "name": "stdout"
        }
      ]
    },
    {
      "cell_type": "code",
      "metadata": {
        "id": "h_N77SkD7mAY"
      },
      "source": [
        "import cv2"
      ],
      "execution_count": null,
      "outputs": []
    },
    {
      "cell_type": "code",
      "metadata": {
        "id": "sBl0YdF-ktFs"
      },
      "source": [
        "def rotate_img_set(data_set, angle) : # 10' ~ 90'\n",
        "  rotated_img = []\n",
        "  print(\"rotate \" + str(angle) + \"degree\")\n",
        "  for img in data_set :\n",
        "    m = cv2.getRotationMatrix2D((64, 64), angle, 1)\n",
        "    new_img = cv2.warpAffine(img, m, (128, 128), cv2.INTER_AREA, borderMode = 1)\n",
        "    rotated_img.append(new_img)\n",
        "    \n",
        "  return rotated_img"
      ],
      "execution_count": null,
      "outputs": []
    },
    {
      "cell_type": "code",
      "metadata": {
        "id": "5j_63itRXpce"
      },
      "source": [
        "def img_trim(img, size) :\n",
        "  w = 128\n",
        "  h = 128\n",
        "  new_img = img[size:size+h, size:size+w]\n",
        "  return new_img"
      ],
      "execution_count": null,
      "outputs": []
    },
    {
      "cell_type": "code",
      "metadata": {
        "id": "d025U1ddpf0f"
      },
      "source": [
        "def size_Adjust(x_test, rate) :\n",
        "\n",
        "  new_data_set = []\n",
        "  if rate > 1 : # aggmentation\n",
        "    print(\"augmentation \" + str(rate) + \"%\")\n",
        "    size = round(128*rate/2 - 64)\n",
        "    for img in x_test :\n",
        "      new_img = cv2.resize(img, None, fx = rate, fy = rate, interpolation = cv2.INTER_LINEAR)\n",
        "      new_img = img_trim(new_img, size)\n",
        "      new_data_set.append(new_img)\n",
        "  else :  # reduction\n",
        "    print(\"reduction \" + str(rate) + \"%\")\n",
        "    size = round(64 * (1-rate))\n",
        "    for img in x_test :\n",
        "      new_img = cv2.resize(img, None, fx = rate, fy = rate, interpolation = cv2.INTER_AREA)\n",
        "      new_img = np.pad(new_img, ((size, size), (size, size), (0, 0)), mode = 'edge')\n",
        "      new_img = cv2.resize(new_img, (128, 128), interpolation = cv2.INTER_AREA)\n",
        "      new_data_set.append(new_img)\n",
        "\n",
        "  return new_data_set"
      ],
      "execution_count": null,
      "outputs": []
    },
    {
      "cell_type": "code",
      "metadata": {
        "id": "A17nZHELAsk8"
      },
      "source": [
        "def get_MD(y_pred, new_y_pred, y_test) :\n",
        "  MD = []\n",
        "  for i in range(len(y_pred)) :\n",
        "    if np.argmax(y_pred[i]) == np.argmax(y_test[i]) and np.argmax(new_y_pred[i]) != np.argmax(y_test[i]) :\n",
        "      MD.append(i)\n",
        "  return MD"
      ],
      "execution_count": null,
      "outputs": []
    },
    {
      "cell_type": "code",
      "metadata": {
        "id": "xVbJ2c76DBfN"
      },
      "source": [
        "def get_PMD_Precision(MD, PMD) :\n",
        "  cnt = 0\n",
        "  if len(PMD) == 0 :\n",
        "    return 0\n",
        "  for data in PMD : \n",
        "    if data in MD :\n",
        "      cnt = cnt + 1\n",
        "  return cnt/len(PMD)"
      ],
      "execution_count": null,
      "outputs": []
    },
    {
      "cell_type": "code",
      "metadata": {
        "id": "Cw8jcHeuDm1I"
      },
      "source": [
        "def get_PMD_Recall(MD, PMD) :\n",
        "  cnt = 0\n",
        "  if len(MD) == 0 :\n",
        "    return 0\n",
        "  for data in MD : \n",
        "    if data in PMD :\n",
        "      cnt = cnt + 1\n",
        "  return cnt/len(MD)"
      ],
      "execution_count": null,
      "outputs": []
    },
    {
      "cell_type": "code",
      "metadata": {
        "id": "zDi-HHhKMKKb"
      },
      "source": [
        "def get_Result(PMD_By_Static_Threshold, PMD_By_Dynamic_Threshold, data_set, y_pred, y_test) : #\n",
        "  Stp = []   # [ th = 0.1_pre1, th = 0.2_pre2, ... , th = 0.9_pre9 ] number of elements = 9\n",
        "  Dtp = []   # [ th = min_pre1, th = 95%_pre2, ... , th = 99%_pre4 ] number of elements = 4\n",
        "  Str = []   # [ th = 0.1_rec1, th = 0.2_rec2, ... , th = 0.9_rec9 ] number of elements = 9\n",
        "  Dtr = []   # [ th = min_rec1, th = 95%_rec2, ... , th = 99%_rec4 ] number of elements = 4\n",
        "  new_y_pred = model.predict(data_set) # error\n",
        "  MD = get_MD(y_pred, new_y_pred, y_test)\n",
        "\n",
        "  for s in PMD_By_Static_Threshold :\n",
        "    Stp.append(get_PMD_Precision(MD, s))\n",
        "    Str.append(get_PMD_Recall(MD, s))\n",
        "\n",
        "  for d in PMD_By_Dynamic_Threshold :\n",
        "    Dtp.append(get_PMD_Precision(MD, d))\n",
        "    Dtr.append(get_PMD_Recall(MD, d))\n",
        "\n",
        "  return Stp, Dtp, Str, Dtr"
      ],
      "execution_count": null,
      "outputs": []
    },
    {
      "cell_type": "code",
      "metadata": {
        "id": "VIrGCTsIT0W2"
      },
      "source": [
        "def get_Avg_Result(lists) : #\n",
        "  x = len(lists[0]) # static = 9, dynamic = 4\n",
        "  y = len(lists)    # aggmentation, reduction = 4, rotate = 9\n",
        "  Avg = []\n",
        "\n",
        "  for i in range(x) :\n",
        "    temp = 0\n",
        "    for j in range(y) :\n",
        "      temp = temp + lists[j][i]\n",
        "    Avg.append(temp/y)\n",
        "  return Avg"
      ],
      "execution_count": null,
      "outputs": []
    },
    {
      "cell_type": "code",
      "metadata": {
        "id": "IstHpWWqaKbx"
      },
      "source": [
        "def validation(PMD_By_Static_Threshold, PMD_By_Dynamic_Threshold, y_pred, y_test, list_of_rate, rotated = False) : #\n",
        "\n",
        "  stp_Result = []\n",
        "  dtp_Result = []\n",
        "  str_Result = []\n",
        "  dtr_Result = []\n",
        "\n",
        "  for rate in list_of_rate :\n",
        "    if rotated :\n",
        "      data_set = rotate_img_set(x_test, rate)\n",
        "    else :\n",
        "      data_set = size_Adjust(x_test, rate)\n",
        "    data_set = np.array(data_set)\n",
        "\n",
        "    Stp, Dtp, Str, Dtr = get_Result(PMD_By_Static_Threshold, PMD_By_Dynamic_Threshold, data_set, y_pred, y_test)\n",
        "    stp_Result.append(Stp)\n",
        "    dtp_Result.append(Dtp)\n",
        "    str_Result.append(Str)\n",
        "    dtr_Result.append(Dtr)\n",
        "\n",
        "  stp_Result = get_Avg_Result(stp_Result)\n",
        "  dtp_Result = get_Avg_Result(dtp_Result)\n",
        "  str_Result = get_Avg_Result(str_Result)\n",
        "  dtr_Result = get_Avg_Result(dtr_Result)\n",
        "  return stp_Result, dtp_Result, str_Result, dtr_Result"
      ],
      "execution_count": null,
      "outputs": []
    },
    {
      "cell_type": "code",
      "metadata": {
        "id": "UvNLJ7piWSqM"
      },
      "source": [
        "def print_Result(stp_Result, dtp_Result, str_Result, dtr_Result, comments, staticThreshold, dynamicThreshold) :\n",
        "  print(comments)\n",
        "  print(staticThreshold)\n",
        "  print(stp_Result)\n",
        "  print(str_Result)\n",
        "  print(dynamicThreshold)\n",
        "  print(dtp_Result)\n",
        "  print(dtr_Result)"
      ],
      "execution_count": null,
      "outputs": []
    },
    {
      "cell_type": "code",
      "metadata": {
        "id": "7ldORRdSVA6G"
      },
      "source": [
        "list_of_ag_rate = [1.1, 1.2, 1.3, 1.4]\n",
        "list_of_rd_rate = [0.9, 0.8, 0.7, 0.6]\n",
        "list_of_degree = [10, 20, 30, 40, 50, 60 ,70, 80 ,90]"
      ],
      "execution_count": null,
      "outputs": []
    },
    {
      "cell_type": "code",
      "metadata": {
        "colab": {
          "base_uri": "https://localhost:8080/"
        },
        "id": "YIjZQrrqVDHQ",
        "outputId": "20e5a8fa-b6e2-42c9-92c1-ef3922cd3a8c"
      },
      "source": [
        "rot_Stp, rot_Dtp, rot_Str, rot_Dtr = validation(PMD_By_Static_Threshold, PMD_By_Dynamic_Threshold, y_pred, y_test, list_of_degree, True)   ## rotated"
      ],
      "execution_count": null,
      "outputs": [
        {
          "output_type": "stream",
          "text": [
            "rotate 10degree\n",
            "rotate 20degree\n",
            "rotate 30degree\n",
            "rotate 40degree\n",
            "rotate 50degree\n",
            "rotate 60degree\n",
            "rotate 70degree\n",
            "rotate 80degree\n",
            "rotate 90degree\n"
          ],
          "name": "stdout"
        }
      ]
    },
    {
      "cell_type": "code",
      "metadata": {
        "colab": {
          "base_uri": "https://localhost:8080/"
        },
        "id": "3LO8k1sSVGDT",
        "outputId": "d7445632-5926-4dbb-ca25-53480b1784ca"
      },
      "source": [
        "ag_Stp, ag_Dtp, ag_Str, ag_Dtr = validation(PMD_By_Static_Threshold, PMD_By_Dynamic_Threshold, y_pred, y_test, list_of_ag_rate, False)    ## augmentation"
      ],
      "execution_count": null,
      "outputs": [
        {
          "output_type": "stream",
          "text": [
            "augmentation 1.1%\n",
            "augmentation 1.2%\n",
            "augmentation 1.3%\n",
            "augmentation 1.4%\n"
          ],
          "name": "stdout"
        }
      ]
    },
    {
      "cell_type": "code",
      "metadata": {
        "colab": {
          "base_uri": "https://localhost:8080/"
        },
        "id": "4GJeSp_xVIcI",
        "outputId": "326a4d55-6eeb-4a10-df2b-c1fad40f2ac1"
      },
      "source": [
        "rd_Stp, rd_Dtp, rd_Str, rd_Dtr = validation(PMD_By_Static_Threshold, PMD_By_Dynamic_Threshold, y_pred, y_test, list_of_rd_rate, False)   ## reduction"
      ],
      "execution_count": null,
      "outputs": [
        {
          "output_type": "stream",
          "text": [
            "reduction 0.9%\n",
            "reduction 0.8%\n",
            "reduction 0.7%\n",
            "reduction 0.6%\n"
          ],
          "name": "stdout"
        }
      ]
    },
    {
      "cell_type": "code",
      "metadata": {
        "colab": {
          "base_uri": "https://localhost:8080/"
        },
        "id": "lz1I_yWxWm2l",
        "outputId": "eead08eb-1334-408e-e7ed-0d4189462349"
      },
      "source": [
        "print_Result(rot_Stp, rot_Dtp, rot_Str, rot_Dtr, \"Rotation\", staticThreshold, dynamicThreshold)"
      ],
      "execution_count": null,
      "outputs": [
        {
          "output_type": "stream",
          "text": [
            "Rotation\n",
            "[0.1, 0.2, 0.3, 0.4, 0.5, 0.6, 0.7, 0.8, 0.9]\n",
            "[0.7840277777777778, 0.7989898989898989, 0.8039950062421971, 0.8218954248366013, 0.8477366255144033, 0.8333333333333333, 0.8677248677248678, 0.8333333333333335, 0.8444444444444444]\n",
            "[0.183358719945324, 0.1325836305577468, 0.10847642889693401, 0.08444624927574178, 0.07034201720697959, 0.04809779510363152, 0.02478384169450232, 0.013185722184296948, 0.005818265008916606]\n",
            "[0.74587244, 5.185324421156891, 5.125026945426301, 5.054967021244092]\n",
            "[0.8472222222222222, 0.0, 0.0, 0.0]\n",
            "[0.018291660620597158, 0.0, 0.0, 0.0]\n"
          ],
          "name": "stdout"
        }
      ]
    },
    {
      "cell_type": "code",
      "metadata": {
        "colab": {
          "base_uri": "https://localhost:8080/"
        },
        "id": "QxaGucIFH305",
        "outputId": "b40c82f1-1816-47cf-94e8-8adce97cb0bf"
      },
      "source": [
        "print_Result(ag_Stp, ag_Dtp, ag_Str, ag_Dtr, \"Augmentation\", staticThreshold, dynamicThreshold)"
      ],
      "execution_count": null,
      "outputs": [
        {
          "output_type": "stream",
          "text": [
            "Augmentation\n",
            "[0.1, 0.2, 0.3, 0.4, 0.5, 0.6, 0.7, 0.8, 0.9]\n",
            "[0.39375000000000004, 0.4477272727272727, 0.4662921348314607, 0.4963235294117647, 0.4722222222222222, 0.4671052631578947, 0.5714285714285714, 0.7083333333333334, 0.9]\n",
            "[0.35451279360478627, 0.28908237232726164, 0.24726672986094317, 0.20444495831472514, 0.1497887493005382, 0.1022022528700734, 0.07149753518785587, 0.05126771749216397, 0.02697646130880407]\n",
            "[0.74587244, 5.185324421156891, 5.125026945426301, 5.054967021244092]\n",
            "[0.578125, 0.0, 0.0, 0.0]\n",
            "[0.05463598272689776, 0.0, 0.0, 0.0]\n"
          ],
          "name": "stdout"
        }
      ]
    },
    {
      "cell_type": "code",
      "metadata": {
        "colab": {
          "base_uri": "https://localhost:8080/"
        },
        "id": "BXdBb1yEH3-s",
        "outputId": "75ff4b93-aef2-452d-e9d5-20cbd7d7ab4f"
      },
      "source": [
        "print_Result(rd_Stp, rd_Dtp, rd_Str, rd_Dtr, \"Reduction\", staticThreshold, dynamicThreshold)"
      ],
      "execution_count": null,
      "outputs": [
        {
          "output_type": "stream",
          "text": [
            "Reduction\n",
            "[0.1, 0.2, 0.3, 0.4, 0.5, 0.6, 0.7, 0.8, 0.9]\n",
            "[0.5734375, 0.6159090909090909, 0.6292134831460674, 0.6580882352941176, 0.7083333333333334, 0.7171052631578947, 0.7857142857142858, 0.7708333333333334, 0.7]\n",
            "[0.48264163146759165, 0.3649867974867174, 0.3038977159880834, 0.252696333041978, 0.2187207977338355, 0.1574900809540589, 0.09923259914851035, 0.05423563473504211, 0.019041250417583824]\n",
            "[0.74587244, 5.185324421156891, 5.125026945426301, 5.054967021244092]\n",
            "[0.75, 0.0, 0.0, 0.0]\n",
            "[0.0716135286481572, 0.0, 0.0, 0.0]\n"
          ],
          "name": "stdout"
        }
      ]
    }
  ]
}
