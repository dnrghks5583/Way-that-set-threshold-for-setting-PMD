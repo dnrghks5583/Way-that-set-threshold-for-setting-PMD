{
 "cells": [
  {
   "cell_type": "code",
   "execution_count": 1,
   "id": "6c57b76a",
   "metadata": {},
   "outputs": [],
   "source": [
    "import os\n",
    "import pathlib\n",
    "import numpy as np\n",
    "from tensorflow.keras import *\n",
    "from tensorflow.keras.models import Model, Sequential\n",
    "from tensorflow.keras.layers import Dense, Activation, Conv2D, MaxPooling2D, Dropout, Flatten, BatchNormalization, Input, Add, ReLU, AveragePooling2D, GlobalAveragePooling2D, ZeroPadding2D\n",
    "from tensorflow.keras.applications.resnet50 import ResNet50\n",
    "from keras.preprocessing import image\n",
    "\n",
    "path = 'C:\\\\Users\\\\USER\\\\Desktop\\\\GP\\\\Linnaeus 5 128X128'\n",
    "\n",
    "train_path = os.path.join(path, 'train')\n",
    "test_path = os.path.join(path, 'test')"
   ]
  },
  {
   "cell_type": "code",
   "execution_count": 2,
   "id": "a56dc9a6",
   "metadata": {},
   "outputs": [],
   "source": [
    "def make_dataset(kind_of_data) :\n",
    "    X = []\n",
    "    Y = []\n",
    "    if kind_of_data == 'train' :\n",
    "        new_path = train_path\n",
    "    elif kind_of_data == 'test' :\n",
    "        new_path = test_path\n",
    "    else :\n",
    "        return 0\n",
    "    \n",
    "    os.chdir(new_path)\n",
    "    folders = os.listdir()\n",
    "    folder_paths = []\n",
    "    \n",
    "    for folder in range(len(folders)):\n",
    "      folder_paths = os.path.join(new_path,folders[folder])\n",
    "      os.chdir(folder_paths)\n",
    "      image_in_folder = os.listdir()\n",
    "      for i in range(len(image_in_folder)):\n",
    "          img = image.load_img(str(image_in_folder[i]))\n",
    "          img = image.img_to_array(img)\n",
    "          X.append(img)\n",
    "          Y.append(folder)\n",
    "              \n",
    "    return X, Y"
   ]
  },
  {
   "cell_type": "code",
   "execution_count": 3,
   "id": "f222d138",
   "metadata": {},
   "outputs": [],
   "source": [
    "x_train, y_train = make_dataset('train')\n",
    "x_test, y_test = make_dataset('test')"
   ]
  },
  {
   "cell_type": "code",
   "execution_count": 5,
   "id": "311993ea",
   "metadata": {},
   "outputs": [
    {
     "name": "stdout",
     "output_type": "stream",
     "text": [
      "(6000, 5)\n"
     ]
    }
   ],
   "source": [
    "from keras.utils import np_utils\n",
    "# one-hot encoding\n",
    "\n",
    "y_train = np_utils.to_categorical(y_train)\n",
    "y_test  = np_utils.to_categorical(y_test )\n",
    "print(y_train.shape)"
   ]
  },
  {
   "cell_type": "code",
   "execution_count": 6,
   "id": "f8074640",
   "metadata": {},
   "outputs": [
    {
     "name": "stdout",
     "output_type": "stream",
     "text": [
      "start\n",
      "done\n",
      "done\n",
      "done\n",
      "done\n"
     ]
    }
   ],
   "source": [
    "import gzip\n",
    "import pickle\n",
    "##save\n",
    "os.path.join(path,'Linnaeus5_pickle_128x128')\n",
    "os.chdir(path)\n",
    "print(\"start\")\n",
    "\n",
    "with gzip.open('Linnaeus5_y_trainData.pickle', 'wb') as f:\n",
    "    pickle.dump(y_train, f)\n",
    "print(\"done\")    \n",
    "with gzip.open('Linnaeus5_y_testData.pickle', 'wb') as f:\n",
    "    pickle.dump(y_test,f)\n",
    "print(\"done\")\n",
    "with gzip.open('Linnaeus5_x_trainData.pickle', 'wb') as f:\n",
    "    pickle.dump(x_train, f)\n",
    "print(\"done\")    \n",
    "with gzip.open('Linnaeus5_x_testData.pickle', 'wb') as f:\n",
    "    pickle.dump(x_test,f)    \n",
    "print(\"done\")"
   ]
  }
 ],
 "metadata": {
  "kernelspec": {
   "display_name": "Python 3",
   "language": "python",
   "name": "python3"
  },
  "language_info": {
   "codemirror_mode": {
    "name": "ipython",
    "version": 3
   },
   "file_extension": ".py",
   "mimetype": "text/x-python",
   "name": "python",
   "nbconvert_exporter": "python",
   "pygments_lexer": "ipython3",
   "version": "3.8.8"
  }
 },
 "nbformat": 4,
 "nbformat_minor": 5
}
