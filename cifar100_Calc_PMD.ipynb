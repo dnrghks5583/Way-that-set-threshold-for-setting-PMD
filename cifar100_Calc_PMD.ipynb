{
  "nbformat": 4,
  "nbformat_minor": 0,
  "metadata": {
    "colab": {
      "name": "Untitled2.ipynb",
      "provenance": [],
      "collapsed_sections": [],
      "authorship_tag": "ABX9TyOnUmzGORRHiFD1Eol+vY4r",
      "include_colab_link": true
    },
    "kernelspec": {
      "name": "python3",
      "display_name": "Python 3"
    },
    "language_info": {
      "name": "python"
    },
    "accelerator": "GPU"
  },
  "cells": [
    {
      "cell_type": "markdown",
      "metadata": {
        "id": "view-in-github",
        "colab_type": "text"
      },
      "source": [
        "<a href=\"https://colab.research.google.com/github/dnrghks5583/Way-that-set-threshold-for-setting-PMD/blob/main/cifar100_Calc_PMD.ipynb\" target=\"_parent\"><img src=\"https://colab.research.google.com/assets/colab-badge.svg\" alt=\"Open In Colab\"/></a>"
      ]
    },
    {
      "cell_type": "code",
      "metadata": {
        "id": "1FEw12W4mP-1"
      },
      "source": [
        "from __future__ import absolute_import\n",
        "from __future__ import division\n",
        "from __future__ import print_function\n",
        "\n",
        "from tensorflow.keras.layers import Dense, Conv2D\n",
        "from tensorflow.keras.layers import BatchNormalization, Activation\n",
        "from tensorflow.keras.layers import AveragePooling2D, Input\n",
        "from tensorflow.keras.layers import Flatten, add\n",
        "from tensorflow.keras.optimizers import Adam\n",
        "from tensorflow.keras.callbacks import ModelCheckpoint, LearningRateScheduler\n",
        "from tensorflow.keras.callbacks import ReduceLROnPlateau\n",
        "from tensorflow.keras.preprocessing.image import ImageDataGenerator\n",
        "from tensorflow.keras.regularizers import l2\n",
        "from tensorflow.keras.models import Model\n",
        "from tensorflow.keras.utils import plot_model\n",
        "from tensorflow.keras.utils import to_categorical\n",
        "import numpy as np\n",
        "import os\n",
        "import math\n",
        "import tensorflow as tf\n",
        "from keras.models import load_model\n",
        "\n",
        "# training parameters\n",
        "batch_size = 32 # orig paper trained all networks with batch_size=128\n",
        "epochs = 100\n",
        "num_classes = 100\n",
        "data_augmentation = True\n",
        "\n",
        "# subtracting pixel mean improves accuracy\n",
        "subtract_pixel_mean = True\n",
        "\n",
        "# Model parameter\n",
        "# ----------------------------------------------------------------------------\n",
        "#           |      | 200-epoch | Orig Paper| 200-epoch | Orig Paper| sec/epoch\n",
        "# Model     |  n   | ResNet v1 | ResNet v1 | ResNet v2 | ResNet v2 | GTX1080Ti\n",
        "#           |v1(v2)| %Accuracy | %Accuracy | %Accuracy | %Accuracy | v1 (v2)\n",
        "# ----------------------------------------------------------------------------\n",
        "# ResNet20  | 3 (2)| 92.16     | 91.25     | -----     | -----     | 35 (---)\n",
        "# ResNet32  | 5(NA)| 92.46     | 92.49     | NA        | NA        | 50 ( NA)\n",
        "# ResNet44  | 7(NA)| 92.50     | 92.83     | NA        | NA        | 70 ( NA)\n",
        "# ResNet56  | 9 (6)| 92.71     | 93.03     | 93.01     | NA        | 90 (100)\n",
        "# ResNet110 |18(12)| 92.65     | 93.39+-.16| 93.15     | 93.63     | 165(180)\n",
        "# ResNet164 |27(18)| -----     | 94.07     | -----     | 94.54     | ---(---)\n",
        "# ResNet1001| (111)| -----     | 92.39     | -----     | 95.08+-.14| ---(---)\n",
        "# ---------------------------------------------------------------------------\n",
        "n = 9\n",
        "\n",
        "# model version\n",
        "# orig paper: version = 1 (ResNet v1), \n",
        "# improved ResNet: version = 2 (ResNet v2)\n",
        "version = 1\n",
        "path = '/content/gdrive/My Drive/cifar100'\n",
        "image_size = (32, 32)\n",
        "input_shape = (32, 32, 3)\n",
        "num_classes = 100"
      ],
      "execution_count": 4,
      "outputs": []
    },
    {
      "cell_type": "code",
      "metadata": {
        "colab": {
          "base_uri": "https://localhost:8080/"
        },
        "id": "A2UNFc7hiikd",
        "outputId": "ffb9dd78-2c50-46f6-f59b-4c6e7d63bd26"
      },
      "source": [
        "from google.colab import drive\n",
        "drive.mount('/content/gdrive')"
      ],
      "execution_count": 2,
      "outputs": [
        {
          "output_type": "stream",
          "text": [
            "Mounted at /content/gdrive\n"
          ],
          "name": "stdout"
        }
      ]
    },
    {
      "cell_type": "code",
      "metadata": {
        "id": "XsD173YPiyAG"
      },
      "source": [
        "model_path = '/CIFAR-100_ResNet56v1_model.125.h5'\n",
        "model = tf.keras.models.load_model(path + model_path) # load model"
      ],
      "execution_count": 5,
      "outputs": []
    },
    {
      "cell_type": "code",
      "metadata": {
        "colab": {
          "base_uri": "https://localhost:8080/"
        },
        "id": "c1iSLe2GmTs-",
        "outputId": "d256ab07-3f4e-4db9-9f08-a7ce9dbe8a46"
      },
      "source": [
        "(x_train, y_train), (x_test, y_test) = tf.keras.datasets.cifar100.load_data()"
      ],
      "execution_count": 6,
      "outputs": [
        {
          "output_type": "stream",
          "text": [
            "Downloading data from https://www.cs.toronto.edu/~kriz/cifar-100-python.tar.gz\n",
            "169009152/169001437 [==============================] - 6s 0us/step\n"
          ],
          "name": "stdout"
        }
      ]
    },
    {
      "cell_type": "code",
      "metadata": {
        "colab": {
          "base_uri": "https://localhost:8080/"
        },
        "id": "BxE0jPKkmT2s",
        "outputId": "e78c7bcc-cd54-40c6-9389-9f884f41be5d"
      },
      "source": [
        "if version == 1:\n",
        "    depth = n * 6 + 2\n",
        "elif version == 2:\n",
        "    depth = n * 9 + 2\n",
        "\n",
        "# model name, depth and version\n",
        "model_type = 'ResNet%dv%d' % (depth, version)\n",
        "\n",
        "# input image dimensions.\n",
        "input_shape = x_train.shape[1:]\n",
        "\n",
        "# normalize data.\n",
        "x_train = x_train.astype('float32') / 255\n",
        "x_test = x_test.astype('float32') / 255\n",
        "\n",
        "# if subtract pixel mean is enabled\n",
        "if subtract_pixel_mean:\n",
        "    x_train_mean = np.mean(x_train, axis=0)\n",
        "    x_train -= x_train_mean\n",
        "    x_test -= x_train_mean\n",
        "\n",
        "print('Model_Type : ' , model_type)\n",
        "print('x_train shape:', x_train.shape)\n",
        "print(x_train.shape[0], 'train samples')\n",
        "print(x_test.shape[0], 'test samples')\n",
        "print('y_train shape:', y_train.shape)\n",
        "\n",
        "# convert class vectors to binary class matrices.\n",
        "y_train = to_categorical(y_train, num_classes)\n",
        "y_test = to_categorical(y_test, num_classes)"
      ],
      "execution_count": 7,
      "outputs": [
        {
          "output_type": "stream",
          "text": [
            "Model_Type :  ResNet56v1\n",
            "x_train shape: (50000, 32, 32, 3)\n",
            "50000 train samples\n",
            "10000 test samples\n",
            "y_train shape: (50000, 1)\n"
          ],
          "name": "stdout"
        }
      ]
    },
    {
      "cell_type": "code",
      "metadata": {
        "id": "-WORJ42pmUBs",
        "colab": {
          "base_uri": "https://localhost:8080/"
        },
        "outputId": "d10e5c79-e3db-4845-9c7f-7e120f4bedff"
      },
      "source": [
        "y_pred = model.predict(x_test)\n",
        "model.evaluate(x_test, y_test)"
      ],
      "execution_count": 8,
      "outputs": [
        {
          "output_type": "stream",
          "text": [
            "313/313 [==============================] - 9s 25ms/step - loss: 1.6735 - acc: 0.6983\n"
          ],
          "name": "stdout"
        },
        {
          "output_type": "execute_result",
          "data": {
            "text/plain": [
              "[1.6734702587127686, 0.6983000040054321]"
            ]
          },
          "metadata": {
            "tags": []
          },
          "execution_count": 8
        }
      ]
    },
    {
      "cell_type": "code",
      "metadata": {
        "id": "qB8x2LuWmUD1",
        "colab": {
          "base_uri": "https://localhost:8080/"
        },
        "outputId": "6ca8683b-cd8d-492e-da6e-f10110409ea5"
      },
      "source": [
        "import tensorflow\n",
        "\n",
        "cce = tensorflow.keras.losses.categorical_crossentropy(\n",
        "    y_test,\n",
        "    y_pred,\n",
        "    from_logits = False,\n",
        "    label_smoothing = 0)\n",
        "cce = cce.numpy()\n",
        "print(cce)"
      ],
      "execution_count": 9,
      "outputs": [
        {
          "output_type": "stream",
          "text": [
            "[6.4812961e+00 2.8651167e-02 6.5820475e+00 ... 6.4373226e-06 2.8256595e-04\n",
            " 2.9145181e-01]\n"
          ],
          "name": "stdout"
        }
      ]
    },
    {
      "cell_type": "code",
      "metadata": {
        "id": "8es8AEONmUF-"
      },
      "source": [
        "def classification_Cce(cce, y_test, y_pred) :\n",
        "  c = []\n",
        "  m = []\n",
        "  c_i = []\n",
        "\n",
        "  for i in range(len(y_test)) :\n",
        "    if np.argmax(y_test[i]) == np.argmax(y_pred[i]) :\n",
        "      c.append(cce[i])\n",
        "      c_i.append(i)\n",
        "    else :\n",
        "      m.append(cce[i])\n",
        "\n",
        "  return c, m, c_i"
      ],
      "execution_count": 10,
      "outputs": []
    },
    {
      "cell_type": "code",
      "metadata": {
        "id": "mqWiMJ6kmUH_",
        "colab": {
          "base_uri": "https://localhost:8080/"
        },
        "outputId": "0b55eefe-691f-4939-d97d-6b6310a89c3b"
      },
      "source": [
        "collect_Cce, missclassification_Cce, collect_Idx = classification_Cce(cce, y_test, y_pred)\n",
        "print(len(collect_Cce))\n",
        "print(len(missclassification_Cce))"
      ],
      "execution_count": 11,
      "outputs": [
        {
          "output_type": "stream",
          "text": [
            "6983\n",
            "3017\n"
          ],
          "name": "stdout"
        }
      ]
    },
    {
      "cell_type": "code",
      "metadata": {
        "id": "b4tLXRgVmd0I"
      },
      "source": [
        "import matplotlib.pyplot as plt\n",
        "import matplotlib.ticker as ticker"
      ],
      "execution_count": 12,
      "outputs": []
    },
    {
      "cell_type": "code",
      "metadata": {
        "id": "OqNjldw0md3Z",
        "colab": {
          "base_uri": "https://localhost:8080/",
          "height": 295
        },
        "outputId": "9dc6dee7-4dd1-4f99-ed90-d114dfe48915"
      },
      "source": [
        "x_value = []\n",
        "for i in range(len(collect_Cce)) :\n",
        "  x_value.append(i)\n",
        "\n",
        "plt.scatter(collect_Cce, x_value)\n",
        "plt.title('Collected data cross entropy')\n",
        "plt.ylabel('index')\n",
        "plt.xlabel('cross entropy')\n",
        "plt.show()"
      ],
      "execution_count": 13,
      "outputs": [
        {
          "output_type": "display_data",
          "data": {
            "image/png": "[encoded data removed]",
            "text/plain": [
              "<Figure size 432x288 with 1 Axes>"
            ]
          },
          "metadata": {
            "tags": [],
            "needs_background": "light"
          }
        }
      ]
    },
    {
      "cell_type": "code",
      "metadata": {
        "id": "5Du_pVx8md7Q",
        "colab": {
          "base_uri": "https://localhost:8080/",
          "height": 295
        },
        "outputId": "fe01161b-c03f-44d2-8796-8ccdf920197f"
      },
      "source": [
        "X_value = []\n",
        "for i in range(len(missclassification_Cce)) :\n",
        "  X_value.append(i)\n",
        "\n",
        "plt.scatter(missclassification_Cce, X_value)\n",
        "plt.title('Missclassification data cross entropy')\n",
        "plt.ylabel('index')\n",
        "plt.xlabel('cross entropy')\n",
        "plt.show()"
      ],
      "execution_count": 15,
      "outputs": [
        {
          "output_type": "display_data",
          "data": {
            "image/png": "[encoded data removed]",
            "text/plain": [
              "<Figure size 432x288 with 1 Axes>"
            ]
          },
          "metadata": {
            "tags": [],
            "needs_background": "light"
          }
        }
      ]
    },
    {
      "cell_type": "code",
      "metadata": {
        "id": "o4gsP2WFmd9z",
        "colab": {
          "base_uri": "https://localhost:8080/",
          "height": 295
        },
        "outputId": "8d229312-ff50-4ea2-c813-875c714917eb"
      },
      "source": [
        "Y = []\n",
        "for i in range(len(collect_Cce)) :\n",
        "  Y.append(1)\n",
        "y = []\n",
        "for i in range(len(missclassification_Cce)) :\n",
        "  y.append(0)\n",
        "\n",
        "values = [0, 1, 2, 3, 4, 5, 6, 7, 8 ,9, 10, 11, 12 ,13, 14, 15, 16]\n",
        "\n",
        "plt.plot(collect_Cce, Y, 'b^', missclassification_Cce, y, 'r^')\n",
        "plt.title('Cross entropy')\n",
        "plt.ylabel('Type')\n",
        "plt.xlabel('cross entropy')\n",
        "plt.legend(['Collect', 'Miss'])\n",
        "plt.yticks([1,0])\n",
        "plt.xticks(values)\n",
        "\n",
        "plt.show()"
      ],
      "execution_count": 16,
      "outputs": [
        {
          "output_type": "display_data",
          "data": {
            "image/png": "[encoded data removed]",
            "text/plain": [
              "<Figure size 432x288 with 1 Axes>"
            ]
          },
          "metadata": {
            "tags": [],
            "needs_background": "light"
          }
        }
      ]
    },
    {
      "cell_type": "code",
      "metadata": {
        "id": "KXHOaNQimikX",
        "colab": {
          "base_uri": "https://localhost:8080/"
        },
        "outputId": "93536870-8d35-4ac5-dace-42a25c358930"
      },
      "source": [
        "print(max(collect_Cce))\n",
        "print(min(missclassification_Cce))"
      ],
      "execution_count": 17,
      "outputs": [
        {
          "output_type": "stream",
          "text": [
            "1.7059131\n",
            "0.70325565\n"
          ],
          "name": "stdout"
        }
      ]
    },
    {
      "cell_type": "code",
      "metadata": {
        "id": "DORBZEdPmil0",
        "colab": {
          "base_uri": "https://localhost:8080/"
        },
        "outputId": "3a711afc-d316-4af7-b077-19a836b5940d"
      },
      "source": [
        "section = []\n",
        "section_rate = []\n",
        "max_m = round(max(missclassification_Cce))\n",
        "\n",
        "for i in range(max_m+1) :\n",
        "  section.append(0)\n",
        "\n",
        "for m in missclassification_Cce :\n",
        "  section[round(m)] = section[round(m)] + 1\n",
        "\n",
        "  \n",
        "for i in range(max_m+1):\n",
        "    section_rate.append(section[i]/len(missclassification_Cce))\n",
        "\n",
        "print(section)\n",
        "print(section_rate)"
      ],
      "execution_count": 18,
      "outputs": [
        {
          "output_type": "stream",
          "text": [
            "[0, 510, 572, 449, 378, 333, 202, 156, 118, 93, 65, 53, 30, 20, 18, 8, 12]\n",
            "[0.0, 0.16904209479615512, 0.18959231024196221, 0.14882333443818363, 0.12529002320185614, 0.11037454424925422, 0.06695392774279085, 0.05170699370235333, 0.0391117003646006, 0.03082532316871064, 0.02154458070931389, 0.01756711965528671, 0.009943652635067949, 0.006629101756711966, 0.005966191581040769, 0.002651640702684786, 0.003977461054027179]\n"
          ],
          "name": "stdout"
        }
      ]
    },
    {
      "cell_type": "code",
      "metadata": {
        "id": "idfGn4okmimp"
      },
      "source": [
        "def static_Threshold() :\n",
        "  threshold = []\n",
        "  for i in range(1, 10):\n",
        "    threshold.append(round(i * 0.1, 1))\n",
        "  return threshold"
      ],
      "execution_count": 19,
      "outputs": []
    },
    {
      "cell_type": "code",
      "metadata": {
        "id": "-FJDksppmioQ",
        "colab": {
          "base_uri": "https://localhost:8080/"
        },
        "outputId": "1cf65f05-0f95-420f-b10f-5fb4ca727f63"
      },
      "source": [
        "staticThreshold = static_Threshold()\n",
        "print(staticThreshold)"
      ],
      "execution_count": 20,
      "outputs": [
        {
          "output_type": "stream",
          "text": [
            "[0.1, 0.2, 0.3, 0.4, 0.5, 0.6, 0.7, 0.8, 0.9]\n"
          ],
          "name": "stdout"
        }
      ]
    },
    {
      "cell_type": "code",
      "metadata": {
        "id": "AKAbU_ocmipD"
      },
      "source": [
        "def dynamic_Threshold(missclassification_Cce, cce) :\n",
        "  #Z = [1.96, 2.17, 2.576] # 95%, 97%, 99% two-tails\n",
        "  Z = [1.645, 1.96, 2.326] # 95%, 97.5%, 99% one-tails\n",
        "  threshold = [min(missclassification_Cce)]\n",
        "  x_ = np.mean(cce)\n",
        "  o = np.std(missclassification_Cce)\n",
        "  n_ = (len(missclassification_Cce))**0.5\n",
        "\n",
        "  for z in Z :\n",
        "    threshold.append(x_- (z * o)/n_)\n",
        "  \n",
        "  return threshold"
      ],
      "execution_count": 21,
      "outputs": []
    },
    {
      "cell_type": "code",
      "metadata": {
        "id": "kLcjC6e1miq0",
        "colab": {
          "base_uri": "https://localhost:8080/"
        },
        "outputId": "0a236467-2030-4b93-c4ed-a3c32e8c008d"
      },
      "source": [
        "dynamicThreshold = dynamic_Threshold(missclassification_Cce, cce)\n",
        "print(dynamicThreshold)"
      ],
      "execution_count": 22,
      "outputs": [
        {
          "output_type": "stream",
          "text": [
            "[0.70325565, 1.2572672073494973, 1.2402743461480559, 1.2205302597997145]\n"
          ],
          "name": "stdout"
        }
      ]
    },
    {
      "cell_type": "code",
      "metadata": {
        "id": "KoGRqQkImnQ_"
      },
      "source": [
        "def detection(threshold, cce, collect) : \n",
        "  PMD = []\n",
        "  for i in collect :\n",
        "    if cce[i] > threshold :\n",
        "        PMD.append(i)\n",
        "  return PMD"
      ],
      "execution_count": 23,
      "outputs": []
    },
    {
      "cell_type": "code",
      "metadata": {
        "id": "zj3zarIpmnTU"
      },
      "source": [
        "def detection_PMD(list_of_threshold, cce, collect):\n",
        "  PMD_by_threshold = []\n",
        "\n",
        "  for th in list_of_threshold :\n",
        "    PMD_by_threshold.append(detection(th, cce, collect))\n",
        "  return PMD_by_threshold"
      ],
      "execution_count": 24,
      "outputs": []
    },
    {
      "cell_type": "code",
      "metadata": {
        "id": "b_h4rkmqmnVn"
      },
      "source": [
        "PMD_By_Static_Threshold  = detection_PMD(staticThreshold, cce, collect_Idx)\n",
        "PMD_By_Dynamic_Threshold = detection_PMD(dynamicThreshold, cce, collect_Idx)"
      ],
      "execution_count": 25,
      "outputs": []
    },
    {
      "cell_type": "code",
      "metadata": {
        "id": "VMzc8eQrmnXy",
        "colab": {
          "base_uri": "https://localhost:8080/"
        },
        "outputId": "fc4d5b18-918f-4335-ce9b-43d4672fe5eb"
      },
      "source": [
        "print(len(PMD_By_Static_Threshold))\n",
        "print(PMD_By_Static_Threshold)\n",
        "print(len(PMD_By_Dynamic_Threshold))\n",
        "print(PMD_By_Dynamic_Threshold)"
      ],
      "execution_count": 26,
      "outputs": [
        {
          "output_type": "stream",
          "text": [
            "9\n",
            "[[9, 12, 17, 22, 37, 40, 41, 54, 61, 71, 83, 87, 89, 95, 98, 99, 102, 118, 140, 141, 151, 158, 164, 165, 183, 188, 191, 192, 206, 208, 209, 212, 229, 249, 256, 260, 268, 269, 272, 274, 284, 290, 291, 298, 300, 301, 326, 330, 343, 350, 365, 366, 367, 368, 376, 379, 389, 390, 393, 398, 399, 408, 427, 436, 437, 438, 439, 443, 452, 454, 456, 473, 503, 506, 522, 523, 534, 537, 540, 545, 548, 549, 553, 560, 580, 583, 584, 590, 596, 598, 608, 613, 616, 639, 640, 645, 670, 683, 686, 688, 689, 693, 704, 706, 708, 711, 717, 719, 724, 727, 731, 732, 733, 739, 743, 744, 746, 756, 757, 759, 763, 769, 778, 780, 792, 798, 804, 822, 826, 835, 836, 838, 840, 841, 842, 850, 863, 892, 910, 924, 925, 929, 957, 958, 965, 967, 971, 984, 985, 987, 993, 995, 1005, 1011, 1016, 1017, 1020, 1023, 1046, 1047, 1053, 1054, 1058, 1060, 1077, 1087, 1088, 1098, 1101, 1108, 1113, 1114, 1120, 1124, 1127, 1140, 1141, 1146, 1149, 1150, 1153, 1157, 1158, 1161, 1168, 1169, 1172, 1174, 1177, 1179, 1183, 1188, 1196, 1197, 1198, 1200, 1202, 1203, 1219, 1229, 1241, 1243, 1252, 1254, 1267, 1273, 1282, 1283, 1288, 1291, 1296, 1298, 1299, 1301, 1312, 1313, 1314, 1329, 1336, 1340, 1348, 1350, 1351, 1366, 1367, 1372, 1373, 1379, 1383, 1385, 1386, 1392, 1419, 1423, 1424, 1428, 1431, 1443, 1444, 1454, 1460, 1462, 1465, 1471, 1473, 1476, 1477, 1486, 1489, 1490, 1497, 1515, 1517, 1521, 1523, 1534, 1535, 1537, 1553, 1572, 1574, 1576, 1583, 1586, 1587, 1588, 1591, 1596, 1605, 1616, 1623, 1628, 1630, 1631, 1638, 1640, 1642, 1644, 1648, 1649, 1653, 1664, 1676, 1677, 1680, 1686, 1690, 1700, 1703, 1705, 1710, 1712, 1718, 1723, 1724, 1725, 1735, 1736, 1744, 1750, 1753, 1756, 1767, 1769, 1774, 1782, 1783, 1796, 1798, 1800, 1803, 1806, 1809, 1817, 1824, 1829, 1830, 1831, 1833, 1850, 1855, 1858, 1864, 1867, 1869, 1875, 1882, 1883, 1887, 1908, 1913, 1916, 1919, 1923, 1924, 1928, 1936, 1941, 1948, 1956, 1974, 1987, 1994, 1995, 2000, 2002, 2007, 2008, 2010, 2016, 2025, 2026, 2035, 2051, 2057, 2065, 2069, 2080, 2087, 2091, 2092, 2093, 2095, 2104, 2128, 2131, 2134, 2136, 2152, 2154, 2162, 2163, 2164, 2169, 2175, 2184, 2199, 2202, 2204, 2208, 2211, 2213, 2220, 2221, 2241, 2243, 2255, 2261, 2263, 2275, 2278, 2280, 2281, 2292, 2293, 2294, 2297, 2299, 2301, 2302, 2309, 2320, 2324, 2325, 2327, 2328, 2330, 2340, 2346, 2348, 2349, 2352, 2353, 2357, 2358, 2361, 2368, 2374, 2385, 2400, 2403, 2412, 2414, 2418, 2447, 2448, 2450, 2457, 2461, 2464, 2468, 2469, 2473, 2474, 2476, 2478, 2481, 2484, 2490, 2491, 2492, 2495, 2497, 2500, 2502, 2506, 2517, 2521, 2532, 2534, 2544, 2548, 2556, 2564, 2565, 2571, 2574, 2577, 2588, 2595, 2598, 2607, 2625, 2626, 2628, 2633, 2653, 2663, 2667, 2670, 2672, 2677, 2680, 2692, 2693, 2695, 2696, 2699, 2716, 2720, 2728, 2731, 2734, 2736, 2741, 2742, 2744, 2745, 2748, 2749, 2750, 2757, 2758, 2783, 2787, 2790, 2791, 2795, 2797, 2799, 2800, 2804, 2806, 2811, 2830, 2832, 2841, 2844, 2848, 2865, 2874, 2876, 2881, 2883, 2886, 2894, 2897, 2900, 2902, 2908, 2913, 2916, 2931, 2935, 2937, 2943, 2947, 2950, 2954, 2958, 2960, 2962, 2963, 2976, 2978, 2986, 2991, 2994, 2999, 3003, 3015, 3018, 3022, 3029, 3038, 3045, 3046, 3047, 3053, 3060, 3069, 3071, 3073, 3075, 3077, 3081, 3095, 3103, 3114, 3121, 3139, 3141, 3147, 3156, 3166, 3175, 3176, 3177, 3201, 3202, 3209, 3210, 3212, 3215, 3223, 3231, 3239, 3250, 3258, 3294, 3296, 3299, 3301, 3306, 3307, 3313, 3315, 3322, 3325, 3326, 3332, 3337, 3350, 3361, 3362, 3365, 3368, 3371, 3372, 3373, 3385, 3386, 3387, 3398, 3404, 3406, 3411, 3413, 3416, 3422, 3423, 3428, 3429, 3455, 3472, 3473, 3476, 3482, 3486, 3487, 3492, 3494, 3496, 3507, 3511, 3514, 3526, 3527, 3543, 3552, 3559, 3561, 3571, 3572, 3582, 3584, 3589, 3594, 3598, 3603, 3608, 3617, 3621, 3630, 3639, 3643, 3649, 3651, 3653, 3667, 3668, 3670, 3672, 3677, 3682, 3687, 3690, 3691, 3699, 3704, 3708, 3709, 3717, 3721, 3722, 3730, 3732, 3739, 3740, 3752, 3761, 3767, 3782, 3785, 3796, 3800, 3818, 3820, 3823, 3830, 3842, 3845, 3847, 3871, 3874, 3878, 3885, 3890, 3892, 3898, 3908, 3916, 3921, 3927, 3940, 3945, 3951, 3960, 3966, 3969, 3974, 3992, 3999, 4004, 4012, 4019, 4020, 4021, 4035, 4039, 4062, 4071, 4075, 4076, 4083, 4090, 4092, 4099, 4102, 4110, 4142, 4145, 4154, 4160, 4179, 4182, 4219, 4221, 4222, 4225, 4227, 4229, 4249, 4253, 4257, 4263, 4265, 4268, 4286, 4287, 4292, 4293, 4304, 4312, 4313, 4317, 4337, 4345, 4346, 4349, 4353, 4363, 4366, 4370, 4372, 4389, 4391, 4394, 4399, 4407, 4420, 4423, 4429, 4434, 4438, 4442, 4446, 4462, 4473, 4476, 4488, 4492, 4499, 4509, 4526, 4530, 4537, 4543, 4544, 4564, 4566, 4574, 4582, 4587, 4592, 4593, 4597, 4608, 4612, 4613, 4626, 4628, 4629, 4630, 4638, 4642, 4646, 4647, 4654, 4657, 4664, 4669, 4672, 4673, 4682, 4686, 4687, 4693, 4702, 4708, 4710, 4715, 4719, 4720, 4728, 4729, 4730, 4734, 4737, 4738, 4739, 4747, 4751, 4759, 4768, 4774, 4778, 4795, 4806, 4807, 4811, 4819, 4824, 4834, 4835, 4838, 4856, 4863, 4869, 4881, 4891, 4894, 4895, 4897, 4899, 4906, 4907, 4908, 4909, 4917, 4921, 4922, 4930, 4931, 4932, 4945, 4948, 4951, 4952, 4953, 4955, 4971, 4972, 4979, 4981, 4989, 4995, 5000, 5013, 5046, 5052, 5055, 5058, 5059, 5069, 5081, 5087, 5104, 5118, 5119, 5132, 5134, 5140, 5142, 5174, 5176, 5177, 5182, 5183, 5196, 5201, 5208, 5209, 5211, 5215, 5220, 5222, 5228, 5239, 5252, 5253, 5254, 5264, 5266, 5268, 5269, 5274, 5283, 5288, 5290, 5293, 5296, 5300, 5303, 5304, 5318, 5332, 5335, 5340, 5341, 5358, 5371, 5374, 5376, 5384, 5389, 5391, 5400, 5406, 5409, 5410, 5426, 5432, 5438, 5445, 5446, 5447, 5450, 5457, 5458, 5466, 5478, 5480, 5483, 5497, 5500, 5504, 5518, 5521, 5525, 5532, 5533, 5538, 5541, 5545, 5546, 5547, 5552, 5559, 5563, 5564, 5575, 5578, 5580, 5586, 5598, 5600, 5601, 5619, 5621, 5626, 5627, 5628, 5629, 5644, 5651, 5661, 5670, 5672, 5682, 5690, 5691, 5693, 5700, 5717, 5733, 5740, 5744, 5746, 5760, 5762, 5768, 5791, 5797, 5799, 5822, 5830, 5833, 5846, 5848, 5849, 5861, 5862, 5871, 5881, 5892, 5895, 5900, 5915, 5929, 5936, 5942, 5943, 5951, 5952, 5956, 5957, 5959, 5971, 5975, 5977, 5979, 5980, 5984, 5987, 5996, 6002, 6010, 6015, 6035, 6041, 6064, 6065, 6069, 6071, 6076, 6078, 6090, 6095, 6099, 6112, 6125, 6138, 6151, 6161, 6167, 6169, 6171, 6177, 6182, 6185, 6198, 6211, 6213, 6221, 6227, 6231, 6232, 6234, 6248, 6260, 6261, 6272, 6273, 6274, 6275, 6276, 6280, 6284, 6295, 6300, 6303, 6305, 6316, 6319, 6321, 6326, 6332, 6334, 6341, 6344, 6354, 6356, 6357, 6359, 6368, 6372, 6373, 6374, 6378, 6385, 6394, 6399, 6402, 6405, 6408, 6414, 6421, 6423, 6426, 6442, 6443, 6449, 6469, 6473, 6476, 6484, 6493, 6499, 6509, 6527, 6529, 6532, 6538, 6541, 6542, 6555, 6559, 6571, 6575, 6585, 6588, 6596, 6601, 6606, 6611, 6612, 6615, 6621, 6624, 6637, 6640, 6648, 6658, 6671, 6686, 6690, 6692, 6693, 6715, 6720, 6721, 6722, 6724, 6728, 6730, 6739, 6743, 6744, 6753, 6754, 6756, 6759, 6763, 6768, 6777, 6784, 6787, 6792, 6795, 6803, 6814, 6830, 6836, 6838, 6855, 6856, 6861, 6863, 6879, 6883, 6889, 6894, 6905, 6920, 6921, 6925, 6936, 6939, 6943, 6964, 6971, 6972, 6973, 6974, 6979, 6990, 6993, 7005, 7011, 7023, 7036, 7040, 7065, 7066, 7069, 7073, 7081, 7093, 7102, 7106, 7107, 7115, 7128, 7130, 7131, 7133, 7134, 7138, 7139, 7140, 7148, 7150, 7152, 7158, 7159, 7180, 7182, 7189, 7206, 7207, 7212, 7213, 7221, 7225, 7233, 7236, 7237, 7238, 7241, 7254, 7260, 7280, 7293, 7294, 7304, 7313, 7315, 7324, 7326, 7328, 7330, 7336, 7338, 7343, 7348, 7349, 7351, 7352, 7354, 7365, 7370, 7373, 7374, 7392, 7397, 7400, 7414, 7417, 7425, 7438, 7445, 7453, 7454, 7461, 7463, 7466, 7467, 7482, 7487, 7490, 7495, 7498, 7510, 7520, 7533, 7541, 7545, 7546, 7550, 7563, 7572, 7578, 7581, 7585, 7587, 7589, 7591, 7594, 7601, 7609, 7610, 7612, 7614, 7619, 7627, 7628, 7629, 7635, 7640, 7645, 7648, 7658, 7659, 7660, 7662, 7666, 7669, 7692, 7695, 7696, 7710, 7714, 7719, 7725, 7726, 7727, 7732, 7734, 7740, 7746, 7747, 7749, 7751, 7756, 7758, 7760, 7763, 7768, 7771, 7772, 7775, 7784, 7789, 7794, 7802, 7805, 7812, 7817, 7819, 7825, 7827, 7829, 7835, 7836, 7844, 7862, 7865, 7876, 7882, 7886, 7894, 7898, 7906, 7920, 7921, 7924, 7926, 7929, 7938, 7957, 7958, 7968, 7975, 7981, 7993, 7994, 7998, 8005, 8009, 8011, 8019, 8028, 8030, 8033, 8036, 8042, 8047, 8048, 8053, 8069, 8074, 8077, 8080, 8084, 8094, 8096, 8105, 8106, 8122, 8132, 8139, 8144, 8145, 8150, 8159, 8167, 8179, 8191, 8194, 8199, 8205, 8208, 8211, 8212, 8214, 8219, 8220, 8224, 8225, 8226, 8228, 8243, 8251, 8260, 8262, 8263, 8265, 8276, 8279, 8283, 8301, 8320, 8328, 8330, 8333, 8336, 8337, 8340, 8345, 8353, 8354, 8367, 8368, 8370, 8374, 8376, 8379, 8385, 8397, 8412, 8413, 8420, 8425, 8426, 8431, 8432, 8438, 8440, 8441, 8442, 8446, 8447, 8449, 8466, 8469, 8485, 8499, 8501, 8507, 8527, 8529, 8530, 8539, 8541, 8554, 8556, 8571, 8572, 8576, 8580, 8585, 8588, 8605, 8615, 8620, 8621, 8624, 8630, 8642, 8645, 8653, 8658, 8668, 8669, 8671, 8675, 8676, 8683, 8702, 8706, 8715, 8723, 8737, 8740, 8755, 8757, 8768, 8781, 8784, 8793, 8796, 8800, 8803, 8827, 8842, 8853, 8859, 8860, 8862, 8863, 8864, 8873, 8893, 8894, 8898, 8912, 8919, 8936, 8937, 8952, 8957, 8958, 8973, 8974, 8993, 8998, 9019, 9020, 9025, 9027, 9029, 9038, 9049, 9057, 9064, 9065, 9067, 9068, 9072, 9073, 9080, 9082, 9090, 9094, 9105, 9106, 9110, 9114, 9116, 9125, 9126, 9137, 9138, 9139, 9149, 9151, 9163, 9178, 9182, 9190, 9199, 9201, 9213, 9218, 9223, 9232, 9240, 9249, 9252, 9260, 9264, 9280, 9292, 9293, 9317, 9320, 9339, 9342, 9345, 9352, 9354, 9356, 9359, 9364, 9366, 9370, 9379, 9408, 9414, 9425, 9427, 9430, 9432, 9433, 9434, 9439, 9441, 9453, 9455, 9481, 9482, 9483, 9484, 9492, 9496, 9505, 9511, 9514, 9522, 9535, 9545, 9563, 9567, 9573, 9577, 9582, 9597, 9610, 9614, 9615, 9618, 9626, 9627, 9634, 9638, 9645, 9650, 9658, 9659, 9667, 9668, 9673, 9674, 9677, 9680, 9682, 9687, 9693, 9695, 9709, 9715, 9729, 9732, 9737, 9743, 9744, 9745, 9759, 9760, 9764, 9765, 9767, 9771, 9784, 9797, 9801, 9807, 9814, 9823, 9827, 9828, 9830, 9836, 9846, 9850, 9851, 9856, 9863, 9864, 9866, 9871, 9872, 9878, 9879, 9882, 9884, 9891, 9896, 9897, 9900, 9906, 9907, 9911, 9917, 9926, 9934, 9941, 9944, 9945, 9953, 9961, 9962, 9972, 9974, 9975, 9976, 9981, 9984, 9999], [9, 12, 22, 37, 40, 54, 61, 71, 83, 87, 95, 98, 99, 102, 118, 140, 158, 164, 183, 188, 191, 206, 212, 229, 256, 269, 291, 298, 300, 301, 326, 330, 343, 350, 365, 366, 368, 376, 379, 389, 399, 408, 427, 437, 438, 439, 443, 452, 454, 456, 473, 506, 522, 523, 534, 537, 540, 545, 548, 549, 553, 580, 583, 590, 596, 598, 608, 613, 616, 640, 645, 686, 693, 704, 719, 724, 727, 731, 732, 739, 743, 756, 757, 759, 763, 778, 798, 822, 826, 835, 836, 838, 841, 842, 863, 892, 924, 925, 929, 957, 965, 967, 971, 985, 987, 995, 1005, 1011, 1016, 1017, 1020, 1023, 1046, 1047, 1058, 1060, 1077, 1088, 1098, 1101, 1108, 1113, 1114, 1120, 1140, 1146, 1149, 1150, 1153, 1158, 1169, 1172, 1174, 1177, 1183, 1188, 1196, 1197, 1198, 1200, 1203, 1219, 1229, 1254, 1267, 1273, 1282, 1288, 1291, 1301, 1312, 1313, 1314, 1329, 1336, 1340, 1348, 1350, 1351, 1367, 1372, 1373, 1379, 1383, 1392, 1419, 1424, 1428, 1431, 1460, 1462, 1465, 1476, 1486, 1489, 1490, 1497, 1517, 1521, 1523, 1534, 1535, 1537, 1553, 1583, 1586, 1587, 1596, 1616, 1623, 1630, 1631, 1640, 1642, 1644, 1648, 1649, 1653, 1676, 1677, 1700, 1703, 1705, 1710, 1712, 1724, 1725, 1736, 1744, 1753, 1756, 1769, 1774, 1782, 1783, 1796, 1798, 1800, 1809, 1817, 1824, 1830, 1831, 1833, 1850, 1855, 1867, 1875, 1887, 1908, 1913, 1916, 1919, 1923, 1928, 1936, 1941, 1948, 1974, 1994, 2000, 2010, 2016, 2025, 2026, 2035, 2065, 2080, 2087, 2093, 2104, 2128, 2131, 2134, 2136, 2152, 2163, 2164, 2169, 2184, 2199, 2202, 2208, 2211, 2213, 2220, 2221, 2241, 2243, 2255, 2261, 2263, 2280, 2281, 2292, 2294, 2297, 2299, 2301, 2302, 2309, 2325, 2328, 2330, 2340, 2346, 2348, 2352, 2353, 2358, 2361, 2368, 2374, 2400, 2403, 2412, 2414, 2418, 2448, 2450, 2461, 2468, 2473, 2474, 2476, 2478, 2481, 2484, 2490, 2491, 2492, 2495, 2497, 2506, 2517, 2521, 2534, 2548, 2556, 2564, 2574, 2577, 2588, 2595, 2598, 2607, 2625, 2626, 2628, 2653, 2663, 2667, 2670, 2672, 2677, 2680, 2692, 2693, 2695, 2699, 2716, 2728, 2731, 2734, 2736, 2742, 2744, 2748, 2758, 2787, 2790, 2791, 2795, 2797, 2800, 2804, 2806, 2811, 2832, 2841, 2844, 2848, 2865, 2876, 2881, 2883, 2886, 2894, 2897, 2900, 2916, 2931, 2935, 2937, 2943, 2947, 2958, 2960, 2963, 2976, 2978, 2991, 2999, 3003, 3015, 3018, 3022, 3029, 3038, 3046, 3047, 3053, 3060, 3069, 3073, 3075, 3081, 3095, 3103, 3114, 3139, 3141, 3147, 3156, 3166, 3176, 3177, 3201, 3210, 3215, 3223, 3231, 3239, 3250, 3258, 3294, 3296, 3299, 3307, 3322, 3325, 3326, 3337, 3350, 3361, 3362, 3371, 3372, 3373, 3385, 3386, 3398, 3406, 3411, 3416, 3423, 3429, 3455, 3473, 3476, 3482, 3486, 3487, 3507, 3511, 3514, 3526, 3527, 3543, 3552, 3559, 3571, 3582, 3584, 3589, 3594, 3598, 3603, 3608, 3617, 3621, 3639, 3643, 3649, 3651, 3667, 3668, 3672, 3677, 3682, 3687, 3690, 3699, 3704, 3717, 3722, 3740, 3761, 3767, 3782, 3785, 3796, 3800, 3820, 3823, 3830, 3842, 3847, 3871, 3874, 3878, 3885, 3892, 3916, 3940, 3945, 3951, 3960, 3974, 3992, 4012, 4035, 4039, 4062, 4071, 4076, 4083, 4090, 4092, 4102, 4110, 4145, 4154, 4160, 4182, 4219, 4222, 4225, 4227, 4229, 4249, 4253, 4263, 4265, 4268, 4286, 4287, 4293, 4304, 4312, 4317, 4337, 4345, 4346, 4349, 4353, 4363, 4366, 4389, 4391, 4394, 4399, 4407, 4420, 4423, 4429, 4434, 4438, 4476, 4488, 4530, 4537, 4543, 4544, 4566, 4574, 4582, 4587, 4592, 4593, 4597, 4608, 4612, 4628, 4630, 4642, 4654, 4657, 4664, 4669, 4672, 4673, 4686, 4687, 4693, 4702, 4710, 4715, 4719, 4720, 4728, 4729, 4730, 4734, 4737, 4738, 4747, 4751, 4768, 4774, 4778, 4795, 4806, 4819, 4835, 4856, 4863, 4869, 4881, 4891, 4894, 4895, 4897, 4899, 4907, 4908, 4931, 4948, 4951, 4952, 4953, 4955, 4972, 4981, 4989, 4995, 5000, 5013, 5046, 5055, 5058, 5059, 5069, 5081, 5087, 5104, 5118, 5119, 5132, 5134, 5140, 5142, 5174, 5176, 5182, 5183, 5196, 5208, 5209, 5211, 5215, 5220, 5222, 5239, 5253, 5266, 5268, 5269, 5274, 5283, 5293, 5296, 5300, 5303, 5304, 5332, 5335, 5340, 5358, 5371, 5376, 5384, 5389, 5406, 5409, 5426, 5432, 5445, 5446, 5447, 5466, 5478, 5480, 5497, 5500, 5504, 5521, 5532, 5533, 5541, 5546, 5547, 5552, 5559, 5563, 5564, 5575, 5578, 5580, 5586, 5598, 5600, 5601, 5619, 5621, 5626, 5627, 5629, 5644, 5651, 5661, 5670, 5672, 5682, 5690, 5691, 5693, 5700, 5717, 5733, 5744, 5746, 5762, 5768, 5797, 5822, 5830, 5833, 5846, 5848, 5849, 5861, 5862, 5871, 5881, 5895, 5915, 5936, 5943, 5951, 5957, 5971, 5975, 5977, 5979, 5984, 6010, 6015, 6041, 6064, 6065, 6069, 6071, 6076, 6078, 6095, 6099, 6112, 6138, 6151, 6161, 6169, 6185, 6198, 6211, 6213, 6221, 6227, 6231, 6232, 6234, 6261, 6273, 6274, 6275, 6276, 6284, 6295, 6300, 6303, 6305, 6316, 6319, 6326, 6341, 6344, 6357, 6373, 6374, 6378, 6394, 6399, 6405, 6408, 6414, 6421, 6423, 6443, 6469, 6473, 6476, 6484, 6493, 6509, 6527, 6529, 6532, 6538, 6541, 6542, 6555, 6559, 6571, 6575, 6585, 6606, 6611, 6612, 6615, 6621, 6624, 6640, 6648, 6671, 6686, 6690, 6693, 6715, 6721, 6724, 6728, 6730, 6739, 6743, 6744, 6753, 6754, 6756, 6759, 6763, 6768, 6784, 6792, 6814, 6830, 6836, 6838, 6855, 6856, 6861, 6863, 6879, 6883, 6889, 6905, 6921, 6925, 6964, 6971, 6972, 6973, 6974, 6979, 6990, 6993, 7005, 7011, 7023, 7036, 7040, 7065, 7066, 7069, 7081, 7093, 7102, 7107, 7128, 7130, 7133, 7134, 7138, 7139, 7140, 7148, 7150, 7158, 7159, 7182, 7212, 7213, 7221, 7225, 7233, 7236, 7237, 7238, 7254, 7260, 7280, 7293, 7294, 7304, 7313, 7315, 7324, 7326, 7330, 7336, 7338, 7343, 7348, 7351, 7354, 7365, 7370, 7373, 7374, 7392, 7397, 7400, 7414, 7417, 7425, 7445, 7453, 7454, 7463, 7466, 7482, 7487, 7490, 7510, 7520, 7533, 7541, 7545, 7550, 7563, 7572, 7578, 7581, 7587, 7589, 7591, 7594, 7610, 7612, 7614, 7619, 7629, 7635, 7640, 7645, 7648, 7659, 7660, 7662, 7669, 7692, 7695, 7696, 7719, 7725, 7726, 7727, 7732, 7734, 7740, 7747, 7751, 7756, 7763, 7768, 7771, 7772, 7784, 7789, 7794, 7802, 7812, 7817, 7819, 7825, 7829, 7836, 7876, 7882, 7894, 7920, 7929, 7957, 7958, 7968, 7975, 7981, 7993, 7994, 7998, 8005, 8009, 8019, 8028, 8030, 8036, 8042, 8047, 8048, 8105, 8106, 8132, 8139, 8145, 8150, 8159, 8167, 8179, 8194, 8199, 8211, 8212, 8214, 8219, 8220, 8224, 8225, 8226, 8243, 8265, 8276, 8279, 8301, 8320, 8328, 8330, 8333, 8336, 8337, 8340, 8353, 8367, 8368, 8370, 8374, 8376, 8379, 8397, 8412, 8413, 8420, 8425, 8431, 8438, 8440, 8441, 8442, 8446, 8449, 8485, 8499, 8501, 8529, 8530, 8539, 8556, 8572, 8588, 8605, 8624, 8630, 8645, 8653, 8669, 8675, 8676, 8683, 8702, 8706, 8715, 8737, 8740, 8755, 8768, 8781, 8784, 8793, 8796, 8803, 8853, 8862, 8863, 8864, 8893, 8894, 8912, 8936, 8952, 8957, 8958, 8973, 8974, 8993, 9020, 9027, 9038, 9049, 9057, 9064, 9065, 9067, 9068, 9072, 9073, 9080, 9082, 9090, 9094, 9105, 9106, 9114, 9116, 9126, 9137, 9138, 9139, 9149, 9151, 9178, 9190, 9201, 9213, 9223, 9232, 9249, 9252, 9260, 9264, 9317, 9320, 9339, 9342, 9345, 9352, 9356, 9359, 9370, 9408, 9425, 9430, 9432, 9433, 9439, 9441, 9453, 9482, 9483, 9484, 9492, 9496, 9505, 9522, 9567, 9573, 9577, 9582, 9597, 9610, 9626, 9627, 9634, 9645, 9650, 9658, 9667, 9668, 9677, 9680, 9682, 9695, 9709, 9715, 9737, 9744, 9759, 9760, 9764, 9765, 9767, 9784, 9797, 9801, 9823, 9827, 9830, 9846, 9850, 9851, 9856, 9863, 9871, 9872, 9879, 9882, 9884, 9896, 9897, 9900, 9906, 9907, 9911, 9917, 9926, 9934, 9941, 9944, 9953, 9961, 9962, 9974, 9976, 9984, 9999], [9, 12, 22, 37, 54, 61, 83, 87, 95, 98, 99, 102, 118, 140, 158, 164, 183, 188, 191, 206, 212, 229, 256, 269, 291, 300, 301, 326, 330, 343, 350, 365, 366, 376, 379, 389, 399, 408, 427, 437, 438, 443, 452, 454, 473, 506, 522, 523, 534, 537, 540, 545, 580, 590, 596, 598, 608, 616, 686, 693, 704, 724, 727, 731, 739, 743, 756, 759, 778, 798, 826, 835, 836, 838, 842, 863, 892, 924, 925, 929, 965, 971, 987, 995, 1016, 1017, 1046, 1047, 1058, 1060, 1077, 1088, 1098, 1101, 1108, 1113, 1114, 1120, 1140, 1150, 1153, 1158, 1169, 1172, 1174, 1177, 1188, 1196, 1198, 1200, 1203, 1219, 1229, 1254, 1267, 1273, 1282, 1288, 1291, 1301, 1312, 1313, 1314, 1329, 1336, 1340, 1348, 1350, 1367, 1383, 1428, 1431, 1460, 1462, 1476, 1489, 1490, 1497, 1517, 1521, 1523, 1534, 1535, 1537, 1553, 1586, 1587, 1596, 1623, 1631, 1640, 1648, 1649, 1653, 1676, 1677, 1700, 1705, 1710, 1725, 1736, 1744, 1753, 1756, 1769, 1774, 1783, 1798, 1800, 1817, 1830, 1850, 1855, 1867, 1875, 1887, 1913, 1916, 1919, 1923, 1928, 1936, 1941, 1948, 1974, 2010, 2016, 2025, 2026, 2035, 2087, 2093, 2104, 2131, 2134, 2152, 2163, 2164, 2169, 2184, 2199, 2208, 2211, 2213, 2220, 2221, 2241, 2255, 2261, 2263, 2280, 2292, 2297, 2299, 2301, 2302, 2309, 2330, 2340, 2346, 2348, 2352, 2353, 2361, 2400, 2403, 2412, 2414, 2418, 2448, 2450, 2461, 2468, 2474, 2478, 2481, 2490, 2492, 2497, 2506, 2517, 2521, 2534, 2548, 2564, 2577, 2595, 2598, 2607, 2625, 2628, 2653, 2663, 2667, 2672, 2677, 2680, 2692, 2693, 2695, 2699, 2716, 2728, 2736, 2744, 2748, 2787, 2790, 2791, 2795, 2797, 2800, 2804, 2841, 2844, 2865, 2876, 2881, 2883, 2886, 2894, 2897, 2900, 2916, 2931, 2935, 2937, 2943, 2958, 2960, 2963, 2976, 2978, 3015, 3018, 3029, 3038, 3047, 3053, 3060, 3069, 3073, 3075, 3103, 3139, 3141, 3147, 3156, 3166, 3177, 3201, 3210, 3215, 3231, 3239, 3250, 3258, 3294, 3296, 3307, 3322, 3326, 3350, 3361, 3362, 3371, 3372, 3373, 3385, 3386, 3398, 3406, 3411, 3423, 3429, 3455, 3473, 3487, 3507, 3511, 3514, 3527, 3552, 3559, 3571, 3582, 3584, 3589, 3594, 3598, 3603, 3617, 3621, 3639, 3649, 3651, 3667, 3668, 3677, 3682, 3687, 3690, 3704, 3717, 3722, 3740, 3767, 3785, 3796, 3800, 3823, 3830, 3847, 3871, 3874, 3878, 3885, 3892, 3916, 3940, 3945, 3951, 3974, 4012, 4035, 4076, 4083, 4090, 4092, 4102, 4110, 4145, 4154, 4160, 4182, 4225, 4227, 4229, 4263, 4265, 4268, 4286, 4287, 4293, 4304, 4312, 4317, 4337, 4345, 4346, 4353, 4391, 4394, 4399, 4407, 4423, 4429, 4434, 4438, 4476, 4488, 4530, 4537, 4544, 4566, 4574, 4587, 4592, 4597, 4608, 4612, 4628, 4630, 4642, 4664, 4669, 4672, 4673, 4686, 4687, 4693, 4710, 4719, 4720, 4728, 4730, 4737, 4738, 4747, 4751, 4768, 4774, 4778, 4795, 4819, 4835, 4856, 4869, 4891, 4894, 4895, 4897, 4899, 4907, 4931, 4948, 4951, 4952, 4953, 4972, 4981, 4989, 4995, 5000, 5013, 5046, 5055, 5058, 5059, 5069, 5087, 5104, 5118, 5119, 5132, 5134, 5142, 5176, 5182, 5183, 5208, 5211, 5215, 5220, 5266, 5268, 5283, 5293, 5296, 5300, 5303, 5332, 5358, 5371, 5376, 5384, 5389, 5406, 5409, 5432, 5445, 5446, 5447, 5466, 5478, 5497, 5500, 5521, 5532, 5541, 5546, 5552, 5559, 5563, 5564, 5575, 5578, 5580, 5586, 5598, 5600, 5601, 5619, 5621, 5626, 5627, 5629, 5644, 5661, 5672, 5682, 5690, 5693, 5717, 5733, 5746, 5762, 5768, 5822, 5830, 5846, 5848, 5849, 5861, 5862, 5871, 5881, 5915, 5936, 5943, 5971, 5975, 5977, 5979, 5984, 6010, 6015, 6064, 6065, 6069, 6078, 6112, 6138, 6161, 6169, 6185, 6211, 6213, 6227, 6231, 6232, 6261, 6274, 6275, 6276, 6284, 6295, 6300, 6303, 6305, 6316, 6319, 6344, 6374, 6378, 6399, 6405, 6408, 6414, 6421, 6423, 6443, 6473, 6476, 6493, 6527, 6529, 6541, 6555, 6575, 6585, 6606, 6611, 6615, 6621, 6624, 6648, 6671, 6693, 6721, 6724, 6728, 6743, 6744, 6753, 6754, 6756, 6759, 6763, 6792, 6814, 6861, 6883, 6889, 6921, 6925, 6964, 6972, 6974, 6990, 6993, 7005, 7011, 7036, 7066, 7069, 7081, 7093, 7102, 7130, 7133, 7134, 7138, 7139, 7140, 7150, 7158, 7159, 7182, 7212, 7213, 7221, 7225, 7236, 7237, 7238, 7254, 7260, 7304, 7313, 7324, 7326, 7343, 7351, 7354, 7370, 7373, 7374, 7392, 7397, 7400, 7414, 7425, 7453, 7454, 7463, 7466, 7482, 7487, 7490, 7510, 7520, 7533, 7541, 7545, 7550, 7563, 7572, 7581, 7587, 7612, 7614, 7619, 7629, 7635, 7640, 7645, 7648, 7659, 7660, 7662, 7669, 7692, 7695, 7719, 7725, 7726, 7727, 7734, 7740, 7747, 7751, 7756, 7763, 7768, 7771, 7789, 7794, 7802, 7817, 7819, 7825, 7829, 7836, 7876, 7882, 7894, 7929, 7957, 7958, 7968, 7981, 7993, 7994, 8005, 8009, 8019, 8028, 8030, 8036, 8042, 8047, 8048, 8105, 8106, 8132, 8139, 8150, 8159, 8167, 8179, 8194, 8199, 8211, 8214, 8219, 8220, 8224, 8225, 8226, 8265, 8276, 8279, 8301, 8320, 8330, 8336, 8337, 8340, 8353, 8367, 8368, 8370, 8374, 8376, 8379, 8412, 8413, 8420, 8431, 8440, 8441, 8442, 8446, 8485, 8499, 8501, 8539, 8572, 8588, 8605, 8624, 8630, 8645, 8653, 8669, 8675, 8676, 8683, 8702, 8706, 8715, 8737, 8755, 8768, 8781, 8784, 8793, 8796, 8853, 8862, 8863, 8893, 8894, 8912, 8936, 8952, 8973, 9020, 9027, 9049, 9057, 9067, 9068, 9072, 9073, 9082, 9090, 9094, 9105, 9106, 9116, 9126, 9137, 9139, 9149, 9178, 9190, 9201, 9213, 9223, 9249, 9260, 9264, 9320, 9339, 9342, 9345, 9352, 9359, 9370, 9408, 9425, 9430, 9432, 9441, 9453, 9483, 9484, 9492, 9505, 9567, 9573, 9577, 9582, 9597, 9610, 9626, 9634, 9645, 9658, 9667, 9677, 9680, 9695, 9709, 9715, 9737, 9744, 9759, 9764, 9765, 9767, 9784, 9797, 9801, 9827, 9830, 9846, 9850, 9851, 9871, 9872, 9884, 9896, 9897, 9900, 9906, 9907, 9911, 9917, 9934, 9941, 9944, 9953, 9961, 9962, 9976, 9984], [9, 12, 22, 37, 61, 83, 87, 95, 98, 99, 102, 118, 158, 183, 191, 206, 229, 256, 291, 300, 301, 326, 330, 350, 365, 366, 376, 379, 389, 408, 437, 438, 443, 452, 454, 473, 506, 522, 534, 540, 545, 580, 590, 596, 598, 608, 616, 693, 724, 727, 731, 739, 743, 759, 798, 826, 835, 836, 842, 863, 924, 925, 929, 971, 995, 1046, 1047, 1058, 1088, 1098, 1101, 1120, 1140, 1153, 1172, 1174, 1188, 1196, 1198, 1200, 1203, 1229, 1267, 1273, 1282, 1288, 1291, 1301, 1313, 1336, 1340, 1348, 1350, 1367, 1383, 1428, 1431, 1460, 1462, 1476, 1489, 1490, 1497, 1517, 1521, 1523, 1534, 1535, 1587, 1596, 1631, 1649, 1676, 1677, 1700, 1705, 1710, 1725, 1736, 1753, 1756, 1774, 1783, 1798, 1800, 1817, 1830, 1850, 1855, 1875, 1887, 1913, 1916, 1919, 1928, 1941, 1948, 1974, 2016, 2025, 2026, 2035, 2093, 2104, 2131, 2134, 2152, 2184, 2199, 2208, 2220, 2241, 2255, 2261, 2292, 2297, 2299, 2301, 2309, 2330, 2340, 2352, 2353, 2361, 2400, 2403, 2412, 2414, 2418, 2448, 2468, 2474, 2478, 2481, 2490, 2492, 2497, 2506, 2517, 2534, 2548, 2564, 2577, 2595, 2598, 2607, 2625, 2628, 2663, 2667, 2672, 2677, 2680, 2692, 2693, 2695, 2728, 2736, 2744, 2748, 2787, 2790, 2791, 2795, 2800, 2841, 2844, 2865, 2881, 2883, 2894, 2897, 2900, 2931, 2935, 2937, 2943, 2958, 2976, 2978, 3015, 3018, 3029, 3038, 3047, 3053, 3060, 3069, 3073, 3075, 3103, 3139, 3147, 3156, 3166, 3177, 3201, 3210, 3215, 3231, 3239, 3250, 3294, 3296, 3307, 3322, 3326, 3350, 3362, 3371, 3372, 3373, 3385, 3386, 3398, 3411, 3423, 3429, 3487, 3507, 3511, 3514, 3527, 3552, 3571, 3582, 3584, 3603, 3617, 3621, 3651, 3667, 3668, 3677, 3687, 3704, 3717, 3722, 3740, 3767, 3785, 3796, 3800, 3823, 3830, 3871, 3874, 3885, 3892, 3945, 3951, 3974, 4012, 4035, 4076, 4083, 4092, 4110, 4145, 4154, 4160, 4182, 4227, 4229, 4263, 4265, 4268, 4286, 4287, 4293, 4304, 4312, 4317, 4337, 4353, 4391, 4394, 4423, 4429, 4434, 4438, 4476, 4530, 4537, 4544, 4566, 4574, 4592, 4597, 4608, 4612, 4628, 4664, 4669, 4672, 4686, 4687, 4693, 4710, 4719, 4728, 4730, 4737, 4738, 4751, 4768, 4774, 4795, 4819, 4856, 4891, 4894, 4895, 4897, 4899, 4931, 4948, 4952, 4972, 4995, 5046, 5055, 5058, 5059, 5069, 5087, 5104, 5118, 5119, 5134, 5142, 5176, 5182, 5183, 5208, 5211, 5215, 5220, 5266, 5268, 5293, 5296, 5303, 5332, 5358, 5371, 5406, 5409, 5432, 5445, 5447, 5478, 5497, 5500, 5521, 5532, 5559, 5564, 5575, 5578, 5586, 5600, 5601, 5619, 5621, 5626, 5627, 5629, 5644, 5661, 5672, 5682, 5690, 5717, 5746, 5762, 5822, 5830, 5846, 5848, 5861, 5862, 5871, 5881, 5915, 5936, 5971, 5975, 5979, 6010, 6064, 6065, 6069, 6112, 6161, 6169, 6185, 6211, 6213, 6231, 6261, 6274, 6276, 6284, 6300, 6303, 6316, 6319, 6378, 6399, 6414, 6421, 6423, 6473, 6476, 6527, 6529, 6541, 6555, 6575, 6615, 6621, 6624, 6648, 6693, 6721, 6724, 6728, 6753, 6754, 6756, 6759, 6792, 6883, 6964, 6990, 7005, 7066, 7069, 7081, 7093, 7102, 7130, 7133, 7134, 7138, 7150, 7159, 7182, 7212, 7221, 7225, 7236, 7237, 7260, 7304, 7324, 7326, 7343, 7351, 7373, 7374, 7392, 7397, 7400, 7414, 7425, 7453, 7454, 7463, 7482, 7510, 7520, 7533, 7541, 7545, 7563, 7572, 7581, 7587, 7614, 7619, 7629, 7635, 7640, 7645, 7648, 7659, 7660, 7662, 7692, 7695, 7719, 7725, 7726, 7727, 7734, 7751, 7763, 7768, 7789, 7802, 7817, 7825, 7829, 7836, 7876, 7894, 7929, 7957, 7958, 7968, 7981, 7993, 7994, 8005, 8009, 8019, 8030, 8036, 8047, 8048, 8105, 8106, 8139, 8150, 8159, 8167, 8179, 8194, 8199, 8214, 8219, 8220, 8224, 8225, 8226, 8265, 8276, 8279, 8320, 8330, 8336, 8337, 8340, 8353, 8374, 8376, 8379, 8412, 8413, 8420, 8431, 8440, 8442, 8485, 8499, 8539, 8572, 8588, 8605, 8624, 8630, 8645, 8653, 8676, 8683, 8702, 8706, 8715, 8737, 8755, 8768, 8784, 8793, 8796, 8853, 8862, 8863, 8893, 8894, 8912, 8936, 8952, 8973, 9020, 9027, 9049, 9057, 9067, 9072, 9073, 9082, 9090, 9094, 9105, 9106, 9126, 9137, 9139, 9149, 9178, 9190, 9201, 9213, 9249, 9260, 9264, 9320, 9339, 9342, 9345, 9352, 9359, 9370, 9430, 9432, 9453, 9483, 9492, 9505, 9567, 9573, 9577, 9582, 9597, 9610, 9626, 9634, 9645, 9658, 9667, 9677, 9680, 9715, 9744, 9759, 9765, 9767, 9784, 9797, 9801, 9827, 9830, 9846, 9850, 9871, 9872, 9896, 9897, 9900, 9906, 9907, 9911, 9917, 9934, 9941, 9944, 9953, 9961, 9962, 9976, 9984], [9, 22, 37, 61, 83, 95, 99, 102, 118, 158, 206, 229, 291, 300, 301, 326, 330, 365, 376, 379, 437, 438, 452, 454, 473, 506, 522, 534, 580, 590, 596, 598, 608, 616, 693, 731, 739, 743, 759, 798, 826, 835, 836, 842, 863, 925, 929, 971, 995, 1058, 1098, 1101, 1140, 1153, 1172, 1174, 1188, 1200, 1203, 1229, 1282, 1291, 1301, 1313, 1336, 1340, 1348, 1350, 1367, 1383, 1431, 1460, 1476, 1489, 1490, 1517, 1521, 1523, 1534, 1535, 1587, 1596, 1631, 1649, 1676, 1677, 1700, 1705, 1710, 1725, 1753, 1756, 1774, 1800, 1817, 1830, 1850, 1855, 1887, 1913, 1916, 1919, 1928, 1974, 2016, 2026, 2035, 2093, 2104, 2134, 2152, 2208, 2241, 2255, 2261, 2292, 2297, 2299, 2301, 2309, 2340, 2352, 2361, 2412, 2414, 2448, 2468, 2474, 2478, 2481, 2490, 2492, 2497, 2506, 2534, 2548, 2564, 2577, 2598, 2625, 2628, 2667, 2677, 2680, 2692, 2695, 2728, 2736, 2787, 2795, 2800, 2841, 2844, 2865, 2881, 2883, 2894, 2897, 2900, 2931, 2935, 2937, 2943, 2958, 2976, 2978, 3015, 3018, 3047, 3053, 3060, 3075, 3103, 3139, 3147, 3166, 3177, 3201, 3210, 3215, 3231, 3239, 3250, 3294, 3296, 3307, 3322, 3350, 3362, 3371, 3372, 3373, 3385, 3386, 3398, 3411, 3423, 3429, 3487, 3507, 3514, 3527, 3571, 3582, 3584, 3603, 3617, 3621, 3651, 3667, 3668, 3677, 3687, 3704, 3717, 3722, 3740, 3767, 3796, 3823, 3874, 3892, 3945, 3951, 3974, 4035, 4076, 4092, 4110, 4145, 4154, 4182, 4227, 4229, 4263, 4265, 4286, 4287, 4293, 4304, 4312, 4317, 4337, 4353, 4391, 4394, 4429, 4434, 4438, 4530, 4537, 4566, 4574, 4592, 4608, 4612, 4628, 4664, 4672, 4686, 4687, 4693, 4710, 4719, 4728, 4730, 4737, 4738, 4751, 4774, 4795, 4819, 4856, 4891, 4894, 4895, 4897, 4899, 4931, 4948, 4952, 4972, 4995, 5055, 5058, 5069, 5118, 5119, 5134, 5176, 5182, 5208, 5215, 5220, 5268, 5293, 5296, 5303, 5332, 5371, 5406, 5432, 5445, 5447, 5478, 5497, 5559, 5564, 5575, 5578, 5586, 5600, 5601, 5619, 5621, 5626, 5629, 5661, 5672, 5682, 5690, 5717, 5746, 5762, 5822, 5830, 5862, 5871, 5881, 5915, 5936, 5971, 5979, 6010, 6064, 6065, 6069, 6112, 6161, 6169, 6185, 6211, 6213, 6231, 6284, 6300, 6303, 6316, 6319, 6378, 6414, 6421, 6423, 6473, 6476, 6529, 6555, 6575, 6615, 6621, 6624, 6648, 6693, 6724, 6753, 6759, 6792, 6964, 6990, 7005, 7066, 7069, 7081, 7093, 7102, 7130, 7133, 7138, 7150, 7182, 7212, 7221, 7225, 7236, 7237, 7324, 7326, 7343, 7351, 7373, 7374, 7392, 7397, 7400, 7414, 7425, 7454, 7482, 7510, 7520, 7533, 7541, 7563, 7572, 7587, 7614, 7619, 7629, 7635, 7640, 7645, 7648, 7659, 7660, 7662, 7695, 7725, 7726, 7727, 7734, 7751, 7763, 7768, 7789, 7802, 7817, 7825, 7829, 7876, 7929, 7957, 7958, 7968, 7981, 7993, 7994, 8005, 8019, 8030, 8036, 8047, 8048, 8105, 8106, 8139, 8150, 8199, 8214, 8220, 8224, 8225, 8226, 8265, 8276, 8279, 8320, 8330, 8337, 8374, 8376, 8379, 8412, 8420, 8431, 8440, 8442, 8485, 8539, 8588, 8624, 8630, 8645, 8653, 8676, 8706, 8715, 8755, 8768, 8784, 8793, 8796, 8853, 8862, 8863, 8893, 8894, 8912, 8936, 8952, 8973, 9020, 9027, 9049, 9057, 9067, 9072, 9094, 9105, 9106, 9126, 9139, 9178, 9201, 9213, 9249, 9260, 9264, 9320, 9339, 9342, 9352, 9359, 9370, 9430, 9432, 9453, 9483, 9492, 9567, 9577, 9597, 9610, 9626, 9645, 9658, 9667, 9677, 9680, 9715, 9759, 9765, 9784, 9797, 9801, 9830, 9846, 9850, 9871, 9872, 9896, 9897, 9900, 9906, 9907, 9917, 9934, 9941, 9944, 9953, 9961, 9962], [22, 37, 95, 99, 102, 118, 158, 206, 291, 301, 326, 379, 437, 438, 452, 454, 473, 506, 534, 580, 590, 596, 598, 608, 616, 731, 739, 743, 759, 798, 826, 835, 842, 863, 925, 929, 971, 995, 1058, 1098, 1140, 1153, 1172, 1174, 1188, 1200, 1203, 1291, 1313, 1348, 1367, 1383, 1431, 1460, 1476, 1490, 1517, 1521, 1523, 1534, 1535, 1587, 1631, 1676, 1700, 1705, 1710, 1753, 1756, 1800, 1817, 1830, 1855, 1887, 1913, 1916, 1919, 2016, 2026, 2035, 2093, 2104, 2134, 2152, 2208, 2241, 2255, 2261, 2301, 2340, 2361, 2412, 2448, 2468, 2478, 2490, 2492, 2497, 2506, 2534, 2548, 2564, 2577, 2598, 2625, 2667, 2677, 2680, 2692, 2695, 2728, 2787, 2800, 2865, 2883, 2894, 2897, 2900, 2931, 2943, 2978, 3018, 3047, 3075, 3103, 3139, 3147, 3166, 3177, 3201, 3210, 3215, 3239, 3250, 3296, 3307, 3322, 3350, 3371, 3372, 3373, 3385, 3386, 3398, 3411, 3423, 3429, 3507, 3514, 3527, 3571, 3582, 3603, 3667, 3668, 3677, 3717, 3722, 3767, 3823, 3874, 3892, 3945, 3951, 4035, 4076, 4110, 4145, 4154, 4182, 4229, 4263, 4265, 4286, 4293, 4304, 4312, 4353, 4391, 4394, 4429, 4434, 4530, 4537, 4566, 4574, 4592, 4612, 4628, 4664, 4686, 4687, 4693, 4710, 4719, 4728, 4730, 4737, 4738, 4819, 4891, 4895, 4948, 4952, 4972, 4995, 5055, 5069, 5119, 5134, 5176, 5182, 5215, 5220, 5268, 5293, 5296, 5332, 5371, 5406, 5432, 5445, 5478, 5497, 5559, 5564, 5578, 5586, 5601, 5621, 5626, 5629, 5661, 5672, 5682, 5690, 5717, 5746, 5762, 5822, 5830, 5871, 5915, 5936, 5971, 5979, 6010, 6064, 6065, 6069, 6112, 6161, 6169, 6211, 6213, 6231, 6284, 6319, 6414, 6421, 6423, 6476, 6555, 6575, 6615, 6621, 6624, 6648, 6724, 6759, 6792, 6964, 6990, 7005, 7066, 7130, 7133, 7138, 7150, 7182, 7212, 7221, 7225, 7236, 7237, 7324, 7343, 7392, 7397, 7482, 7520, 7533, 7541, 7563, 7587, 7619, 7629, 7635, 7660, 7662, 7695, 7725, 7726, 7727, 7734, 7751, 7763, 7768, 7789, 7817, 7825, 7829, 7876, 7929, 7957, 7958, 7993, 7994, 8005, 8019, 8036, 8048, 8105, 8139, 8150, 8199, 8214, 8220, 8224, 8225, 8226, 8265, 8276, 8279, 8320, 8337, 8374, 8376, 8379, 8412, 8431, 8442, 8539, 8588, 8630, 8676, 8706, 8755, 8768, 8796, 8853, 8862, 8863, 8893, 8894, 8912, 8936, 8952, 8973, 9020, 9027, 9049, 9072, 9105, 9201, 9213, 9249, 9260, 9264, 9339, 9342, 9352, 9370, 9430, 9453, 9492, 9567, 9597, 9610, 9645, 9658, 9677, 9680, 9765, 9797, 9801, 9830, 9846, 9871, 9897, 9900, 9907, 9917, 9941, 9944, 9953, 9962], [22, 95, 99, 118, 206, 326, 379, 437, 452, 454, 473, 534, 580, 590, 596, 598, 608, 616, 739, 743, 798, 835, 925, 929, 1058, 1140, 1153, 1172, 1174, 1188, 1203, 1291, 1313, 1367, 1383, 1431, 1490, 1535, 1587, 1676, 1700, 1710, 1756, 1800, 1817, 1855, 1916, 1919, 2016, 2026, 2035, 2093, 2104, 2134, 2208, 2261, 2361, 2448, 2468, 2478, 2497, 2534, 2548, 2564, 2577, 2667, 2692, 2728, 2883, 2894, 2897, 2931, 2943, 3018, 3075, 3147, 3166, 3177, 3250, 3296, 3307, 3322, 3350, 3371, 3385, 3386, 3411, 3423, 3507, 3514, 3527, 3603, 3717, 3722, 3767, 3823, 3874, 3892, 3945, 3951, 4076, 4110, 4145, 4182, 4229, 4293, 4312, 4391, 4394, 4429, 4434, 4530, 4537, 4566, 4574, 4628, 4687, 4693, 4710, 4719, 4728, 4737, 4738, 4819, 4891, 4895, 4972, 5055, 5069, 5119, 5134, 5176, 5268, 5293, 5332, 5371, 5432, 5445, 5564, 5578, 5601, 5621, 5626, 5682, 5690, 5717, 5746, 5762, 5871, 5915, 5971, 5979, 6065, 6112, 6161, 6169, 6211, 6213, 6231, 6284, 6319, 6414, 6476, 6555, 6615, 6621, 6624, 6648, 6759, 6792, 6964, 6990, 7005, 7133, 7138, 7150, 7182, 7221, 7225, 7324, 7343, 7392, 7397, 7520, 7533, 7541, 7563, 7619, 7629, 7635, 7660, 7662, 7727, 7734, 7763, 7817, 7825, 7829, 7876, 7957, 7958, 7993, 7994, 8005, 8019, 8036, 8139, 8214, 8220, 8224, 8226, 8265, 8279, 8374, 8376, 8379, 8412, 8431, 8442, 8588, 8630, 8676, 8706, 8853, 8863, 8893, 8894, 8912, 8936, 8973, 9020, 9027, 9049, 9072, 9264, 9339, 9453, 9567, 9610, 9645, 9658, 9677, 9765, 9797, 9830, 9846, 9897, 9900, 9907, 9917], [22, 95, 99, 206, 326, 437, 452, 534, 580, 590, 596, 598, 608, 616, 739, 743, 929, 1140, 1153, 1172, 1188, 1313, 1367, 1587, 1676, 1710, 1800, 1817, 1919, 2016, 2026, 2035, 2093, 2208, 2468, 2478, 2497, 2534, 2548, 2564, 2577, 2692, 2728, 2883, 2894, 2897, 2931, 3018, 3166, 3250, 3296, 3322, 3350, 3371, 3385, 3507, 3603, 3717, 3767, 3892, 3945, 3951, 4110, 4182, 4229, 4293, 4391, 4434, 4530, 4537, 4566, 4693, 4710, 4719, 4737, 4738, 4819, 4891, 4972, 5055, 5069, 5119, 5268, 5293, 5332, 5432, 5564, 5578, 5601, 5626, 5682, 5690, 5717, 5871, 5915, 5979, 6169, 6211, 6231, 6319, 6476, 6555, 6615, 6621, 6648, 6759, 6792, 6964, 6990, 7138, 7182, 7221, 7225, 7343, 7397, 7520, 7533, 7563, 7619, 7635, 7660, 7662, 7727, 7734, 7763, 7817, 7829, 7876, 7957, 7993, 7994, 8005, 8019, 8139, 8214, 8226, 8265, 8279, 8374, 8376, 8412, 8431, 8442, 8630, 8676, 8706, 8853, 8912, 9027, 9049, 9072, 9264, 9339, 9567, 9610, 9897, 9907, 9917], [22, 95, 99, 206, 452, 534, 580, 590, 596, 598, 739, 743, 929, 1153, 1188, 1313, 1587, 1676, 1817, 2016, 2026, 2035, 2093, 2478, 2548, 2692, 2728, 2883, 2894, 3166, 3350, 3371, 3385, 3507, 3603, 3717, 3767, 3892, 3951, 4182, 4530, 4566, 4693, 4710, 4719, 4738, 4819, 4891, 4972, 5055, 5069, 5268, 5601, 5626, 5682, 5690, 5915, 5979, 6169, 6211, 6231, 6319, 6615, 6621, 6648, 6792, 6964, 6990, 7182, 7221, 7225, 7343, 7520, 7533, 7635, 7660, 7662, 7727, 7763, 7817, 7829, 7876, 7993, 7994, 8005, 8214, 8226, 8265, 8279, 8374, 8376, 8431, 8442, 8676, 8706, 8853, 8912, 9072, 9264, 9339, 9567, 9610, 9897, 9917]]\n",
            "4\n",
            "[[22, 95, 99, 118, 206, 326, 379, 437, 452, 454, 473, 534, 580, 590, 596, 598, 608, 616, 739, 743, 798, 835, 925, 929, 1058, 1140, 1153, 1172, 1174, 1188, 1203, 1291, 1313, 1367, 1383, 1431, 1490, 1535, 1587, 1676, 1710, 1756, 1800, 1817, 1855, 1916, 1919, 2016, 2026, 2035, 2093, 2104, 2134, 2208, 2261, 2361, 2448, 2468, 2478, 2497, 2534, 2548, 2564, 2577, 2667, 2692, 2728, 2883, 2894, 2897, 2931, 2943, 3018, 3075, 3147, 3166, 3177, 3250, 3296, 3307, 3322, 3350, 3371, 3385, 3386, 3411, 3423, 3507, 3514, 3527, 3603, 3717, 3722, 3767, 3823, 3874, 3892, 3945, 3951, 4076, 4110, 4145, 4182, 4229, 4293, 4312, 4391, 4394, 4429, 4434, 4530, 4537, 4566, 4574, 4628, 4687, 4693, 4710, 4719, 4728, 4737, 4738, 4819, 4891, 4895, 4972, 5055, 5069, 5119, 5134, 5176, 5268, 5293, 5332, 5371, 5432, 5564, 5578, 5601, 5621, 5626, 5682, 5690, 5717, 5746, 5762, 5871, 5915, 5971, 5979, 6065, 6112, 6161, 6169, 6211, 6213, 6231, 6284, 6319, 6414, 6476, 6555, 6615, 6621, 6624, 6648, 6759, 6792, 6964, 6990, 7133, 7138, 7150, 7182, 7221, 7225, 7324, 7343, 7392, 7397, 7520, 7533, 7541, 7563, 7619, 7629, 7635, 7660, 7662, 7727, 7734, 7763, 7817, 7825, 7829, 7876, 7957, 7958, 7993, 7994, 8005, 8019, 8036, 8139, 8214, 8220, 8224, 8226, 8265, 8279, 8374, 8376, 8379, 8412, 8431, 8442, 8588, 8630, 8676, 8706, 8853, 8863, 8893, 8894, 8912, 8936, 8973, 9020, 9027, 9049, 9072, 9264, 9339, 9453, 9567, 9610, 9645, 9658, 9677, 9765, 9797, 9830, 9846, 9897, 9900, 9907, 9917], [206, 743, 1817, 2548, 2728, 2883, 3371, 3951, 4710, 5268, 6231, 6792, 7763, 7993, 9339], [206, 743, 1188, 1587, 1817, 2548, 2728, 2883, 3371, 3951, 4710, 5268, 6231, 6792, 7635, 7763, 7993, 9264, 9339], [206, 743, 1188, 1587, 1817, 2548, 2728, 2883, 3371, 3951, 4710, 5268, 6231, 6648, 6792, 7635, 7763, 7817, 7993, 8442, 9072, 9264, 9339, 9610, 9917]]\n"
          ],
          "name": "stdout"
        }
      ]
    },
    {
      "cell_type": "code",
      "metadata": {
        "id": "yUAI4V1MmnZQ"
      },
      "source": [
        "import cv2"
      ],
      "execution_count": 27,
      "outputs": []
    },
    {
      "cell_type": "code",
      "metadata": {
        "id": "GVzGtoLbmr22"
      },
      "source": [
        "def rotate_img_set(data_set, angle) : # 10' ~ 90'\n",
        "  rotated_img = []\n",
        "  print(\"rotate \" + str(angle) + \"degree\")\n",
        "  for img in data_set :\n",
        "    m = cv2.getRotationMatrix2D((16,16), angle, 1)  # center dot\n",
        "    new_img = cv2.warpAffine(img, m, image_size, cv2.INTER_AREA, borderMode = 1)\n",
        "    rotated_img.append(new_img)\n",
        "    \n",
        "  return rotated_img"
      ],
      "execution_count": 28,
      "outputs": []
    },
    {
      "cell_type": "code",
      "metadata": {
        "id": "nf6XwzmGmr5M"
      },
      "source": [
        "def img_trim(img, size) :\n",
        "  w = 32\n",
        "  h = 32\n",
        "  new_img = img[size:size+h, size:size+w]\n",
        "  return new_img"
      ],
      "execution_count": 29,
      "outputs": []
    },
    {
      "cell_type": "code",
      "metadata": {
        "id": "pUj6WlQtmr7a"
      },
      "source": [
        "def size_Adjust(x_test, rate) :\n",
        "\n",
        "  new_data_set = []\n",
        "  if rate > 1 : # aggmentation\n",
        "    print(\"augmentation \" + str(rate) + \"%\")\n",
        "    size = round(32*rate/2 - 16)\n",
        "    for img in x_test :\n",
        "      new_img = cv2.resize(img, None, fx = rate, fy = rate, interpolation = cv2.INTER_LINEAR)\n",
        "      new_img = img_trim(new_img, size)\n",
        "      new_data_set.append(new_img)\n",
        "  else :  # reduction\n",
        "    print(\"reduction \" + str(rate) + \"%\")\n",
        "    size = round(16 * (1-rate))\n",
        "    for img in x_test :\n",
        "      new_img = cv2.resize(img, None, fx = rate, fy = rate, interpolation = cv2.INTER_AREA)\n",
        "      new_img = np.pad(new_img, ((size, size), (size, size), (0, 0)), mode = 'edge')\n",
        "      new_img = cv2.resize(new_img, image_size, interpolation = cv2.INTER_AREA)\n",
        "      new_data_set.append(new_img)\n",
        "\n",
        "  return new_data_set"
      ],
      "execution_count": 30,
      "outputs": []
    },
    {
      "cell_type": "code",
      "metadata": {
        "id": "GfgUhZFEmr9Y"
      },
      "source": [
        "def get_MD(y_pred, new_y_pred, y_test) :\n",
        "  MD = []\n",
        "  for i in range(len(y_pred)) :\n",
        "    if np.argmax(y_pred[i]) == np.argmax(y_test[i]) and np.argmax(new_y_pred[i]) != np.argmax(y_test[i]) :\n",
        "      MD.append(i)\n",
        "  print(\"    Find MD : \" + str(len(MD)))\n",
        "  return MD"
      ],
      "execution_count": 31,
      "outputs": []
    },
    {
      "cell_type": "code",
      "metadata": {
        "id": "mB3EwwvLmr_M"
      },
      "source": [
        "def calc_Acc(new_y_pred, y_test) :\n",
        "  cnt = 0\n",
        "  for i in range(len(y_pred)) :\n",
        "    if np.argmax(new_y_pred[i]) == np.argmax(y_test[i]) :\n",
        "      cnt = cnt + 1\n",
        "  acc = cnt/len(y_pred)\n",
        "  print(\"  Acc : \" + str(acc))"
      ],
      "execution_count": 32,
      "outputs": []
    },
    {
      "cell_type": "code",
      "metadata": {
        "id": "dVqHZGjkmv18"
      },
      "source": [
        "def get_PMD_Precision(MD, PMD) :\n",
        "  cnt = 0\n",
        "  if len(PMD) == 0 :\n",
        "    return 0\n",
        "  for data in PMD : \n",
        "    if data in MD :\n",
        "      cnt = cnt + 1\n",
        "  precision = cnt/len(PMD)\n",
        "  print(\"        Precision : \" + str(precision))\n",
        "  return precision"
      ],
      "execution_count": 33,
      "outputs": []
    },
    {
      "cell_type": "code",
      "metadata": {
        "id": "ZD7K7VSdmv4K"
      },
      "source": [
        "def get_PMD_Recall(MD, PMD) :\n",
        "  cnt = 0\n",
        "  if len(MD) == 0 :\n",
        "    return 0\n",
        "  for data in MD : \n",
        "    if data in PMD :\n",
        "      cnt = cnt + 1\n",
        "  recall = cnt/len(MD)\n",
        "  print(\"        Recall : \" + str(recall))\n",
        "  return recall"
      ],
      "execution_count": 34,
      "outputs": []
    },
    {
      "cell_type": "code",
      "metadata": {
        "id": "83OaeXzHmnah"
      },
      "source": [
        "def get_Result(PMD_By_Static_Threshold, PMD_By_Dynamic_Threshold, data_set, y_pred, y_test) : #\n",
        "  Stp = []   # [ th = 0.1_pre1, th = 0.2_pre2, ... , th = 0.9_pre9 ] number of elements = 9\n",
        "  Dtp = []   # [ th = min_pre1, th = 95%_pre2, ... , th = 99%_pre4 ] number of elements = 4\n",
        "  Str = []   # [ th = 0.1_rec1, th = 0.2_rec2, ... , th = 0.9_rec9 ] number of elements = 9\n",
        "  Dtr = []   # [ th = min_rec1, th = 95%_rec2, ... , th = 99%_rec4 ] number of elements = 4\n",
        "  st = 1\n",
        "  dt = 1\n",
        "\n",
        "  new_y_pred = model.predict(data_set)\n",
        "  calc_Acc(new_y_pred, y_test)\n",
        "  MD = get_MD(y_pred, new_y_pred, y_test)\n",
        "\n",
        "  print(\"      \" + \"static threshold\")\n",
        "  for s in PMD_By_Static_Threshold :\n",
        "    print(\"        \" + str(st) + \"st static threshold\")\n",
        "    st = st + 1\n",
        "    Stp.append(get_PMD_Precision(MD, s))\n",
        "    Str.append(get_PMD_Recall(MD, s))\n",
        "    print()\n",
        "\n",
        "  print(\"      \" + \"dynamic threshold\")\n",
        "  for d in PMD_By_Dynamic_Threshold :\n",
        "    print(\"        \" + str(dt) + \"st dynamic threshold\")\n",
        "    dt = dt + 1\n",
        "    Dtp.append(get_PMD_Precision(MD, d))\n",
        "    Dtr.append(get_PMD_Recall(MD, d))\n",
        "    print()\n",
        "\n",
        "  return Stp, Dtp, Str, Dtr"
      ],
      "execution_count": 35,
      "outputs": []
    },
    {
      "cell_type": "code",
      "metadata": {
        "id": "mSi2OB_qmySh"
      },
      "source": [
        "def get_Avg_Result(lists) : #\n",
        "  x = len(lists[0]) # static = 9, dynamic = 4\n",
        "  y = len(lists)    # aggmentation, reduction = 4, rotate = 9\n",
        "  Avg = []\n",
        "\n",
        "  for i in range(x) :\n",
        "    temp = 0\n",
        "    for j in range(y) :\n",
        "      temp = temp + lists[j][i]\n",
        "    Avg.append(temp/y)\n",
        "  return Avg"
      ],
      "execution_count": 36,
      "outputs": []
    },
    {
      "cell_type": "code",
      "metadata": {
        "id": "RJCLUChxmyU8"
      },
      "source": [
        "def validation(PMD_By_Static_Threshold, PMD_By_Dynamic_Threshold, y_pred, y_test, list_of_rate, rotated = False) : #\n",
        "\n",
        "  stp_Result = []\n",
        "  dtp_Result = []\n",
        "  str_Result = []\n",
        "  dtr_Result = []\n",
        "\n",
        "  for rate in list_of_rate :\n",
        "    if rotated :\n",
        "      data_set = rotate_img_set(x_test, rate)\n",
        "    else :\n",
        "      data_set = size_Adjust(x_test, rate)\n",
        "    data_set = np.array(data_set)\n",
        "\n",
        "    Stp, Dtp, Str, Dtr = get_Result(PMD_By_Static_Threshold, PMD_By_Dynamic_Threshold, data_set, y_pred, y_test)\n",
        "    stp_Result.append(Stp)\n",
        "    dtp_Result.append(Dtp)\n",
        "    str_Result.append(Str)\n",
        "    dtr_Result.append(Dtr)\n",
        "\n",
        "  stp_Result = get_Avg_Result(stp_Result)\n",
        "  dtp_Result = get_Avg_Result(dtp_Result)\n",
        "  str_Result = get_Avg_Result(str_Result)\n",
        "  dtr_Result = get_Avg_Result(dtr_Result)\n",
        "  return stp_Result, dtp_Result, str_Result, dtr_Result"
      ],
      "execution_count": 37,
      "outputs": []
    },
    {
      "cell_type": "code",
      "metadata": {
        "id": "defBG3mcmyXJ"
      },
      "source": [
        "def print_Result(stp_Result, dtp_Result, str_Result, dtr_Result, comments, staticThreshold, dynamicThreshold) :\n",
        "  print(comments)\n",
        "  print(staticThreshold)\n",
        "  print(stp_Result)\n",
        "  print(str_Result)\n",
        "  print(dynamicThreshold)\n",
        "  print(dtp_Result)\n",
        "  print(dtr_Result)"
      ],
      "execution_count": 38,
      "outputs": []
    },
    {
      "cell_type": "code",
      "metadata": {
        "id": "vFt3Pd0vmUJ-"
      },
      "source": [
        "list_of_ag_rate = [1.1, 1.2, 1.3, 1.4]\n",
        "list_of_rd_rate = [0.9, 0.8, 0.7, 0.6]\n",
        "list_of_degree = [10, 20, 30, 40, 50, 60 ,70, 80 ,90]"
      ],
      "execution_count": 39,
      "outputs": []
    },
    {
      "cell_type": "code",
      "metadata": {
        "id": "A0VMQdfKm1gU",
        "colab": {
          "base_uri": "https://localhost:8080/"
        },
        "outputId": "5e1273da-fafc-4d9b-e00f-4e3cb5c2f5da"
      },
      "source": [
        "rot_Stp, rot_Dtp, rot_Str, rot_Dtr = validation(PMD_By_Static_Threshold, PMD_By_Dynamic_Threshold, y_pred, y_test, list_of_degree, True)   ## rotated"
      ],
      "execution_count": 40,
      "outputs": [
        {
          "output_type": "stream",
          "text": [
            "rotate 10degree\n",
            "  Acc : 0.6622\n",
            "    Find MD : 903\n",
            "      static threshold\n",
            "        1st static threshold\n",
            "        Precision : 0.3623529411764706\n",
            "        Recall : 0.6821705426356589\n",
            "\n",
            "        2st static threshold\n",
            "        Precision : 0.4174917491749175\n",
            "        Recall : 0.5603543743078627\n",
            "\n",
            "        3st static threshold\n",
            "        Precision : 0.4504896626768226\n",
            "        Recall : 0.4584717607973422\n",
            "\n",
            "        4st static threshold\n",
            "        Precision : 0.4822190611664296\n",
            "        Recall : 0.3754152823920266\n",
            "\n",
            "        5st static threshold\n",
            "        Precision : 0.5027223230490018\n",
            "        Recall : 0.3067552602436323\n",
            "\n",
            "        6st static threshold\n",
            "        Precision : 0.5314861460957179\n",
            "        Recall : 0.2336655592469546\n",
            "\n",
            "        7st static threshold\n",
            "        Precision : 0.548\n",
            "        Recall : 0.15171650055370986\n",
            "\n",
            "        8st static threshold\n",
            "        Precision : 0.5949367088607594\n",
            "        Recall : 0.10409745293466224\n",
            "\n",
            "        9st static threshold\n",
            "        Precision : 0.6153846153846154\n",
            "        Recall : 0.07087486157253599\n",
            "\n",
            "      dynamic threshold\n",
            "        1st dynamic threshold\n",
            "        Precision : 0.5546558704453441\n",
            "        Recall : 0.15171650055370986\n",
            "\n",
            "        2st dynamic threshold\n",
            "        Precision : 0.6666666666666666\n",
            "        Recall : 0.01107419712070875\n",
            "\n",
            "        3st dynamic threshold\n",
            "        Precision : 0.631578947368421\n",
            "        Recall : 0.013289036544850499\n",
            "\n",
            "        4st dynamic threshold\n",
            "        Precision : 0.64\n",
            "        Recall : 0.017718715393133997\n",
            "\n",
            "rotate 20degree\n",
            "  Acc : 0.5221\n",
            "    Find MD : 2292\n",
            "      static threshold\n",
            "        1st static threshold\n",
            "        Precision : 0.5311764705882352\n",
            "        Recall : 0.39397905759162305\n",
            "\n",
            "        2st static threshold\n",
            "        Precision : 0.5627062706270627\n",
            "        Recall : 0.2975567190226876\n",
            "\n",
            "        3st static threshold\n",
            "        Precision : 0.5843307943416758\n",
            "        Recall : 0.2342931937172775\n",
            "\n",
            "        4st static threshold\n",
            "        Precision : 0.604551920341394\n",
            "        Recall : 0.18542757417102967\n",
            "\n",
            "        5st static threshold\n",
            "        Precision : 0.6152450090744102\n",
            "        Recall : 0.14790575916230367\n",
            "\n",
            "        6st static threshold\n",
            "        Precision : 0.6397984886649875\n",
            "        Recall : 0.11082024432809773\n",
            "\n",
            "        7st static threshold\n",
            "        Precision : 0.652\n",
            "        Recall : 0.07111692844677138\n",
            "\n",
            "        8st static threshold\n",
            "        Precision : 0.6645569620253164\n",
            "        Recall : 0.04581151832460733\n",
            "\n",
            "        9st static threshold\n",
            "        Precision : 0.6634615384615384\n",
            "        Recall : 0.030104712041884817\n",
            "\n",
            "      dynamic threshold\n",
            "        1st dynamic threshold\n",
            "        Precision : 0.6518218623481782\n",
            "        Recall : 0.07024432809773123\n",
            "\n",
            "        2st dynamic threshold\n",
            "        Precision : 0.6666666666666666\n",
            "        Recall : 0.004363001745200698\n",
            "\n",
            "        3st dynamic threshold\n",
            "        Precision : 0.6842105263157895\n",
            "        Recall : 0.005671902268760907\n",
            "\n",
            "        4st dynamic threshold\n",
            "        Precision : 0.64\n",
            "        Recall : 0.006980802792321117\n",
            "\n",
            "rotate 30degree\n",
            "  Acc : 0.3903\n",
            "    Find MD : 3539\n",
            "      static threshold\n",
            "        1st static threshold\n",
            "        Precision : 0.6641176470588235\n",
            "        Recall : 0.31901667137609496\n",
            "\n",
            "        2st static threshold\n",
            "        Precision : 0.6782178217821783\n",
            "        Recall : 0.23226900254309127\n",
            "\n",
            "        3st static threshold\n",
            "        Precision : 0.6866158868335147\n",
            "        Recall : 0.17829895450692285\n",
            "\n",
            "        4st static threshold\n",
            "        Precision : 0.6984352773826458\n",
            "        Recall : 0.138739756993501\n",
            "\n",
            "        5st static threshold\n",
            "        Precision : 0.7150635208711433\n",
            "        Recall : 0.11133088443063012\n",
            "\n",
            "        6st static threshold\n",
            "        Precision : 0.7380352644836272\n",
            "        Recall : 0.08279174908166148\n",
            "\n",
            "        7st static threshold\n",
            "        Precision : 0.752\n",
            "        Recall : 0.053122350946595086\n",
            "\n",
            "        8st static threshold\n",
            "        Precision : 0.8037974683544303\n",
            "        Recall : 0.03588584345860413\n",
            "\n",
            "        9st static threshold\n",
            "        Precision : 0.8076923076923077\n",
            "        Recall : 0.02373551850805312\n",
            "\n",
            "      dynamic threshold\n",
            "        1st dynamic threshold\n",
            "        Precision : 0.7489878542510121\n",
            "        Recall : 0.052274653857021756\n",
            "\n",
            "        2st dynamic threshold\n",
            "        Precision : 0.7333333333333333\n",
            "        Recall : 0.0031082226617688614\n",
            "\n",
            "        3st dynamic threshold\n",
            "        Precision : 0.7894736842105263\n",
            "        Recall : 0.004238485447866629\n",
            "\n",
            "        4st dynamic threshold\n",
            "        Precision : 0.84\n",
            "        Recall : 0.00593387962701328\n",
            "\n",
            "rotate 40degree\n",
            "  Acc : 0.3182\n",
            "    Find MD : 4241\n",
            "      static threshold\n",
            "        1st static threshold\n",
            "        Precision : 0.731764705882353\n",
            "        Recall : 0.2933270455081349\n",
            "\n",
            "        2st static threshold\n",
            "        Precision : 0.7475247524752475\n",
            "        Recall : 0.21362886111766094\n",
            "\n",
            "        3st static threshold\n",
            "        Precision : 0.7606093579978237\n",
            "        Recall : 0.1648196180146192\n",
            "\n",
            "        4st static threshold\n",
            "        Precision : 0.7795163584637269\n",
            "        Recall : 0.12921480782834238\n",
            "\n",
            "        5st static threshold\n",
            "        Precision : 0.7912885662431942\n",
            "        Recall : 0.10280594199481255\n",
            "\n",
            "        6st static threshold\n",
            "        Precision : 0.7909319899244333\n",
            "        Recall : 0.0740391417118604\n",
            "\n",
            "        7st static threshold\n",
            "        Precision : 0.808\n",
            "        Recall : 0.04763027587833058\n",
            "\n",
            "        8st static threshold\n",
            "        Precision : 0.8481012658227848\n",
            "        Recall : 0.0315963216222589\n",
            "\n",
            "        9st static threshold\n",
            "        Precision : 0.8653846153846154\n",
            "        Recall : 0.021221410044800753\n",
            "\n",
            "      dynamic threshold\n",
            "        1st dynamic threshold\n",
            "        Precision : 0.8097165991902834\n",
            "        Recall : 0.04715868898844612\n",
            "\n",
            "        2st dynamic threshold\n",
            "        Precision : 0.8\n",
            "        Recall : 0.0028295213393067674\n",
            "\n",
            "        3st dynamic threshold\n",
            "        Precision : 0.8421052631578947\n",
            "        Recall : 0.00377269511907569\n",
            "\n",
            "        4st dynamic threshold\n",
            "        Precision : 0.88\n",
            "        Recall : 0.005187455788729073\n",
            "\n",
            "rotate 50degree\n",
            "  Acc : 0.2755\n",
            "    Find MD : 4623\n",
            "      static threshold\n",
            "        1st static threshold\n",
            "        Precision : 0.7652941176470588\n",
            "        Recall : 0.281418991996539\n",
            "\n",
            "        2st static threshold\n",
            "        Precision : 0.773102310231023\n",
            "        Recall : 0.2026822409690677\n",
            "\n",
            "        3st static threshold\n",
            "        Precision : 0.7845484221980413\n",
            "        Recall : 0.15595933376595283\n",
            "\n",
            "        4st static threshold\n",
            "        Precision : 0.8051209103840683\n",
            "        Recall : 0.12243132165260653\n",
            "\n",
            "        5st static threshold\n",
            "        Precision : 0.8148820326678766\n",
            "        Recall : 0.09712308025091931\n",
            "\n",
            "        6st static threshold\n",
            "        Precision : 0.8211586901763224\n",
            "        Recall : 0.07051698031581224\n",
            "\n",
            "        7st static threshold\n",
            "        Precision : 0.832\n",
            "        Recall : 0.04499242915855505\n",
            "\n",
            "        8st static threshold\n",
            "        Precision : 0.8734177215189873\n",
            "        Recall : 0.029850746268656716\n",
            "\n",
            "        9st static threshold\n",
            "        Precision : 0.875\n",
            "        Recall : 0.019684187756867835\n",
            "\n",
            "      dynamic threshold\n",
            "        1st dynamic threshold\n",
            "        Precision : 0.8299595141700404\n",
            "        Recall : 0.04434349989184512\n",
            "\n",
            "        2st dynamic threshold\n",
            "        Precision : 0.8\n",
            "        Recall : 0.0025957170668397143\n",
            "\n",
            "        3st dynamic threshold\n",
            "        Precision : 0.8421052631578947\n",
            "        Recall : 0.0034609560891196195\n",
            "\n",
            "        4st dynamic threshold\n",
            "        Precision : 0.88\n",
            "        Recall : 0.004758814622539477\n",
            "\n",
            "rotate 60degree\n",
            "  Acc : 0.2624\n",
            "    Find MD : 4769\n",
            "      static threshold\n",
            "        1st static threshold\n",
            "        Precision : 0.7735294117647059\n",
            "        Recall : 0.275739148668484\n",
            "\n",
            "        2st static threshold\n",
            "        Precision : 0.7863036303630363\n",
            "        Recall : 0.19983224994757812\n",
            "\n",
            "        3st static threshold\n",
            "        Precision : 0.7997823721436343\n",
            "        Recall : 0.1541203606626127\n",
            "\n",
            "        4st static threshold\n",
            "        Precision : 0.8065433854907539\n",
            "        Recall : 0.11889284965401552\n",
            "\n",
            "        5st static threshold\n",
            "        Precision : 0.8148820326678766\n",
            "        Recall : 0.09414971692178654\n",
            "\n",
            "        6st static threshold\n",
            "        Precision : 0.818639798488665\n",
            "        Recall : 0.06814845879639338\n",
            "\n",
            "        7st static threshold\n",
            "        Precision : 0.832\n",
            "        Recall : 0.04361501362969176\n",
            "\n",
            "        8st static threshold\n",
            "        Precision : 0.8417721518987342\n",
            "        Recall : 0.027888446215139442\n",
            "\n",
            "        9st static threshold\n",
            "        Precision : 0.8173076923076923\n",
            "        Recall : 0.01782344306982596\n",
            "\n",
            "      dynamic threshold\n",
            "        1st dynamic threshold\n",
            "        Precision : 0.8299595141700404\n",
            "        Recall : 0.04298595093310967\n",
            "\n",
            "        2st dynamic threshold\n",
            "        Precision : 0.7333333333333333\n",
            "        Recall : 0.0023065632208010066\n",
            "\n",
            "        3st dynamic threshold\n",
            "        Precision : 0.7894736842105263\n",
            "        Recall : 0.003145313482910463\n",
            "\n",
            "        4st dynamic threshold\n",
            "        Precision : 0.8\n",
            "        Recall : 0.004193751310547285\n",
            "\n",
            "rotate 70degree\n",
            "  Acc : 0.269\n",
            "    Find MD : 4711\n",
            "      static threshold\n",
            "        1st static threshold\n",
            "        Precision : 0.7705882352941177\n",
            "        Recall : 0.2780725960517937\n",
            "\n",
            "        2st static threshold\n",
            "        Precision : 0.7871287128712872\n",
            "        Recall : 0.20250477605603906\n",
            "\n",
            "        3st static threshold\n",
            "        Precision : 0.7910772578890098\n",
            "        Recall : 0.15431967735088092\n",
            "\n",
            "        4st static threshold\n",
            "        Precision : 0.7980085348506402\n",
            "        Recall : 0.11908299724050095\n",
            "\n",
            "        5st static threshold\n",
            "        Precision : 0.8021778584392014\n",
            "        Recall : 0.09382296752281893\n",
            "\n",
            "        6st static threshold\n",
            "        Precision : 0.8060453400503779\n",
            "        Recall : 0.06792613033326257\n",
            "\n",
            "        7st static threshold\n",
            "        Precision : 0.824\n",
            "        Recall : 0.04372744640203778\n",
            "\n",
            "        8st static threshold\n",
            "        Precision : 0.8417721518987342\n",
            "        Recall : 0.02823179791976226\n",
            "\n",
            "        9st static threshold\n",
            "        Precision : 0.8557692307692307\n",
            "        Recall : 0.018891954998938653\n",
            "\n",
            "      dynamic threshold\n",
            "        1st dynamic threshold\n",
            "        Precision : 0.8218623481781376\n",
            "        Recall : 0.04309063893016345\n",
            "\n",
            "        2st dynamic threshold\n",
            "        Precision : 0.7333333333333333\n",
            "        Recall : 0.002334960730205901\n",
            "\n",
            "        3st dynamic threshold\n",
            "        Precision : 0.7894736842105263\n",
            "        Recall : 0.0031840373593716833\n",
            "\n",
            "        4st dynamic threshold\n",
            "        Precision : 0.8\n",
            "        Recall : 0.004245383145828911\n",
            "\n",
            "rotate 80degree\n",
            "  Acc : 0.2773\n",
            "    Find MD : 4630\n",
            "      static threshold\n",
            "        1st static threshold\n",
            "        Precision : 0.7741176470588236\n",
            "        Recall : 0.2842332613390929\n",
            "\n",
            "        2st static threshold\n",
            "        Precision : 0.7912541254125413\n",
            "        Recall : 0.20712742980561555\n",
            "\n",
            "        3st static threshold\n",
            "        Precision : 0.794341675734494\n",
            "        Recall : 0.15766738660907129\n",
            "\n",
            "        4st static threshold\n",
            "        Precision : 0.8036984352773826\n",
            "        Recall : 0.12203023758099352\n",
            "\n",
            "        5st static threshold\n",
            "        Precision : 0.8112522686025408\n",
            "        Recall : 0.09654427645788337\n",
            "\n",
            "        6st static threshold\n",
            "        Precision : 0.8110831234256927\n",
            "        Recall : 0.0695464362850972\n",
            "\n",
            "        7st static threshold\n",
            "        Precision : 0.816\n",
            "        Recall : 0.044060475161987044\n",
            "\n",
            "        8st static threshold\n",
            "        Precision : 0.8354430379746836\n",
            "        Recall : 0.028509719222462204\n",
            "\n",
            "        9st static threshold\n",
            "        Precision : 0.8173076923076923\n",
            "        Recall : 0.0183585313174946\n",
            "\n",
            "      dynamic threshold\n",
            "        1st dynamic threshold\n",
            "        Precision : 0.8137651821862348\n",
            "        Recall : 0.04341252699784017\n",
            "\n",
            "        2st dynamic threshold\n",
            "        Precision : 0.7333333333333333\n",
            "        Recall : 0.0023758099352051837\n",
            "\n",
            "        3st dynamic threshold\n",
            "        Precision : 0.7894736842105263\n",
            "        Recall : 0.0032397408207343412\n",
            "\n",
            "        4st dynamic threshold\n",
            "        Precision : 0.76\n",
            "        Recall : 0.004103671706263499\n",
            "\n",
            "rotate 90degree\n",
            "  Acc : 0.2764\n",
            "    Find MD : 4618\n",
            "      static threshold\n",
            "        1st static threshold\n",
            "        Precision : 0.7764705882352941\n",
            "        Recall : 0.28583802511909917\n",
            "\n",
            "        2st static threshold\n",
            "        Precision : 0.783003300330033\n",
            "        Recall : 0.20550021654395842\n",
            "\n",
            "        3st static threshold\n",
            "        Precision : 0.7932535364526659\n",
            "        Recall : 0.15786054569077523\n",
            "\n",
            "        4st static threshold\n",
            "        Precision : 0.8108108108108109\n",
            "        Recall : 0.12343005630142918\n",
            "\n",
            "        5st static threshold\n",
            "        Precision : 0.8112522686025408\n",
            "        Recall : 0.09679514941533131\n",
            "\n",
            "        6st static threshold\n",
            "        Precision : 0.801007556675063\n",
            "        Recall : 0.06886097877869207\n",
            "\n",
            "        7st static threshold\n",
            "        Precision : 0.816\n",
            "        Recall : 0.04417496751840624\n",
            "\n",
            "        8st static threshold\n",
            "        Precision : 0.8291139240506329\n",
            "        Recall : 0.028367258553486357\n",
            "\n",
            "        9st static threshold\n",
            "        Precision : 0.8365384615384616\n",
            "        Recall : 0.018839324382849718\n",
            "\n",
            "      dynamic threshold\n",
            "        1st dynamic threshold\n",
            "        Precision : 0.8137651821862348\n",
            "        Recall : 0.04352533564313556\n",
            "\n",
            "        2st dynamic threshold\n",
            "        Precision : 0.6666666666666666\n",
            "        Recall : 0.0021654395842356\n",
            "\n",
            "        3st dynamic threshold\n",
            "        Precision : 0.7368421052631579\n",
            "        Recall : 0.0030316154179298397\n",
            "\n",
            "        4st dynamic threshold\n",
            "        Precision : 0.76\n",
            "        Recall : 0.00411433521004764\n",
            "\n"
          ],
          "name": "stdout"
        }
      ]
    },
    {
      "cell_type": "code",
      "metadata": {
        "id": "sa70848Vm1ij",
        "colab": {
          "base_uri": "https://localhost:8080/"
        },
        "outputId": "83fa43c5-9f7f-4919-f6fe-0a8ba9dd19d5"
      },
      "source": [
        "ag_Stp, ag_Dtp, ag_Str, ag_Dtr = validation(PMD_By_Static_Threshold, PMD_By_Dynamic_Threshold, y_pred, y_test, list_of_ag_rate, False)    ## augmentation"
      ],
      "execution_count": 41,
      "outputs": [
        {
          "output_type": "stream",
          "text": [
            "augmentation 1.1%\n",
            "  Acc : 0.6783\n",
            "    Find MD : 804\n",
            "      static threshold\n",
            "        1st static threshold\n",
            "        Precision : 0.3388235294117647\n",
            "        Recall : 0.7164179104477612\n",
            "\n",
            "        2st static threshold\n",
            "        Precision : 0.38366336633663367\n",
            "        Recall : 0.5783582089552238\n",
            "\n",
            "        3st static threshold\n",
            "        Precision : 0.4102285092491839\n",
            "        Recall : 0.4689054726368159\n",
            "\n",
            "        4st static threshold\n",
            "        Precision : 0.44096728307254623\n",
            "        Recall : 0.3855721393034826\n",
            "\n",
            "        5st static threshold\n",
            "        Precision : 0.4537205081669691\n",
            "        Recall : 0.31094527363184077\n",
            "\n",
            "        6st static threshold\n",
            "        Precision : 0.4634760705289673\n",
            "        Recall : 0.22885572139303484\n",
            "\n",
            "        7st static threshold\n",
            "        Precision : 0.496\n",
            "        Recall : 0.15422885572139303\n",
            "\n",
            "        8st static threshold\n",
            "        Precision : 0.5316455696202531\n",
            "        Recall : 0.1044776119402985\n",
            "\n",
            "        9st static threshold\n",
            "        Precision : 0.5865384615384616\n",
            "        Recall : 0.07587064676616916\n",
            "\n",
            "      dynamic threshold\n",
            "        1st dynamic threshold\n",
            "        Precision : 0.4979757085020243\n",
            "        Recall : 0.15298507462686567\n",
            "\n",
            "        2st dynamic threshold\n",
            "        Precision : 0.4\n",
            "        Recall : 0.007462686567164179\n",
            "\n",
            "        3st dynamic threshold\n",
            "        Precision : 0.47368421052631576\n",
            "        Recall : 0.011194029850746268\n",
            "\n",
            "        4st dynamic threshold\n",
            "        Precision : 0.44\n",
            "        Recall : 0.013681592039800995\n",
            "\n",
            "augmentation 1.2%\n",
            "  Acc : 0.647\n",
            "    Find MD : 1200\n",
            "      static threshold\n",
            "        1st static threshold\n",
            "        Precision : 0.4117647058823529\n",
            "        Recall : 0.5833333333333334\n",
            "\n",
            "        2st static threshold\n",
            "        Precision : 0.44801980198019803\n",
            "        Recall : 0.4525\n",
            "\n",
            "        3st static threshold\n",
            "        Precision : 0.48313384113166485\n",
            "        Recall : 0.37\n",
            "\n",
            "        4st static threshold\n",
            "        Precision : 0.5021337126600285\n",
            "        Recall : 0.2941666666666667\n",
            "\n",
            "        5st static threshold\n",
            "        Precision : 0.5136116152450091\n",
            "        Recall : 0.23583333333333334\n",
            "\n",
            "        6st static threshold\n",
            "        Precision : 0.5289672544080605\n",
            "        Recall : 0.175\n",
            "\n",
            "        7st static threshold\n",
            "        Precision : 0.58\n",
            "        Recall : 0.12083333333333333\n",
            "\n",
            "        8st static threshold\n",
            "        Precision : 0.6139240506329114\n",
            "        Recall : 0.08083333333333333\n",
            "\n",
            "        9st static threshold\n",
            "        Precision : 0.6346153846153846\n",
            "        Recall : 0.055\n",
            "\n",
            "      dynamic threshold\n",
            "        1st dynamic threshold\n",
            "        Precision : 0.5789473684210527\n",
            "        Recall : 0.11916666666666667\n",
            "\n",
            "        2st dynamic threshold\n",
            "        Precision : 0.6666666666666666\n",
            "        Recall : 0.008333333333333333\n",
            "\n",
            "        3st dynamic threshold\n",
            "        Precision : 0.5789473684210527\n",
            "        Recall : 0.009166666666666667\n",
            "\n",
            "        4st dynamic threshold\n",
            "        Precision : 0.6\n",
            "        Recall : 0.0125\n",
            "\n",
            "augmentation 1.3%\n",
            "  Acc : 0.5968\n",
            "    Find MD : 1731\n",
            "      static threshold\n",
            "        1st static threshold\n",
            "        Precision : 0.4711764705882353\n",
            "        Recall : 0.462738301559792\n",
            "\n",
            "        2st static threshold\n",
            "        Precision : 0.5\n",
            "        Recall : 0.35008665511265163\n",
            "\n",
            "        3st static threshold\n",
            "        Precision : 0.5310119695321001\n",
            "        Recall : 0.28191796649335643\n",
            "\n",
            "        4st static threshold\n",
            "        Precision : 0.5490753911806543\n",
            "        Recall : 0.22299248989023684\n",
            "\n",
            "        5st static threshold\n",
            "        Precision : 0.5553539019963702\n",
            "        Recall : 0.17677642980935876\n",
            "\n",
            "        6st static threshold\n",
            "        Precision : 0.5793450881612091\n",
            "        Recall : 0.13287117273252455\n",
            "\n",
            "        7st static threshold\n",
            "        Precision : 0.608\n",
            "        Recall : 0.0878105141536684\n",
            "\n",
            "        8st static threshold\n",
            "        Precision : 0.6455696202531646\n",
            "        Recall : 0.058925476603119586\n",
            "\n",
            "        9st static threshold\n",
            "        Precision : 0.6634615384615384\n",
            "        Recall : 0.03986135181975736\n",
            "\n",
            "      dynamic threshold\n",
            "        1st dynamic threshold\n",
            "        Precision : 0.6032388663967612\n",
            "        Recall : 0.08607741190063548\n",
            "\n",
            "        2st dynamic threshold\n",
            "        Precision : 0.8\n",
            "        Recall : 0.006932409012131715\n",
            "\n",
            "        3st dynamic threshold\n",
            "        Precision : 0.6842105263157895\n",
            "        Recall : 0.007510109763142692\n",
            "\n",
            "        4st dynamic threshold\n",
            "        Precision : 0.68\n",
            "        Recall : 0.009820912767186597\n",
            "\n",
            "augmentation 1.4%\n",
            "  Acc : 0.5177\n",
            "    Find MD : 2467\n",
            "      static threshold\n",
            "        1st static threshold\n",
            "        Precision : 0.5494117647058824\n",
            "        Recall : 0.37859748682610456\n",
            "\n",
            "        2st static threshold\n",
            "        Precision : 0.5635313531353136\n",
            "        Recall : 0.27685447912444267\n",
            "\n",
            "        3st static threshold\n",
            "        Precision : 0.5843307943416758\n",
            "        Recall : 0.21767328739359545\n",
            "\n",
            "        4st static threshold\n",
            "        Precision : 0.6059743954480796\n",
            "        Recall : 0.17267936765301986\n",
            "\n",
            "        5st static threshold\n",
            "        Precision : 0.6025408348457351\n",
            "        Recall : 0.1345764085934333\n",
            "\n",
            "        6st static threshold\n",
            "        Precision : 0.6297229219143576\n",
            "        Recall : 0.10133765707336846\n",
            "\n",
            "        7st static threshold\n",
            "        Precision : 0.648\n",
            "        Recall : 0.06566680178354277\n",
            "\n",
            "        8st static threshold\n",
            "        Precision : 0.6582278481012658\n",
            "        Recall : 0.04215646534252128\n",
            "\n",
            "        9st static threshold\n",
            "        Precision : 0.6538461538461539\n",
            "        Recall : 0.027563842723956223\n",
            "\n",
            "      dynamic threshold\n",
            "        1st dynamic threshold\n",
            "        Precision : 0.6437246963562753\n",
            "        Recall : 0.06445074989866234\n",
            "\n",
            "        2st dynamic threshold\n",
            "        Precision : 0.8\n",
            "        Recall : 0.004864207539521687\n",
            "\n",
            "        3st dynamic threshold\n",
            "        Precision : 0.6842105263157895\n",
            "        Recall : 0.00526955816781516\n",
            "\n",
            "        4st dynamic threshold\n",
            "        Precision : 0.68\n",
            "        Recall : 0.006890960680989056\n",
            "\n"
          ],
          "name": "stdout"
        }
      ]
    },
    {
      "cell_type": "code",
      "metadata": {
        "id": "DitVEFnIm1ku",
        "colab": {
          "base_uri": "https://localhost:8080/"
        },
        "outputId": "dadef8e7-eda4-4f98-b0c0-c203b9e9b117"
      },
      "source": [
        "rd_Stp, rd_Dtp, rd_Str, rd_Dtr = validation(PMD_By_Static_Threshold, PMD_By_Dynamic_Threshold, y_pred, y_test, list_of_rd_rate, False)   ## reduction"
      ],
      "execution_count": 42,
      "outputs": [
        {
          "output_type": "stream",
          "text": [
            "reduction 0.9%\n",
            "  Acc : 0.6608\n",
            "    Find MD : 1034\n",
            "      static threshold\n",
            "        1st static threshold\n",
            "        Precision : 0.39176470588235296\n",
            "        Recall : 0.6441005802707931\n",
            "\n",
            "        2st static threshold\n",
            "        Precision : 0.44471947194719474\n",
            "        Recall : 0.5212765957446809\n",
            "\n",
            "        3st static threshold\n",
            "        Precision : 0.47986942328618065\n",
            "        Recall : 0.42649903288201163\n",
            "\n",
            "        4st static threshold\n",
            "        Precision : 0.5106685633001422\n",
            "        Recall : 0.3471953578336557\n",
            "\n",
            "        5st static threshold\n",
            "        Precision : 0.5553539019963702\n",
            "        Recall : 0.29593810444874274\n",
            "\n",
            "        6st static threshold\n",
            "        Precision : 0.5617128463476071\n",
            "        Recall : 0.21566731141199227\n",
            "\n",
            "        7st static threshold\n",
            "        Precision : 0.616\n",
            "        Recall : 0.14893617021276595\n",
            "\n",
            "        8st static threshold\n",
            "        Precision : 0.6582278481012658\n",
            "        Recall : 0.10058027079303675\n",
            "\n",
            "        9st static threshold\n",
            "        Precision : 0.6442307692307693\n",
            "        Recall : 0.06479690522243714\n",
            "\n",
            "      dynamic threshold\n",
            "        1st dynamic threshold\n",
            "        Precision : 0.6153846153846154\n",
            "        Recall : 0.1470019342359768\n",
            "\n",
            "        2st dynamic threshold\n",
            "        Precision : 0.6\n",
            "        Recall : 0.008704061895551257\n",
            "\n",
            "        3st dynamic threshold\n",
            "        Precision : 0.6842105263157895\n",
            "        Recall : 0.012572533849129593\n",
            "\n",
            "        4st dynamic threshold\n",
            "        Precision : 0.68\n",
            "        Recall : 0.01644100580270793\n",
            "\n",
            "reduction 0.8%\n",
            "  Acc : 0.642\n",
            "    Find MD : 1168\n",
            "      static threshold\n",
            "        1st static threshold\n",
            "        Precision : 0.4252941176470588\n",
            "        Recall : 0.6190068493150684\n",
            "\n",
            "        2st static threshold\n",
            "        Precision : 0.4735973597359736\n",
            "        Recall : 0.4914383561643836\n",
            "\n",
            "        3st static threshold\n",
            "        Precision : 0.5070729053318824\n",
            "        Recall : 0.398972602739726\n",
            "\n",
            "        4st static threshold\n",
            "        Precision : 0.5405405405405406\n",
            "        Recall : 0.3253424657534247\n",
            "\n",
            "        5st static threshold\n",
            "        Precision : 0.5698729582577132\n",
            "        Recall : 0.2688356164383562\n",
            "\n",
            "        6st static threshold\n",
            "        Precision : 0.5869017632241813\n",
            "        Recall : 0.199486301369863\n",
            "\n",
            "        7st static threshold\n",
            "        Precision : 0.616\n",
            "        Recall : 0.13184931506849315\n",
            "\n",
            "        8st static threshold\n",
            "        Precision : 0.6329113924050633\n",
            "        Recall : 0.08561643835616438\n",
            "\n",
            "        9st static threshold\n",
            "        Precision : 0.6346153846153846\n",
            "        Recall : 0.05650684931506849\n",
            "\n",
            "      dynamic threshold\n",
            "        1st dynamic threshold\n",
            "        Precision : 0.6153846153846154\n",
            "        Recall : 0.13013698630136986\n",
            "\n",
            "        2st dynamic threshold\n",
            "        Precision : 0.6666666666666666\n",
            "        Recall : 0.008561643835616438\n",
            "\n",
            "        3st dynamic threshold\n",
            "        Precision : 0.7368421052631579\n",
            "        Recall : 0.011986301369863013\n",
            "\n",
            "        4st dynamic threshold\n",
            "        Precision : 0.76\n",
            "        Recall : 0.016267123287671232\n",
            "\n",
            "reduction 0.7%\n",
            "  Acc : 0.5382\n",
            "    Find MD : 2140\n",
            "      static threshold\n",
            "        1st static threshold\n",
            "        Precision : 0.5676470588235294\n",
            "        Recall : 0.45093457943925236\n",
            "\n",
            "        2st static threshold\n",
            "        Precision : 0.6039603960396039\n",
            "        Recall : 0.34205607476635513\n",
            "\n",
            "        3st static threshold\n",
            "        Precision : 0.6322089227421109\n",
            "        Recall : 0.2714953271028037\n",
            "\n",
            "        4st static threshold\n",
            "        Precision : 0.6500711237553343\n",
            "        Recall : 0.21355140186915889\n",
            "\n",
            "        5st static threshold\n",
            "        Precision : 0.6588021778584392\n",
            "        Recall : 0.16962616822429907\n",
            "\n",
            "        6st static threshold\n",
            "        Precision : 0.6599496221662469\n",
            "        Recall : 0.12242990654205607\n",
            "\n",
            "        7st static threshold\n",
            "        Precision : 0.716\n",
            "        Recall : 0.08364485981308412\n",
            "\n",
            "        8st static threshold\n",
            "        Precision : 0.7468354430379747\n",
            "        Recall : 0.05514018691588785\n",
            "\n",
            "        9st static threshold\n",
            "        Precision : 0.7788461538461539\n",
            "        Recall : 0.03785046728971963\n",
            "\n",
            "      dynamic threshold\n",
            "        1st dynamic threshold\n",
            "        Precision : 0.7165991902834008\n",
            "        Recall : 0.08271028037383178\n",
            "\n",
            "        2st dynamic threshold\n",
            "        Precision : 0.6666666666666666\n",
            "        Recall : 0.004672897196261682\n",
            "\n",
            "        3st dynamic threshold\n",
            "        Precision : 0.6842105263157895\n",
            "        Recall : 0.006074766355140187\n",
            "\n",
            "        4st dynamic threshold\n",
            "        Precision : 0.72\n",
            "        Recall : 0.008411214953271028\n",
            "\n",
            "reduction 0.6%\n",
            "  Acc : 0.3951\n",
            "    Find MD : 3492\n",
            "      static threshold\n",
            "        1st static threshold\n",
            "        Precision : 0.7270588235294118\n",
            "        Recall : 0.3539518900343643\n",
            "\n",
            "        2st static threshold\n",
            "        Precision : 0.7541254125412541\n",
            "        Recall : 0.26174112256586485\n",
            "\n",
            "        3st static threshold\n",
            "        Precision : 0.7736670293797606\n",
            "        Recall : 0.2036082474226804\n",
            "\n",
            "        4st static threshold\n",
            "        Precision : 0.7780938833570412\n",
            "        Recall : 0.15664375715922108\n",
            "\n",
            "        5st static threshold\n",
            "        Precision : 0.7894736842105263\n",
            "        Recall : 0.12457044673539519\n",
            "\n",
            "        6st static threshold\n",
            "        Precision : 0.7858942065491183\n",
            "        Recall : 0.08934707903780069\n",
            "\n",
            "        7st static threshold\n",
            "        Precision : 0.812\n",
            "        Recall : 0.05813287514318442\n",
            "\n",
            "        8st static threshold\n",
            "        Precision : 0.8291139240506329\n",
            "        Recall : 0.03751431844215349\n",
            "\n",
            "        9st static threshold\n",
            "        Precision : 0.8653846153846154\n",
            "        Recall : 0.02577319587628866\n",
            "\n",
            "      dynamic threshold\n",
            "        1st dynamic threshold\n",
            "        Precision : 0.8137651821862348\n",
            "        Recall : 0.05756013745704467\n",
            "\n",
            "        2st dynamic threshold\n",
            "        Precision : 0.8\n",
            "        Recall : 0.003436426116838488\n",
            "\n",
            "        3st dynamic threshold\n",
            "        Precision : 0.7894736842105263\n",
            "        Recall : 0.00429553264604811\n",
            "\n",
            "        4st dynamic threshold\n",
            "        Precision : 0.84\n",
            "        Recall : 0.006013745704467354\n",
            "\n"
          ],
          "name": "stdout"
        }
      ]
    },
    {
      "cell_type": "code",
      "metadata": {
        "id": "ZrXKrCdMmULl",
        "colab": {
          "base_uri": "https://localhost:8080/"
        },
        "outputId": "50bd7ec0-7d96-4456-b520-707e073c0de0"
      },
      "source": [
        "print_Result(rot_Stp, rot_Dtp, rot_Str, rot_Dtr, \"Rotation\", staticThreshold, dynamicThreshold)"
      ],
      "execution_count": 43,
      "outputs": [
        {
          "output_type": "stream",
          "text": [
            "Rotation\n",
            "[0.1, 0.2, 0.3, 0.4, 0.5, 0.6, 0.7, 0.8, 0.9]\n",
            "[0.6832679738562092, 0.7029702970297029, 0.7161165518075204, 0.7321005215742058, 0.7420850978019762, 0.7509095997760986, 0.7644444444444445, 0.7925457102672292, 0.7948717948717949]\n",
            "[0.3437550378096134, 0.2579395411459513, 0.20175675901282833, 0.15940720931271615, 0.1274703373777909, 0.09403507543087018, 0.06046182085512053, 0.040026567168848844, 0.026614882632583495]\n",
            "[0.70325565, 1.2572672073494973, 1.2402743461480559, 1.2205302597997145]\n",
            "[0.7638326585695007, 0.7259259259259259, 0.7660818713450293, 0.7777777777777777]\n",
            "[0.059861347099222556, 0.003683714822696943, 0.0047815313945132965, 0.0063596455107138095]\n"
          ],
          "name": "stdout"
        }
      ]
    },
    {
      "cell_type": "code",
      "metadata": {
        "id": "_VcvuKFmm6cJ",
        "colab": {
          "base_uri": "https://localhost:8080/"
        },
        "outputId": "a073ba1f-b598-4ef7-a8ea-cf913e5b88b4"
      },
      "source": [
        "print_Result(ag_Stp, ag_Dtp, ag_Str, ag_Dtr, \"Augmentation\", staticThreshold, dynamicThreshold)"
      ],
      "execution_count": 44,
      "outputs": [
        {
          "output_type": "stream",
          "text": [
            "Augmentation\n",
            "[0.1, 0.2, 0.3, 0.4, 0.5, 0.6, 0.7, 0.8, 0.9]\n",
            "[0.4427941176470588, 0.4738036303630363, 0.5021762785636561, 0.5245376955903271, 0.5313067150635209, 0.5503778337531486, 0.5830000000000001, 0.6123417721518987, 0.6346153846153846]\n",
            "[0.5352717580417478, 0.41444983579807954, 0.33462418163094193, 0.2688526658783515, 0.21453286134199157, 0.15951613779973198, 0.10713487624798439, 0.07159822180481817, 0.04957396032747069]\n",
            "[0.70325565, 1.2572672073494973, 1.2402743461480559, 1.2205302597997145]\n",
            "[0.5809716599190283, 0.6666666666666667, 0.6052631578947368, 0.6000000000000001]\n",
            "[0.10566997577320754, 0.0068981591130377285, 0.008285091112092698, 0.010723366371994163]\n"
          ],
          "name": "stdout"
        }
      ]
    },
    {
      "cell_type": "code",
      "metadata": {
        "id": "uMNQOj9dm6eN",
        "colab": {
          "base_uri": "https://localhost:8080/"
        },
        "outputId": "bb02a515-2ee5-4f6a-9f7e-445c0d3d9cb3"
      },
      "source": [
        "print_Result(rd_Stp, rd_Dtp, rd_Str, rd_Dtr, \"Reduction\", staticThreshold, dynamicThreshold)"
      ],
      "execution_count": 45,
      "outputs": [
        {
          "output_type": "stream",
          "text": [
            "Reduction\n",
            "[0.1, 0.2, 0.3, 0.4, 0.5, 0.6, 0.7, 0.8, 0.9]\n",
            "[0.5279411764705882, 0.5691006600660066, 0.5982045701849836, 0.6198435277382646, 0.6433756805807622, 0.6486146095717884, 0.69, 0.7167721518987342, 0.7307692307692307]\n",
            "[0.5169984747648695, 0.4041280373103211, 0.3251438025368054, 0.2606832456538651, 0.2147425839616983, 0.156732649590428, 0.10564080505938192, 0.06971280362681061, 0.04623185442587848]\n",
            "[0.70325565, 1.2572672073494973, 1.2402743461480559, 1.2205302597997145]\n",
            "[0.6902834008097166, 0.6833333333333333, 0.7236842105263157, 0.75]\n",
            "[0.10435233459205578, 0.006343757261066967, 0.008732283555045225, 0.011783272437029388]\n"
          ],
          "name": "stdout"
        }
      ]
    }
  ]
}